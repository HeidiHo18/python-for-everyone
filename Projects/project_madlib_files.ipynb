{
 "cells": [
  {
   "cell_type": "markdown",
   "metadata": {},
   "source": [
    "# Project: Mad Libs Improved  \n",
    "\n",
    "Last week's Mad Lib generator only worked with a single form of Mad Lib. This week you will read an input file that contains a template for a Mad Lib. Then you will prompt the user for three words and complete the Mad Lib. Your program will be given an input file like this one: \n",
    "\n",
    "```\n",
    "{}! he said {} as he jumped into his convertible and drove off with his {} wife.\n",
    "exclamation\n",
    "adverb\n",
    "adjective\n",
    "```\n",
    "\n",
    "The file will always have exactly four lines. \n",
    "\n",
    "  1. A Mad Lib with three embedded `{}` holes. \n",
    "  2. The *type* of word used to fill the first blank\n",
    "  3. The *type* of word used to fill the second blank \n",
    "  4. The *type* of word used to fill the third blank\n",
    "\n",
    "You project will be executed from the command line with a single argument, the name of the Mad Lib text file. Here's an example using the file above:\n",
    "\n",
    "```bash\n",
    "$ python3.6 project5.py madlib_example_1.txt\n",
    "Please enter a(n) noun:\n",
    "Please enter a(n) color:\n",
    "Please enter a(n) adjective:\n",
    "... \n",
    "```\n",
    "\n",
    "After you've printed the Mad Lib your project should save the completed Mad Lib in a file. The file should be named after the name of the input file with a `.complete` suffix. For example:\n",
    "\n",
    "  * if the input file is `madlib_example_1.txt` the output file is `madlib_example_1.txt.complete`\n",
    "  * if the input file is `foo.txt` the output file is `foo.txt.complete`\n",
    "\n",
    "Your project should work with different Mad Libs. There are files in the Lesson05 directory with samples:\n",
    "\n",
    "  1. `madlib_example_1.txt`\n",
    "  2. `madlib_example_2.txt`\n",
    "  3. `madlib_example_3.txt`\n",
    "  \n",
    "Running your Mad Lib generator on the samples should produce the files: \n",
    "\n",
    "  * `madlib_sample1.txt.complete`\n",
    "  * `madlib_sample2.txt.complete`\n",
    "  * `madlib_sample3.txt.complete`\n",
    "\n",
    "## Requirements\n",
    "\n",
    "  - All files must have a docstring with the class and your name. \n",
    "  - Submit your program in a file called `madlibs_improved.py`\n",
    "    - Your program must take one argument (the name of a file) \n",
    "    - Your program must create a file (or overwrite an existing file) named after the input file (see above)\n",
    "    - You can assume the file will always be correct (you don't have to handle errors) \n",
    "    - You must print the completed Mad Lib on a line by itself.\n",
    "    - You must close all files before your program exits. \n"
   ]
  },
  {
   "cell_type": "code",
   "execution_count": null,
   "metadata": {},
   "outputs": [],
   "source": []
  }
 ],
 "metadata": {
  "kernelspec": {
   "display_name": "Python 3",
   "language": "python",
   "name": "python3"
  },
  "language_info": {
   "codemirror_mode": {
    "name": "ipython",
    "version": 3
   },
   "file_extension": ".py",
   "mimetype": "text/x-python",
   "name": "python",
   "nbconvert_exporter": "python",
   "pygments_lexer": "ipython3",
   "version": "3.6.8"
  }
 },
 "nbformat": 4,
 "nbformat_minor": 4
}
