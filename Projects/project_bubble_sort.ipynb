{
 "cells": [
  {
   "cell_type": "markdown",
   "metadata": {},
   "source": [
    "# Project: Bubble Sort \n",
    "\n",
    "In this project you will implement your own sorting routine using the well-known algorithm bubble sort. Start by reading about bubble sort on Wikipedia:\n",
    "\n",
    "[https://en.wikipedia.org/wiki/Bubble_sort](https://en.wikipedia.org/wiki/Bubble_sort)"
   ]
  },
  {
   "cell_type": "markdown",
   "metadata": {},
   "source": [
    "## The Swap Function \n",
    "\n",
    "Bubble sort requires that you be able to \"swap\" strings or number in an array. Implement a function called `bubble_swap()` that takes two arguments, `array` and `position`. The function should swap the values in the array at `position` and `position+1`. For eample: \n",
    "\n",
    "```python\n",
    "my_array = [ 4, 5, 6, 7] \n",
    "bubble_swap(my_array, 0)\n",
    "# my_array is now [ 5, 4, 6, 7 ] \n",
    "```\n",
    "\n",
    "Here's another example: \n",
    "\n",
    "```python\n",
    "my_array = [ 4, 5, 6, 7] \n",
    "bubble_swap(my_array, 2)\n",
    "# my_array is now [ 4, 5, 7, 6 ] \n",
    "```\n",
    "\n",
    "The `swap` function will fail if you call it on the last index! \n",
    "\n",
    "```python\n",
    "my_array = [ 4, 5, 6, 7] \n",
    "bubble_swap(my_array, 3) # ERROR!\n",
    "```"
   ]
  },
  {
   "cell_type": "markdown",
   "metadata": {},
   "source": [
    "## The Sort Function \n",
    "\n",
    "Your program should have a function called `bubble_sort` that sorts a list. The function takes a list as an argument and returns the sorted list. The sort function must implement Bubble Sort and can't use the built-in sort function! "
   ]
  },
  {
   "cell_type": "markdown",
   "metadata": {},
   "source": [
    "## Required Functions\n",
    "\n",
    "  * Function: `bubble_swap` - Swap two values in a list \n",
    "    * Arguments:\n",
    "      * `list` - The list to work on \n",
    "      * `position` - The position to swap (swaps `position` and `position+1`)\n",
    "    * Returns: \n",
    "      * The list with the elements swapped \n",
    "  * Function: `bubble_sort` - Sort a list using bubble sort \n",
    "    * Arguments:\n",
    "        * `list` - A list to sort\n",
    "    * Returns:\n",
    "        * A sorted coyp of `list`\n",
    "      "
   ]
  },
  {
   "cell_type": "markdown",
   "metadata": {},
   "source": [
    "## Requirements \n",
    "\n",
    "  - You must have a docstring describing your program.\n",
    "  - You must have the required functions \n",
    "    - The functions must have the exact names as above\n",
    "    - The functions must take the exact arguments in the order above\n",
    "    - The functions must have docstrings. \n",
    "  - All code should be in a function \n",
    "  - You should have a `main()` function\n",
    "    - I will not call your `main()` function, you should use it for testing purposes. \n",
    "  - Your program must be submitted in a file called `bubble_sort.py`"
   ]
  }
 ],
 "metadata": {
  "kernelspec": {
   "display_name": "Python 3",
   "language": "python",
   "name": "python3"
  },
  "language_info": {
   "codemirror_mode": {
    "name": "ipython",
    "version": 3
   },
   "file_extension": ".py",
   "mimetype": "text/x-python",
   "name": "python",
   "nbconvert_exporter": "python",
   "pygments_lexer": "ipython3",
   "version": "3.6.9"
  },
  "pycharm": {
   "stem_cell": {
    "cell_type": "raw",
    "metadata": {
     "collapsed": false
    },
    "source": []
   }
  }
 },
 "nbformat": 4,
 "nbformat_minor": 4
}
