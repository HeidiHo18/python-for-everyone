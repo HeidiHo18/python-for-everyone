{
 "cells": [
  {
   "cell_type": "markdown",
   "metadata": {},
   "source": [
    "# File Access Lab \n",
    "\n",
    "The problems in this lab will help you understand reading and writing files."
   ]
  },
  {
   "cell_type": "markdown",
   "metadata": {},
   "source": [
    "## Open and Read a File\n",
    "\n",
    "Create a file in your Cloud9 IDE called `test.txt`. Write a program that read the entire contents of the file into a variable and prints the variable. **Don't forget to close the file**."
   ]
  },
  {
   "cell_type": "code",
   "execution_count": null,
   "metadata": {},
   "outputs": [],
   "source": []
  },
  {
   "cell_type": "markdown",
   "metadata": {},
   "source": [
    "## Read Two Lines \n",
    "\n",
    "Wirte a program that reads the first two lines of `test.txt` and prints them. **Don't forget to close the file**.  "
   ]
  },
  {
   "cell_type": "code",
   "execution_count": null,
   "metadata": {},
   "outputs": [],
   "source": []
  },
  {
   "cell_type": "markdown",
   "metadata": {},
   "source": [
    "## Write a File \n",
    "\n",
    "Use Python to write the following into a file called `fish.txt`:\n",
    "\n",
    "```\n",
    "One fish, \n",
    "Two fish, \n",
    "Red fish, \n",
    "Blue fish.\n",
    "```\n",
    "\n",
    "The program should create the file if it doesn't exist."
   ]
  },
  {
   "cell_type": "code",
   "execution_count": null,
   "metadata": {},
   "outputs": [],
   "source": []
  },
  {
   "cell_type": "markdown",
   "metadata": {},
   "source": [
    "## Write Data \n",
    "\n",
    "Write a program that uses the `input()` function to:\n",
    "\n",
    " - Ask the user for a file name (`filename`)\n",
    " - Ask the user for their name (`word`)\n",
    " - Ask the user for an integer (`times`)\n",
    " \n",
    "Open the file `filename` then write `word` `times` number of times.  "
   ]
  },
  {
   "cell_type": "code",
   "execution_count": null,
   "metadata": {},
   "outputs": [],
   "source": []
  },
  {
   "cell_type": "markdown",
   "metadata": {},
   "source": [
    "## Append Data \n",
    "\n",
    "Rewrite question the previous append data to the file instead of overwriting the file. "
   ]
  },
  {
   "cell_type": "code",
   "execution_count": null,
   "metadata": {},
   "outputs": [],
   "source": []
  },
  {
   "cell_type": "markdown",
   "metadata": {},
   "source": [
    "## Read Lines and Reorder \n",
    "\n",
    "Write a program that reads the four lines in `fish.txt` and prints them in *reverse order*. "
   ]
  },
  {
   "cell_type": "code",
   "execution_count": null,
   "metadata": {},
   "outputs": [],
   "source": []
  }
 ],
 "metadata": {
  "kernelspec": {
   "display_name": "Python 3",
   "language": "python",
   "name": "python3"
  },
  "language_info": {
   "codemirror_mode": {
    "name": "ipython",
    "version": 3
   },
   "file_extension": ".py",
   "mimetype": "text/x-python",
   "name": "python",
   "nbconvert_exporter": "python",
   "pygments_lexer": "ipython3",
   "version": "3.6.8"
  }
 },
 "nbformat": 4,
 "nbformat_minor": 4
}
