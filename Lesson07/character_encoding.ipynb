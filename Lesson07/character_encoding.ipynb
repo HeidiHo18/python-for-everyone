{
 "cells": [
  {
   "cell_type": "markdown",
   "metadata": {},
   "source": [
    "# Character Encoding \n",
    "\n",
    "To the computer all data is a bunch of binary numbers, including strings, pictures and videos. So how do you get from a bunch of numbers to a string? There is an agreed upon way to convert the numbers into letters. The agreed upon way is called a *character encoding*. \n",
    "\n",
    "The oldest character encoding that's still in use is called [ASCII](https://en.wikipedia.org/wiki/ASCII), short for American Standard Code for Information Interchange. ASCII uses seven bits to represent 128 different characters. Why so many? To the computer upper case letters are different from lower case letters and there are a whole bunch of special characters. Special characters control how a string looks or is printed. \n",
    "\n",
    "There are a few special characters that are important to know. \n",
    "\n",
    "| Binary | Hex | Decimal | String Notation | Meaning | \n",
    "|-|-|-|-|-| \n",
    "| 000 0000 | 0x00 | 0 | \\0 | Null character. There must be one at the end of every string. | \n",
    "| 000 1001 | 0x09 | 9 | \\t | Tab character. Adds an adjustable amount of whitespace. | \n",
    "| 000 1010 | 0x0a | 10 | \\n | Line feed. Starts a new line of text on UNIX. | \n",
    "| 000 1101 | 0x0d | 13 | \\r | Carriage return. On Windows \\r\\n together start a new line of text.| \n",
    "\n",
    "Many of the special characters are leftovers from the days when there were no computer monitors. In those days the UNIX command line was typed out using a specially modifed typewriter called a [Teletype](https://en.wikipedia.org/wiki/Teleprinter#/media/File:ASR-33_at_CHM.agr.jpg). \n",
    "\n",
    "It's pretty commont to use \\t and \\n in strings: "
   ]
  },
  {
   "cell_type": "code",
   "execution_count": null,
   "metadata": {},
   "outputs": [],
   "source": [
    "print ('Special characters:\\nNo tab\\n\\tOne tab\\n\\t\\tTwo tabs\\n\\t\\t\\tThree tabs')"
   ]
  },
  {
   "cell_type": "markdown",
   "metadata": {},
   "source": [
    "## Converting Lettters \n",
    "\n",
    "You can convert a letter to the number that represents it and vice-versa. The `ord()` (short for ordinal) and `chr()` (short for character) functions convert between letters and numbers. The `ord()` function converts a letter to its numerical code. "
   ]
  },
  {
   "cell_type": "code",
   "execution_count": null,
   "metadata": {},
   "outputs": [],
   "source": [
    "ord('a')"
   ]
  },
  {
   "cell_type": "markdown",
   "metadata": {},
   "source": [
    "The `chr()` function turns a numerical code into a letter. "
   ]
  },
  {
   "cell_type": "code",
   "execution_count": null,
   "metadata": {},
   "outputs": [],
   "source": [
    "chr(97)"
   ]
  },
  {
   "cell_type": "markdown",
   "metadata": {},
   "source": [
    "## UTF Encoding\n",
    "\n",
    "There's a problem with ASCII. What about if you want to interchange information with non-Americans? ASCII only contains the English alphabet, so you can't write things in other languages. In 1960 when ASCII was developed few other coutries had computers. Now, people all over the world have computers in their pocket. To address this problem the UTF family of encodings was created. UTF is short for Unicode Transformation Format. UTF encodings contain enough characters for every human language *and emojis!*\n",
    "\n",
    "In ASCII every character is one byte (8-bits, with only 7 used). UTF characters can be between one and four bytes (8 to 32 bits). The `ord()` and `chr()` functions are only work on single-byte characters so the new functions `encode()` and `decode()` are used to do the same job. \n",
    "\n",
    "## Byte Strings \n",
    "\n",
    "In order to understand what `encode()` and `decode()` do you need to know about a type of string that I haven't mentioned yet. The b-string is used to express *raw bytes*. Raw bytes are a bunch of numbers. They can be converted to strings using an encoding. \n",
    "\n",
    "Here's how you specify a b-string. Each hexadecimal value in the b-string starts with `\\x`. So `\\x01` is how you write hexadecimal 0x01. "
   ]
  },
  {
   "cell_type": "code",
   "execution_count": null,
   "metadata": {},
   "outputs": [],
   "source": [
    "type(b'\\xF0\\x9F\\x98\\xB8')"
   ]
  },
  {
   "cell_type": "markdown",
   "metadata": {},
   "source": [
    "The `decode()` function applies a character encoding to bytes and returns a string. See what happens when you encode the bytes from the previous example. "
   ]
  },
  {
   "cell_type": "code",
   "execution_count": null,
   "metadata": {},
   "outputs": [],
   "source": [
    "b'\\xF0\\x9F\\x98\\xB8'.decode('utf-8')"
   ]
  },
  {
   "cell_type": "markdown",
   "metadata": {},
   "source": [
    "Meow! The `encode()` and `decode()` functions cannot automatically determine the character encoding, you have to tell them. See what happens to the code above if you try to decode the bytes as \"ascii\". \n",
    "\n",
    "The `encode()` function does the reverse. Here's how to convert the smiling cat face emoji to the 'utf-32' format. "
   ]
  },
  {
   "cell_type": "code",
   "execution_count": null,
   "metadata": {},
   "outputs": [],
   "source": [
    "'😸'.encode('utf-32')"
   ]
  },
  {
   "cell_type": "markdown",
   "metadata": {},
   "source": [
    "Take a look at the [standard encodings](https://docs.python.org/3/library/codecs.html#standard-encodings) that are built into Python. Try encoding the smiling cat face with different *codecs* (short for coder-decoder). "
   ]
  },
  {
   "cell_type": "markdown",
   "metadata": {},
   "source": [
    "## File Encodings\n",
    "\n",
    "Files are made of raw bytes. When you open a file Python 3 assumes that the file is UTF-8 encoded and the familiar functions like `readline()` return strings. That's not always what you want. Placing the letter `b` in the file mode tells Python to return bytes instead of strings."
   ]
  },
  {
   "cell_type": "code",
   "execution_count": null,
   "metadata": {},
   "outputs": [],
   "source": [
    "with open('../media/languages.txt', 'rb') as f: \n",
    "    print (f.readline())\n",
    "    print (f.readline())\n",
    "    print (f.readline())\n",
    "    print (f.readline())"
   ]
  },
  {
   "cell_type": "markdown",
   "metadata": {},
   "source": [
    "The `b` flag is important when you're trying to read binary files like images or videos. If you're trying to read a text file with an alternate encoding you can pass the `encoding=` keyword argument to `open()`. Here's an example where the file encoding is explicity set. "
   ]
  },
  {
   "cell_type": "code",
   "execution_count": null,
   "metadata": {},
   "outputs": [],
   "source": [
    "with open('../media/languages.txt', 'r', encoding='utf-8') as f: \n",
    "    print (f.readline())\n",
    "    print (f.readline())\n",
    "    print (f.readline())\n",
    "    print (f.readline())"
   ]
  },
  {
   "cell_type": "markdown",
   "metadata": {},
   "source": [
    "# Exercise \n",
    "\n",
    "Write a Python program that translates files from ASCII encoding to UTF-32 encoding. "
   ]
  }
 ],
 "metadata": {
  "kernelspec": {
   "display_name": "Python 3",
   "language": "python",
   "name": "python3"
  },
  "language_info": {
   "codemirror_mode": {
    "name": "ipython",
    "version": 3
   },
   "file_extension": ".py",
   "mimetype": "text/x-python",
   "name": "python",
   "nbconvert_exporter": "python",
   "pygments_lexer": "ipython3",
   "version": "3.6.8"
  }
 },
 "nbformat": 4,
 "nbformat_minor": 4
}
