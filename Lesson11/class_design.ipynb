{
 "cells": [
  {
   "cell_type": "markdown",
   "metadata": {},
   "source": [
    "# Class Design\n",
    "\n",
    "When you use your own classes in a program it's called *Object Oriented Programming*. In Python you have a choice to use OOP and most small programs won't need classes of their own. In other languages, like Java, all programs must be witten using OOP. There are great advantages to OOP. \n",
    "\n",
    "Ojbects are like packaged bundles, when they're well designed they are easily shared with others. Classes bundle together code and variables. Other programmers assume they can call your functions but will avoid using your variables directly. Cooperation makes larger programs --written by hundreds or thousands of programmers-- possible. There are many tricks and features of classes in Python. The most important ones we'll learn today.\n",
    "\n",
    "Classes are made to foster the sharing and reuse of code. You can extend the functionality of a class *without* altering its code with a mechnanism called *inheritance*. \n",
    "\n",
    "Here's an example of a class that builds on another class using inheritance."
   ]
  },
  {
   "cell_type": "code",
   "execution_count": null,
   "metadata": {},
   "outputs": [],
   "source": [
    "class Base:\n",
    "    \n",
    "    def base_function(self):\n",
    "        print ('Hello')\n",
    "        \n",
    "\n",
    "class Derived(Base): \n",
    "    \n",
    "    def derived_function(self):\n",
    "        print ('World')\n",
    "        \n",
    "\n",
    "d = Derived() \n",
    "d.base_function()\n",
    "d.derived_function()"
   ]
  },
  {
   "cell_type": "markdown",
   "metadata": {},
   "source": [
    "The class definitions look just like the ones from last week except: \n",
    "\n",
    "```python\n",
    "class Derived(Base):\n",
    "```\n",
    "\n",
    "The `Derived` class asks to inherit the functions of `Base`. Later in the program you can see that an instance of `Derived` has the functions from **both** classes. \n",
    "\n",
    "```python\n",
    "d.base_function()\n",
    "d.derived_function()\n",
    "```\n",
    "\n",
    "Notice that the instance of `Derived` has function that it inherited from the base class `Base`. "
   ]
  },
  {
   "cell_type": "markdown",
   "metadata": {},
   "source": [
    "# Inheritance and Functions \n",
    "\n",
    "Class inheritance lets you add or *modify* functions in the base class. Take a look at the code below. The `Derived` class has its own version of `base_function` and that version *overrides* the same method in the `Base` class. \n",
    "\n",
    "Take a look:"
   ]
  },
  {
   "cell_type": "code",
   "execution_count": null,
   "metadata": {},
   "outputs": [],
   "source": [
    "class Base:\n",
    "    \n",
    "    def base_function(self):\n",
    "        print ('Hello')\n",
    "        \n",
    "\n",
    "class Derived(Base): \n",
    "    \n",
    "    def base_function(self):\n",
    "        print ('Override')\n",
    "        \n",
    "    def derived_function(self):\n",
    "        print ('World')\n",
    "\n",
    "\n",
    "d = Derived() \n",
    "d.base_function()\n",
    "d.derived_function()"
   ]
  },
  {
   "cell_type": "markdown",
   "metadata": {},
   "source": [
    "The `Derived` class still has access to `base_function` and can call it using the `super()` function. Look closely at `base_function` in `Derived`."
   ]
  },
  {
   "cell_type": "code",
   "execution_count": null,
   "metadata": {},
   "outputs": [],
   "source": [
    "class Base:\n",
    "    \n",
    "    def base_function(self):\n",
    "        print ('Hello')\n",
    "        \n",
    "\n",
    "class Derived(Base): \n",
    "    \n",
    "    def base_function(self):\n",
    "        super().base_function()\n",
    "        print ('Override')\n",
    "        \n",
    "    def derived_function(self):\n",
    "        print ('World')\n",
    "\n",
    "\n",
    "d = Derived() \n",
    "d.base_function()\n",
    "d.derived_function()"
   ]
  },
  {
   "cell_type": "markdown",
   "metadata": {},
   "source": [
    "There's only one difference between this example and the previous example:\n",
    "\n",
    "```python\n",
    "super().base_function()\n",
    "``` \n",
    "\n",
    "The `super()` function returns an instance of the superclass (also known as the base class). If you use `super()` in any method of `Derived` you will get an instance of `Base`. You can use that instance to get any of the methods of `Base` that you need. There's no restriction on when or what you call using `super()`. What would the output be if `base_function` in `Derived` was written this way? \n",
    "\n",
    "```python \n",
    "    def base_function(self):\n",
    "        print ('Override')\n",
    "        super().base_function()\n",
    "```\n"
   ]
  },
  {
   "cell_type": "markdown",
   "metadata": {},
   "source": [
    "## Overriding `__init__`\n",
    "\n",
    "Overriding `__init__` is often necessary. The `__init__` function initializes class data so when you create a derived class you almost always need to be sure that the variables in the base class are initialized. "
   ]
  },
  {
   "cell_type": "code",
   "execution_count": null,
   "metadata": {},
   "outputs": [],
   "source": [
    "class Base :\n",
    "    \n",
    "    def __init__(self) : \n",
    "        print ('Initializing Base')\n",
    "        self.base_var = 'Hello'\n",
    "        \n",
    "    def base_function(self) :\n",
    "        print (self.base_var)\n",
    "        \n",
    "\n",
    "class Derived(Base) : \n",
    "\n",
    "    def __init__(self) : \n",
    "        print ('Initializing Derived')\n",
    "        self.der_var = 'World'\n",
    "        super().__init__()\n",
    "        \n",
    "    def derived_function(self) :\n",
    "        print (self.der_var)\n",
    "    \n",
    "\n",
    "d = Derived() \n",
    "d.base_function()\n",
    "d.derived_function()"
   ]
  },
  {
   "cell_type": "markdown",
   "metadata": {},
   "source": [
    "## When to Use Inheritance \n",
    "\n",
    "Class inheritance is a powerful tool and it has good and bad uses. Derived classes usually have an *is-a* relationship with their base class. That means the derived class \"is a\" base class. \n",
    "\n",
    "Here's what I mean:"
   ]
  },
  {
   "cell_type": "code",
   "execution_count": null,
   "metadata": {},
   "outputs": [],
   "source": [
    "class Animal: \n",
    "    \n",
    "    def __init__(self, num_legs):\n",
    "        self.legs = num_legs\n",
    "        \n",
    "    def get_legs(self):\n",
    "        return self.legs\n",
    "\n",
    "\n",
    "class Cat(Animal):\n",
    "    \n",
    "    def __init__(self):\n",
    "        super().__init__(4)\n",
    "        \n",
    "class Duck(Animal):\n",
    "    \n",
    "    def __init__(self):\n",
    "        super().__init__(2)\n",
    "\n",
    "c = Cat()\n",
    "d = Duck()\n",
    "print (f'A cat has {c.get_legs()} legs.')\n",
    "print (f'A duck has {d.get_legs()} legs.')"
   ]
  },
  {
   "cell_type": "markdown",
   "metadata": {},
   "source": [
    "This inheritance design works because a `Duck` and a `Cat` is-an `Animal`. Inheritance is appealing but there are other (often better) ways to mix the functions of two classes. It's possible to have *multiple inheritance* in Python where a class inherits from multiple base classes. \n",
    "\n",
    "**Avoid using multiple inheritance**"
   ]
  },
  {
   "cell_type": "markdown",
   "metadata": {},
   "source": [
    "# Mix-ins \n",
    "\n",
    "Inheritance is useful but it can be confusing because base methods are called automatically. A mix-in is a way to get some of the functions of a base class but not all of them. There's no automatic function calls in a mix-in so you have to do a bit more typing. \n",
    "\n",
    "Here's an example of a mix-in:"
   ]
  },
  {
   "cell_type": "code",
   "execution_count": null,
   "metadata": {},
   "outputs": [],
   "source": [
    "class Base:\n",
    "        \n",
    "    def base_function(self):\n",
    "        print ('Hello')\n",
    "        \n",
    "\n",
    "class MixIn: \n",
    "\n",
    "    def __init__(self) : \n",
    "        self.base_instance = Base() \n",
    "\n",
    "    def base_function(self) : \n",
    "        self.base_instance.base_function() \n",
    "        \n",
    "    def derived_function(self) :\n",
    "        print ('World')\n",
    "        \n",
    "\n",
    "m = MixIn() \n",
    "m.base_function()\n",
    "m.derived_function()"
   ]
  },
  {
   "cell_type": "markdown",
   "metadata": {},
   "source": [
    "The mix-in works because `MixIn` contains an instance of `Base`. The `MixIn` class can use any member of `Base` in its own methods. Mix-ins give the programmer more control of what methods of `Base`. Mix-ins give you more control over what functions of `Base` are exposed at the expense of more code. "
   ]
  }
 ],
 "metadata": {
  "kernelspec": {
   "display_name": "Python 3",
   "language": "python",
   "name": "python3"
  },
  "language_info": {
   "codemirror_mode": {
    "name": "ipython",
    "version": 3
   },
   "file_extension": ".py",
   "mimetype": "text/x-python",
   "name": "python",
   "nbconvert_exporter": "python",
   "pygments_lexer": "ipython3",
   "version": "3.6.2"
  }
 },
 "nbformat": 4,
 "nbformat_minor": 2
}
