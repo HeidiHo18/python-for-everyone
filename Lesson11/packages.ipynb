{
 "cells": [
  {
   "cell_type": "markdown",
   "metadata": {},
   "source": [
    "# Packages \n",
    "\n",
    "  * A package is just some source code in a file. \n",
    "  * The name of the package comes from the name of the file. \n",
    "  * Packages are *imported* with the `import` keyword \n",
    "\n",
    "We've done this before:"
   ]
  },
  {
   "cell_type": "code",
   "execution_count": null,
   "metadata": {},
   "outputs": [],
   "source": [
    "import sys \n",
    "\n",
    "print ('The program is:', sys.argv[0])"
   ]
  },
  {
   "cell_type": "markdown",
   "metadata": {},
   "source": [
    "  * Packages are given a name in the local context \n",
    "    * In the example the name is `sys` \n",
    "    * You can control the name of the imported package\n",
    "\n",
    "Here's another way:"
   ]
  },
  {
   "cell_type": "code",
   "execution_count": null,
   "metadata": {},
   "outputs": [],
   "source": [
    "import sys as foo\n",
    "\n",
    "print ('The program is:', foo.argv[0])"
   ]
  },
  {
   "cell_type": "markdown",
   "metadata": {},
   "source": [
    "  * Notice that you *access* the package via the name you give it \n",
    "  * Access to package members is via the dot \n",
    "  * You can see what functions and variables are in a package with the `dir()` function."
   ]
  },
  {
   "cell_type": "code",
   "execution_count": null,
   "metadata": {},
   "outputs": [],
   "source": [
    "import sys\n",
    "for member in dir(sys) :\n",
    "  print (member)"
   ]
  },
  {
   "cell_type": "markdown",
   "metadata": {},
   "source": [
    "  * The dot is a vital piece of Python syntax. \n",
    "  * We've used it a lot! \n",
    "\n",
    "Consider the following:"
   ]
  },
  {
   "cell_type": "code",
   "execution_count": null,
   "metadata": {},
   "outputs": [],
   "source": [
    "s = 'Mary had a little lamb'\n",
    "l = s.split()\n",
    "l.remove('lamb')\n",
    "l.append('emu')\n",
    "' '.join(l)"
   ]
  },
  {
   "cell_type": "markdown",
   "metadata": {},
   "source": [
    "  * In the examples you use the dot to access functions that belong to strings and lists \n",
    "  * Packages are the same\n",
    "\n",
    "Consider the file:"
   ]
  },
  {
   "cell_type": "code",
   "execution_count": null,
   "metadata": {},
   "outputs": [],
   "source": [
    "'''A package for functions I like''' \n",
    "\n",
    "myvar = \"This is a variable.\"\n",
    "\n",
    "def myfunc() :\n",
    "    '''This is my favorite function.''' \n",
    "    return \"Mike\""
   ]
  },
  {
   "cell_type": "markdown",
   "metadata": {},
   "source": [
    "Now use your functions:"
   ]
  },
  {
   "cell_type": "markdown",
   "metadata": {},
   "source": [
    "```python \n",
    "import functions as f\n",
    "dir(f)\n",
    "f.myvar\n",
    "f.myfunc()\n",
    "```"
   ]
  },
  {
   "cell_type": "markdown",
   "metadata": {},
   "source": [
    "  * In many ways packages are like dictionaries \n",
    "    * Classes too! \n",
    "  * Instead of accessing them with `[]` you access them with the dot. \n",
    "    * Names are restricted to valid names for python variables and functions. \n",
    "    * But the dot is way less typing!"
   ]
  }
 ],
 "metadata": {
  "kernelspec": {
   "display_name": "Python 3",
   "language": "python",
   "name": "python3"
  },
  "language_info": {
   "codemirror_mode": {
    "name": "ipython",
    "version": 3
   },
   "file_extension": ".py",
   "mimetype": "text/x-python",
   "name": "python",
   "nbconvert_exporter": "python",
   "pygments_lexer": "ipython3",
   "version": "3.6.2"
  }
 },
 "nbformat": 4,
 "nbformat_minor": 2
}
