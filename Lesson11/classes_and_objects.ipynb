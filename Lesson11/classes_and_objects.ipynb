{
 "cells": [
  {
   "cell_type": "markdown",
   "metadata": {},
   "source": [
    "# Classes and Objects \n",
    "\n",
    "  * Python is an *object oriented* programming language.\n",
    "  * Object oriented means that you can create your own data types in Python. \n",
    "  * Data types have three essential ingredients:\n",
    "    * A name \n",
    "    * Class variables \n",
    "    * Member functions\n",
    "\n",
    "Let's start with a class that has a name and nothing else:"
   ]
  },
  {
   "cell_type": "code",
   "execution_count": null,
   "metadata": {},
   "outputs": [],
   "source": [
    "class Simple: \n",
    "    pass"
   ]
  },
  {
   "cell_type": "markdown",
   "metadata": {},
   "source": [
    "  * A class is like a *template* for making something (like a cookie cutter). \n",
    "  * You use the template to make an object (called an *instance*) \n",
    "  * The distinction between the class and the instance is subtle at first. \n",
    "\n",
    "Here's showing how to get an instance of an object:"
   ]
  },
  {
   "cell_type": "code",
   "execution_count": null,
   "metadata": {},
   "outputs": [],
   "source": [
    "class Simple:\n",
    "    pass\n",
    "\n",
    "inst = Simple()\n",
    "print ('inst is:', inst)\n",
    "print ('type(inst) is:', type(inst))\n"
   ]
  },
  {
   "cell_type": "markdown",
   "metadata": {},
   "source": [
    "Each instance is like a world of its own. You can add variables into an instance using the dot `.` operator. \n",
    "\n",
    "Here's an example where we add variables to instances: "
   ]
  },
  {
   "cell_type": "code",
   "execution_count": null,
   "metadata": {},
   "outputs": [],
   "source": [
    "class Simple: \n",
    "    pass \n",
    "\n",
    "one = Simple()\n",
    "one.name = 'Mike'\n",
    "one.job = 'Instructor'\n",
    "print (one.name, one.job)\n",
    "\n",
    "two = Simple() \n",
    "two.name = 'Dan'\n",
    "two.fam = \"Mike's brother\"\n",
    "print (two.name, two.fam)"
   ]
  },
  {
   "cell_type": "markdown",
   "metadata": {},
   "source": [
    "The variables `name`, `job` and `fam` are called *member variables* because they live inside of an instance. Classes can have any number of member variables. \n",
    "\n",
    "When you use an instnace of a class all of the member variables go with it."
   ]
  },
  {
   "cell_type": "code",
   "execution_count": null,
   "metadata": {},
   "outputs": [],
   "source": [
    "class Simple:\n",
    "    pass\n",
    "\n",
    "def print_stuff_in_simple(inst):\n",
    "    print ('Name is:', inst.name)\n",
    "    print ('Job is:', inst.job)\n",
    "    \n",
    "one = Simple()\n",
    "one.name = 'Mike'\n",
    "one.job = 'Instructor'\n",
    "print_stuff_in_simple(one)"
   ]
  },
  {
   "cell_type": "markdown",
   "metadata": {},
   "source": [
    "**Notice how `name` and `job` are attached to `one`.** The `print_stuff_in_simple` function takes one argument but, since that argument is a class instance, there could be hundreds of pieces of data inside that argument. \n",
    "\n",
    "## Member Functions \n",
    "\n",
    "It's common to want functions that do stuff with class instances (like `print_stuff_in_simple`). Functions can be defined inside of classes as well. Here's an example where `print_stuff_in_simple` has been moved into the class and renamed `print_stuff`. "
   ]
  },
  {
   "cell_type": "code",
   "execution_count": null,
   "metadata": {},
   "outputs": [],
   "source": [
    "class Simple:\n",
    "\n",
    "    def print_stuff(self):\n",
    "        print ('Name is:', self.name)\n",
    "        print ('Job is:', self.job)\n",
    "    \n",
    "one = Simple()\n",
    "one.name = 'Mike'\n",
    "one.job = 'Instructor'\n",
    "one.print_stuff()"
   ]
  },
  {
   "cell_type": "markdown",
   "metadata": {},
   "source": [
    "Take a close look at this code. It does the same thing as the previous example. Notice how it's different?\n",
    "\n",
    "Here are the important bits: \n",
    "\n",
    "```python\n",
    "class Simple: \n",
    "    \n",
    "    def print_stuff(self):\n",
    "        print ('Name is:', self.name)\n",
    "        print ('Job is:', self.job)\n",
    "``` \n",
    "\n",
    "The code is indented so that it's *inside* the class definition. The variable name `instance` has been replaced with the name `self`: \n",
    "\n",
    "```python\n",
    "    def print_stuff(self):\n",
    "``` \n",
    "\n",
    "The name `self` is not speical in Python but you see it a lot. Class member functions always have the variable `self` as their first argument. Though you can use any name the use of `self` is an important tradition. The most interesting change, however is that this line of code:\n",
    "\n",
    "```python\n",
    "print_stuff_in_simple(one)\n",
    "```\n",
    "\n",
    "Becomes this line of code: \n",
    "\n",
    "```python\n",
    "one.print_stuff()\n",
    "```\n",
    "\n",
    "### Understanding the `self` Variable \n",
    "\n",
    "A member function is just a normal function. Since it works on a class instance it must receive a copy of the class instance. Member functions are called in a special way that ensures the instance is always passed as the first argument to the function. "
   ]
  },
  {
   "cell_type": "code",
   "execution_count": null,
   "metadata": {},
   "outputs": [],
   "source": [
    "class BlogEntry: \n",
    "    \n",
    "    def setTitle(self, title):\n",
    "        self.title = title\n",
    "\n",
    "b = BlogEntry()\n",
    "b.setTitle('New title')"
   ]
  },
  {
   "cell_type": "markdown",
   "metadata": {},
   "source": [
    "![The Self Variable](python_self_variable.png)\n",
    "\n",
    "Here's some code that shows the power and usefulness of the `self` variable:"
   ]
  },
  {
   "cell_type": "code",
   "execution_count": null,
   "metadata": {},
   "outputs": [],
   "source": [
    "class BlogEntry: \n",
    "    \n",
    "    def setTitle(self, title):\n",
    "        self.title = title\n",
    "\n",
    "    def printTitle(self):\n",
    "        print ('Title:', self.title)\n",
    "\n",
    "b = BlogEntry()\n",
    "b.setTitle('First Blog Entry')\n",
    "\n",
    "c = BlogEntry()\n",
    "c.setTitle('Another Blog Entry')\n",
    "\n",
    "b.printTitle()\n",
    "c.printTitle()"
   ]
  },
  {
   "cell_type": "markdown",
   "metadata": {},
   "source": [
    "## The `__init__` Member Function \n",
    "\n",
    "There are special member functions that have useful properties. Special member functions begin and end with a double underscore `__`. The most important one to know is the `__init__` function. The `__init__` function is automatically called when a new instance of your class is created. "
   ]
  },
  {
   "cell_type": "code",
   "execution_count": null,
   "metadata": {},
   "outputs": [],
   "source": [
    "class BlogEntry: \n",
    "    \n",
    "    def __init__(self):\n",
    "        print ('Creating a new blog entry!')\n",
    "\n",
    "b = BlogEntry()"
   ]
  },
  {
   "cell_type": "markdown",
   "metadata": {},
   "source": [
    "The `__init__` function can take arguments. When it does you have to supply those arguments when you create a new instance of the class. "
   ]
  },
  {
   "cell_type": "code",
   "execution_count": null,
   "metadata": {},
   "outputs": [],
   "source": [
    "class BlogEntry: \n",
    "    \n",
    "    def __init__(self, title):\n",
    "        print ('Creating:', title)\n",
    "        self.title = title\n",
    "        \n",
    "b = BlogEntry(\"First Blog Post\")"
   ]
  },
  {
   "cell_type": "markdown",
   "metadata": {},
   "source": [
    "The purpose of the `__init__` function is to initialize all of the member variables in the class. For example, if a blog post has a title, author and text the `__init__` function would make sure they all exist when each instance is created. "
   ]
  },
  {
   "cell_type": "code",
   "execution_count": null,
   "metadata": {},
   "outputs": [],
   "source": [
    "class BlogEntry: \n",
    "    \n",
    "    def __init__(self, title):\n",
    "        self.title = title\n",
    "        self.author = None \n",
    "        self.text = None\n",
    "        \n",
    "b = BlogEntry(\"First Blog Post\")"
   ]
  },
  {
   "cell_type": "markdown",
   "metadata": {},
   "source": [
    "Notice that the `__init__` function does not need to supply meaningful values for the variables, just ensure they exist. \n",
    "\n",
    "# Example Blog Class\n",
    "\n",
    "Here's an example of a complete BlogEntry class. "
   ]
  },
  {
   "cell_type": "code",
   "execution_count": null,
   "metadata": {},
   "outputs": [],
   "source": [
    "class BlogEntry: \n",
    "    \n",
    "    def __init__(self, title):\n",
    "        self.title = title\n",
    "        self.author = None \n",
    "        self.text = None\n",
    "\n",
    "    def setAuthor(self, author):\n",
    "        self.author = author\n",
    "        \n",
    "    def setText(self, text):\n",
    "        self.text = text \n",
    "        \n",
    "    def printEntry(self):\n",
    "        print (\"Title:\", self.title)\n",
    "        print (\"Author:\", self.author)\n",
    "        print (\"Text:\", self.text)\n",
    "\n",
    "b1 = BlogEntry('First Blog Post')\n",
    "b1.setAuthor('Mike Matera')\n",
    "b1.setText('This is my first blog entry.')\n",
    "b1.printEntry()"
   ]
  },
  {
   "cell_type": "markdown",
   "metadata": {},
   "source": [
    "# Test Your Understanding \n",
    "\n",
    "  * Classes and object-oriented programming is often difficult for new programmers. \n",
    "  * Don't despair! \n",
    "\n",
    "Test your understanding of classes. What does this code print?\n",
    "\n",
    "```python\n",
    "class MyClass : \n",
    "\n",
    "    def __init__(self, value1, value2) :\n",
    "        print ('Initializing class with', value1, value2)\n",
    "        self.name = value1 \n",
    "        self.color = value2 \n",
    "\n",
    "    def print_name(self) :\n",
    "        print ('Name is:', self.name)\n",
    "\n",
    "    def get_color(self) :\n",
    "        return self.color \n",
    "        \n",
    "\n",
    "print ('Hello classy world.')\n",
    "mike = MyClass('Mike', 'Blue')\n",
    "mike.print_name()\n",
    "print ('Color:', mike.get_color())\n",
    "\n",
    "dan = MyClass('Dan', 'Red')\n",
    "print (f\"{dan.name}'s favorite color is {dan.color}\")\n",
    "```"
   ]
  }
 ],
 "metadata": {
  "kernelspec": {
   "display_name": "Python 3",
   "language": "python",
   "name": "python3"
  },
  "language_info": {
   "codemirror_mode": {
    "name": "ipython",
    "version": 3
   },
   "file_extension": ".py",
   "mimetype": "text/x-python",
   "name": "python",
   "nbconvert_exporter": "python",
   "pygments_lexer": "ipython3",
   "version": "3.6.9"
  }
 },
 "nbformat": 4,
 "nbformat_minor": 4
}
