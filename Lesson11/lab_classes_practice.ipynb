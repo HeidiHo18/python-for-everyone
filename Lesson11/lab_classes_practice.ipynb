{
 "cells": [
  {
   "cell_type": "markdown",
   "metadata": {},
   "source": [
    "# Practice Writing Classes\n",
    "\n",
    "This lab will help you write classes. \n",
    "\n",
    "## 1. Write a class called `my_class` with no functions. "
   ]
  },
  {
   "cell_type": "code",
   "execution_count": null,
   "metadata": {},
   "outputs": [],
   "source": []
  },
  {
   "cell_type": "markdown",
   "metadata": {},
   "source": [
    "## 2. Make an instance of `my_class` from the last qustion called `inst`."
   ]
  },
  {
   "cell_type": "code",
   "execution_count": null,
   "metadata": {},
   "outputs": [],
   "source": []
  },
  {
   "cell_type": "markdown",
   "metadata": {},
   "source": [
    "## 3. Write a class called `var_class` with two member variables, `a` and `b`."
   ]
  },
  {
   "cell_type": "code",
   "execution_count": null,
   "metadata": {},
   "outputs": [],
   "source": []
  },
  {
   "cell_type": "markdown",
   "metadata": {},
   "source": [
    "## 4. Rewrite the `var_class` to have a member function called `memb`\n",
    "\n",
    "The function should have the following arguments:\n",
    "\n",
    "  - `self`: The class instance\n",
    "  - `foo`"
   ]
  },
  {
   "cell_type": "code",
   "execution_count": null,
   "metadata": {},
   "outputs": [],
   "source": []
  },
  {
   "cell_type": "markdown",
   "metadata": {},
   "source": [
    "## 5. Write a Counting Class \n",
    "\n",
    "Write a class called `Counter`. The class should have the following member variables:\n",
    "\n",
    "  - `count`: an integer\n",
    "  \n",
    "The class should have the following member functions: \n",
    "\n",
    "  - `__init__` - Initialize the class variables\n",
    "    - Arguments: \n",
    "      - `self`: The class instance \n",
    "    - Returns: None\n",
    "  - `plus_one` - Add one to the count\n",
    "    - Arguments: \n",
    "      - `self`: The class instance \n",
    "    - Returns: None\n",
    "  - `minus_one` - Subtract one from the count\n",
    "    - Arguments: \n",
    "      - `self`: The class instance \n",
    "    - Returns: None\n",
    "\n",
    "*Test your class by creating an instance of it and using both member functions.*"
   ]
  },
  {
   "cell_type": "code",
   "execution_count": null,
   "metadata": {},
   "outputs": [],
   "source": []
  },
  {
   "cell_type": "markdown",
   "metadata": {},
   "source": [
    "## 6. Update your Counting Class\n",
    "\n",
    "Update the counting class to have an initializer function that takes an argument:\n",
    "\n",
    "  - `__init__` - The class initializer\n",
    "    - Arguments:\n",
    "      - `self`: The class instance. \n",
    "      - `initial_count`: The initial value of the count variable. \n",
    "\n",
    "*Test your class by creating an instance of it and using both member functions.*"
   ]
  },
  {
   "cell_type": "code",
   "execution_count": null,
   "metadata": {},
   "outputs": [],
   "source": []
  }
 ],
 "metadata": {
  "kernelspec": {
   "display_name": "Python 3",
   "language": "python",
   "name": "python3"
  },
  "language_info": {
   "codemirror_mode": {
    "name": "ipython",
    "version": 3
   },
   "file_extension": ".py",
   "mimetype": "text/x-python",
   "name": "python",
   "nbconvert_exporter": "python",
   "pygments_lexer": "ipython3",
   "version": "3.6.8"
  }
 },
 "nbformat": 4,
 "nbformat_minor": 2
}
