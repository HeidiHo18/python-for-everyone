{
 "cells": [
  {
   "cell_type": "markdown",
   "metadata": {
    "metadata": {
     "deletable": false,
     "editable": false,
     "trusted": true
    }
   },
   "source": [
    "# Literals \n",
    "\n",
    "A literal is a specific written value in your program. Literals get their name because they *literally* mean what they are. Numbers are literals in Pyhon and so are words and phrases written in a human language. In this lesson you will learn how to communicate numbers and words to your program. You will also learn about other important literals in the Python language. \n",
    "\n",
    "## Numbers\n",
    "\n",
    "You can write a number directly into your program. For example, if you want Python to print the number `10` you can execute this instruction: \n",
    "\n",
    "```python\n",
    "print(10)\n",
    "```\n",
    "\n",
    "Copy the print instruction into the cell below and run it: "
   ]
  },
  {
   "cell_type": "code",
   "execution_count": null,
   "metadata": {
    "metadata": {
     "deletable": false,
     "editable": false,
     "trusted": true
    }
   },
   "outputs": [],
   "source": []
  },
  {
   "cell_type": "markdown",
   "metadata": {
    "metadata": {
     "deletable": false,
     "editable": false,
     "trusted": true
    }
   },
   "source": [
    "The `print` function is given an `expression` enclosed in parentheses `(` and `)` as input and displays the expression in a readable format. We will use the `print` fucntion a lot in this class so it's a good idea to start becoming familiar with the `print` function. The most important thing to notice right now is that what you want printed is placed in between the parentheses. \n",
    "\n",
    "Python understands integers, numbers with no decimal place and *floating point* numbers, which contain a decimal. Copy these statements into the cell below and run them: \n",
    "\n",
    "```python\n",
    "print(100)\n",
    "print(3.14)\n",
    "```"
   ]
  },
  {
   "cell_type": "code",
   "execution_count": null,
   "metadata": {},
   "outputs": [],
   "source": []
  },
  {
   "cell_type": "markdown",
   "metadata": {},
   "source": [
    "Python also understands scientific notation. That's where the nubmer is expressed as a decimal that is multiplied by a power of 10. For example 1 billion is:\n",
    "\n",
    "$1,000,000,000 = 1 x 10^9$\n",
    "\n",
    "You can print one billion in like this: \n",
    "\n",
    "```python\n",
    "print(1e9)\n",
    "```\n",
    "\n",
    "You can use the notation to represent fractions too. \n",
    "\n",
    "```python\n",
    "print(\"A nanosecond is\", 1e-9, \"seconds\")\n",
    "```\n",
    "\n",
    "Copy the two print statements into the cell below and run them. Make sure there is no error and that you see printed the correct numbers."
   ]
  },
  {
   "cell_type": "code",
   "execution_count": null,
   "metadata": {},
   "outputs": [],
   "source": []
  },
  {
   "cell_type": "markdown",
   "metadata": {},
   "source": [
    "## Strings\n",
    "\n",
    "Strings are a group of letters. There can be any number of letters in a string (including zero). Python detects the beginning and end of a string by looking for a *quote* character. There are different kinds of quotes. They are discussed in [Quotes](../Lesson03/quotes.ipynb). The most essential quotes are double quotes and single quotes and they are just two ways of doing the same thing. Copy these two examples into the cell below: \n",
    "\n",
    "```python\n",
    "print(\"Double Quote\") \n",
    "print('Single Quote')\n",
    "```"
   ]
  },
  {
   "cell_type": "code",
   "execution_count": null,
   "metadata": {},
   "outputs": [],
   "source": []
  },
  {
   "cell_type": "markdown",
   "metadata": {},
   "source": [
    "**Do you see any difference in the way Python prints the words?** There isn't! Double and single quotes do the same thing. Why have both? The double and single quote are very common in English so you sometimes need to pick quotes based on what you have to say. Enter these examples into the cell below: \n",
    "\n",
    "```python\n",
    "print(\"I can't do that, Dave.\") \n",
    "print('\"Brevity is the soul of wit.\" --William Shakespeare')\n",
    "```"
   ]
  },
  {
   "cell_type": "code",
   "execution_count": null,
   "metadata": {},
   "outputs": [],
   "source": []
  },
  {
   "cell_type": "markdown",
   "metadata": {},
   "source": [
    "*What would happen if you changed double quotes to single quotes in the first print example?*"
   ]
  },
  {
   "cell_type": "markdown",
   "metadata": {},
   "source": [
    "## True or False?\n",
    "\n",
    "Python has special literals for the values `True` and `False`. The use of true and false will become important later when we talk about conditions and loops. For now think of them as a special way to get the `print` function to print the words `True` and `False`. Enter this example into the cell below: \n",
    "\n",
    "```python\n",
    "print('Roses are', False, 'violets are', True)\n",
    "```"
   ]
  },
  {
   "cell_type": "code",
   "execution_count": null,
   "metadata": {},
   "outputs": [],
   "source": []
  },
  {
   "cell_type": "markdown",
   "metadata": {},
   "source": [
    "## Literals and Jupyter \n",
    "\n",
    "When you execute a cell in Jupyter the notebook automatically prints that last literal it sees as a convinience. In a lot of cases this means you don't need to have a `print` statement to see the value of something in the notebook. \n",
    "\n",
    "The Python REPL "
   ]
  },
  {
   "cell_type": "code",
   "execution_count": 7,
   "metadata": {},
   "outputs": [
    {
     "data": {
      "text/plain": [
       "('Roses are', False)"
      ]
     },
     "execution_count": 7,
     "metadata": {},
     "output_type": "execute_result"
    }
   ],
   "source": [
    "'Roses are', False"
   ]
  },
  {
   "cell_type": "markdown",
   "metadata": {},
   "source": [
    "## Literally Nothing!\n",
    "\n",
    "All of the other literals you've learned so far exist in every other programming language. The `None` literal is unique to Python. It's means \"no value.\" Printing `None` is exactly like telling Python to \"print nothing.\" See what happens when you print None in the cell below: \n",
    "\n",
    "```python\n",
    "print(None)\n",
    "```"
   ]
  },
  {
   "cell_type": "code",
   "execution_count": 6,
   "metadata": {},
   "outputs": [
    {
     "name": "stdout",
     "output_type": "stream",
     "text": [
      "None\n"
     ]
    }
   ],
   "source": [
    "print(None)"
   ]
  },
  {
   "cell_type": "markdown",
   "metadata": {},
   "source": [
    "## Data types\n",
    "\n",
    "Literals have a *data type*. The data type describes what the literal is. The datatype also determines how the value can be used. The `type()` function in Python tells you the datatype of a literal or a variable.\n",
    "\n",
    "Try this using the `type()` function with the different literals from above."
   ]
  },
  {
   "cell_type": "code",
   "execution_count": null,
   "metadata": {},
   "outputs": [],
   "source": [
    "type('10.1')"
   ]
  },
  {
   "cell_type": "markdown",
   "metadata": {},
   "source": [
    "## Exercises\n",
    "\n",
    "In the cells provided write enter the literals that each question asks for. Run the cell to make sure that your literal is correct. \n",
    "\n",
    "Write an **integer** literal in the box below:"
   ]
  },
  {
   "cell_type": "code",
   "execution_count": null,
   "metadata": {},
   "outputs": [],
   "source": []
  },
  {
   "cell_type": "markdown",
   "metadata": {},
   "source": [
    "Write a **string** literal in the box below: "
   ]
  },
  {
   "cell_type": "code",
   "execution_count": null,
   "metadata": {},
   "outputs": [],
   "source": []
  },
  {
   "cell_type": "markdown",
   "metadata": {},
   "source": [
    "Write a **floating point number** literal in the box below:"
   ]
  },
  {
   "cell_type": "code",
   "execution_count": null,
   "metadata": {},
   "outputs": [],
   "source": []
  },
  {
   "cell_type": "markdown",
   "metadata": {},
   "source": [
    "Write a **boolean** literal in the box below: "
   ]
  },
  {
   "cell_type": "code",
   "execution_count": null,
   "metadata": {},
   "outputs": [],
   "source": []
  },
  {
   "cell_type": "markdown",
   "metadata": {},
   "source": [
    "Write [Avogadro's Number](https://www.google.com/search?q=avogadro%27s+number) as a literal. "
   ]
  },
  {
   "cell_type": "code",
   "execution_count": null,
   "metadata": {},
   "outputs": [],
   "source": []
  },
  {
   "cell_type": "markdown",
   "metadata": {},
   "source": [
    "Write your full name in the box below as a string literal. "
   ]
  },
  {
   "cell_type": "code",
   "execution_count": null,
   "metadata": {},
   "outputs": [],
   "source": []
  },
  {
   "cell_type": "markdown",
   "metadata": {},
   "source": [
    "In the box below use the `type()` function to determine the type of `True`"
   ]
  },
  {
   "cell_type": "code",
   "execution_count": null,
   "metadata": {},
   "outputs": [],
   "source": []
  }
 ],
 "metadata": {
  "kernelspec": {
   "display_name": "Python 3",
   "language": "python",
   "name": "python3"
  },
  "language_info": {
   "codemirror_mode": {
    "name": "ipython",
    "version": 3
   },
   "file_extension": ".py",
   "mimetype": "text/x-python",
   "name": "python",
   "nbconvert_exporter": "python",
   "pygments_lexer": "ipython3",
   "version": "3.8.3"
  }
 },
 "nbformat": 4,
 "nbformat_minor": 4
}
