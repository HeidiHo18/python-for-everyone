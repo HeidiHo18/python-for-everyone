{
 "cells": [
  {
   "cell_type": "markdown",
   "metadata": {},
   "source": [
    "# Installing Software with Pip \n",
    "\n",
    "  * There's a lot of software written in Python!\n",
    "  * Very little is installed on your system automatically. \n",
    "  * Before you try to write something yourself you should look to see if it's been written already\n",
    "    * The Python Package Index (PyPI) is a site with Python modules \n",
    "    * https://pypi.python.org/pypi\n",
    "  * All of the packages listed here can be installed using the `pip` and `pip-3.6` commands. \n",
    "\n",
    "It's easy to make cloud applications in Python using http://flask.pocoo.org/|Flask. Here's how to install Flask into your workspace.\n",
    "\n",
    "```bash\n",
    "$ pip-3.6 install --user Flask \n",
    "Collecting Flask\n",
    "  Using cached Flask-0.12.2-py2.py3-none-any.whl\n",
    "Collecting Jinja2>=2.4 (from Flask)\n",
    "  Using cached Jinja2-2.10-py2.py3-none-any.whl\n",
    "Collecting click>=2.0 (from Flask)\n",
    "  Using cached click-6.7-py2.py3-none-any.whl\n",
    "Collecting itsdangerous>=0.21 (from Flask)\n",
    "  Using cached itsdangerous-0.24.tar.gz\n",
    "Collecting Werkzeug>=0.7 (from Flask)\n",
    "  Using cached Werkzeug-0.14.1-py2.py3-none-any.whl\n",
    "Collecting MarkupSafe>=0.23 (from Jinja2>=2.4->Flask)\n",
    "  Using cached MarkupSafe-1.0.tar.gz\n",
    "Installing collected packages: MarkupSafe, Jinja2, click, itsdangerous, Werkzeug, Flask\n",
    "  Running setup.py install for MarkupSafe ... done\n",
    "  Running setup.py install for itsdangerous ... done\n",
    "Successfully installed Flask-0.12.2 Jinja2-2.10 MarkupSafe-1.0 Werkzeug-0.14.1 click-6.7 itsdangerous-0.24\n",
    "```\n",
    "\n",
    "  * Notice that the pip version is specific to the Python version. \n",
    "    * If you ran `pip` alone it would install Flask for Python 2 \n",
    "    * When you run `pip-3.6` it installs Flask for Python 3.6 in your workspace (//correct!//)\n",
    "  * The `--user` flag tells `pip` to install the packages without administrator permissions \n",
    "    * This makes mistakes less likely and less severe.\n",
    "\n",
    "With Flask installed you can now recreate your web application. Copy and paste this code into a file:"
   ]
  },
  {
   "cell_type": "code",
   "execution_count": null,
   "metadata": {},
   "outputs": [],
   "source": [
    "from flask import Flask \n",
    "\n",
    "app = Flask(__name__)\n",
    "\n",
    "@app.route('/')\n",
    "def index() :\n",
    "    return \"<h1>Hello, webapp World!</h1>\"\n",
    "    \n",
    "if __name__ == '__main__' :\n",
    "    app.run(host='0.0.0.0', port=8080, debug=True)"
   ]
  },
  {
   "cell_type": "markdown",
   "metadata": {},
   "source": [
    "Run your program by executing it from the command line:\n",
    "\n",
    "```bash\n",
    "$ python3.6 ./flask_example.py                                               \n",
    " * Running on http://0.0.0.0:8080/ (Press CTRL+C to quit)\n",
    " * Restarting with stat\n",
    " * Debugger is active!\n",
    " * Debugger PIN: 647-591-211\n",
    "```\n",
    "\n",
    "If everything works you should be able to preview your app on your custom URL or in the preview window of Cloud9 IDE"
   ]
  }
 ],
 "metadata": {
  "kernelspec": {
   "display_name": "Python 3",
   "language": "python",
   "name": "python3"
  },
  "language_info": {
   "codemirror_mode": {
    "name": "ipython",
    "version": 3
   },
   "file_extension": ".py",
   "mimetype": "text/x-python",
   "name": "python",
   "nbconvert_exporter": "python",
   "pygments_lexer": "ipython3",
   "version": "3.6.2"
  }
 },
 "nbformat": 4,
 "nbformat_minor": 2
}
