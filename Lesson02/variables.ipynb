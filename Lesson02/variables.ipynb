{
 "cells": [
  {
   "cell_type": "markdown",
   "metadata": {},
   "source": [
    "# Variables \n",
    "\n",
    "A variable is like a box. The box contains the value of a literal that is placed in it using the assignment operator (`=`). Variables are essential for every realistic Python program and take some time to understand if this is the first time you have used them. \n",
    "\n",
    "Variables are created when they are first assigned. This statement:\n",
    "\n",
    "```python\n",
    "a = 9\n",
    "```\n",
    "\n",
    "Is just like doing this: \n",
    "\n",
    "<img src=\"/notebooks/media/variable_box.png\" width=\"100\"/>\n",
    "\n",
    "The literal value `9` is placed in a box called `a`. Variables can be used anywhere in a program where you would use a literal (including some surprising places, but we'll talk about that later). Here's a simple variable assignment."
   ]
  },
  {
   "cell_type": "markdown",
   "metadata": {},
   "source": [
    "## Variable Assignment and Usage\n",
    "\n",
    "When you assign a variable for the first time the variable name is *created*. In Python there's no need to declare a variable in advance. Running the code in the cell below creates a variable named `foo`."
   ]
  },
  {
   "cell_type": "code",
   "execution_count": null,
   "metadata": {},
   "outputs": [],
   "source": [
    "foo = 'The contents of foo'"
   ]
  },
  {
   "cell_type": "markdown",
   "metadata": {},
   "source": [
    "You can see what's inside of a variable by putting it into a cell by itself."
   ]
  },
  {
   "cell_type": "code",
   "execution_count": null,
   "metadata": {},
   "outputs": [],
   "source": [
    "foo"
   ]
  },
  {
   "cell_type": "markdown",
   "metadata": {},
   "source": [
    "You can also see what's inside of a variable using the `print` function."
   ]
  },
  {
   "cell_type": "code",
   "execution_count": null,
   "metadata": {},
   "outputs": [],
   "source": [
    "print(foo)"
   ]
  },
  {
   "cell_type": "markdown",
   "metadata": {},
   "source": [
    "Try changing the literal on the right side of the equal sign and rerunning the cells in this section."
   ]
  },
  {
   "cell_type": "markdown",
   "metadata": {},
   "source": [
    "## Variables to Hold Constants\n",
    "\n",
    "A good use of variables is to avoid repitition of constants in your program. Here's an example of a program that has *hard-coded* constants, integers that control the shape. "
   ]
  },
  {
   "cell_type": "code",
   "execution_count": 4,
   "metadata": {},
   "outputs": [],
   "source": [
    "from Lab.drawing import pen"
   ]
  },
  {
   "cell_type": "code",
   "execution_count": null,
   "metadata": {},
   "outputs": [],
   "source": [
    "pen.draw(10)\n",
    "pen.turn(120)\n",
    "pen.draw(10)\n",
    "pen.turn(120)\n",
    "pen.draw(5)\n",
    "pen.show()"
   ]
  },
  {
   "cell_type": "markdown",
   "metadata": {},
   "source": [
    "The value `120` appears in the program two times. Change the program to replace `120` with `angle`."
   ]
  },
  {
   "cell_type": "code",
   "execution_count": 1,
   "metadata": {},
   "outputs": [],
   "source": [
    "angle = 120 "
   ]
  },
  {
   "cell_type": "markdown",
   "metadata": {},
   "source": [
    "What about the lines? Each of the lines is half of the previous line. You can do math on variables just like you can with number literals. Change the program again to replace `10` with the variable `line`."
   ]
  },
  {
   "cell_type": "code",
   "execution_count": 2,
   "metadata": {},
   "outputs": [],
   "source": [
    "angle = 120 \n",
    "line = 10 "
   ]
  },
  {
   "cell_type": "markdown",
   "metadata": {},
   "source": [
    "Variables can be changed by reassignment. Here's the same shape. "
   ]
  },
  {
   "cell_type": "code",
   "execution_count": 11,
   "metadata": {},
   "outputs": [
    {
     "data": {
      "image/png": "[encoded data removed]",
      "text/plain": [
       "<Figure size 432x432 with 1 Axes>"
      ]
     },
     "metadata": {
      "needs_background": "light"
     },
     "output_type": "display_data"
    }
   ],
   "source": [
    "angle = 15 \n",
    "line = 10\n",
    "\n",
    "pen.draw(line)\n",
    "pen.turn(angle)\n",
    "\n",
    "line = line / 2    # reduce line by half \n",
    "angle = angle * 2  # double the angle\n",
    "pen.draw(line)\n",
    "pen.turn(angle)\n",
    "\n",
    "line = line / 2    # reduce line by half \n",
    "angle = angle * 2  # double the angle \n",
    "pen.draw(line)\n",
    "pen.turn(angle)\n",
    "\n",
    "pen.show()"
   ]
  },
  {
   "cell_type": "markdown",
   "metadata": {},
   "source": [
    "Variables have to be assigned before they can be used. Test to see what happens when you try to print a variable that doesn't exist."
   ]
  },
  {
   "cell_type": "code",
   "execution_count": null,
   "metadata": {},
   "outputs": [],
   "source": [
    "print(notexist)"
   ]
  },
  {
   "cell_type": "markdown",
   "metadata": {},
   "source": [
    "Variables take the data type of the literal they contain. Python is *dynamically typed*, meaning that variables can have any type and that type can change. That means a programmer has to be careful. Mixing variable types when performing operations is usually not allowed. Change the literal in the code below and notice how it changes the output of `type()`"
   ]
  },
  {
   "cell_type": "code",
   "execution_count": null,
   "metadata": {},
   "outputs": [],
   "source": [
    "a = \"Mike\"\n",
    "print(type(a))\n",
    "a = 10\n",
    "print(type(a))"
   ]
  },
  {
   "cell_type": "markdown",
   "metadata": {},
   "source": [
    " You can perform math on variables, just like literals. "
   ]
  },
  {
   "cell_type": "code",
   "execution_count": null,
   "metadata": {},
   "outputs": [],
   "source": [
    "a = \"Fun\" \n",
    "b = \"Times\"\n",
    "print(a + b)"
   ]
  },
  {
   "cell_type": "markdown",
   "metadata": {},
   "source": [
    "Importantly you can also assign the result of a mathematical operation to a variable."
   ]
  },
  {
   "cell_type": "code",
   "execution_count": null,
   "metadata": {},
   "outputs": [],
   "source": [
    "a = 23.4\n",
    "b = 84.2\n",
    "result = a / b \n",
    "print(result)"
   ]
  }
 ],
 "metadata": {
  "kernelspec": {
   "display_name": "Python 3",
   "language": "python",
   "name": "python3"
  },
  "language_info": {
   "codemirror_mode": {
    "name": "ipython",
    "version": 3
   },
   "file_extension": ".py",
   "mimetype": "text/x-python",
   "name": "python",
   "nbconvert_exporter": "python",
   "pygments_lexer": "ipython3",
   "version": "3.6.9"
  }
 },
 "nbformat": 4,
 "nbformat_minor": 4
}
