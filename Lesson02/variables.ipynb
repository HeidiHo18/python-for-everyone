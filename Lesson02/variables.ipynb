{
 "cells": [
  {
   "cell_type": "markdown",
   "metadata": {},
   "source": [
    "# Variables \n",
    "\n",
    "A variable is like a box. The box contains the value of a literal that is placed in it using the assignment operator (`=`). Variables are essential for every realistic Python program and take some time to understand if this is the first time you have used them. \n",
    "\n",
    "Variables are created when they are first assigned. This statement:\n",
    "\n",
    "```python\n",
    "a = 9\n",
    "```\n",
    "\n",
    "Is just like doing this: \n",
    "\n",
    "<img src=\"/notebooks/media/variable_box.png\" width=\"100\"/>\n",
    "\n",
    "The literal value `9` is placed in a box called `a`. Variables can be used anywhere in a program where you would use a literal (including some surprising places, but we'll talk about that later). Here's a simple variable assignment."
   ]
  },
  {
   "cell_type": "code",
   "execution_count": null,
   "metadata": {},
   "outputs": [],
   "source": [
    "print ('Mike')"
   ]
  },
  {
   "cell_type": "code",
   "execution_count": null,
   "metadata": {},
   "outputs": [],
   "source": [
    "name = 'Mike'\n",
    "print (name)"
   ]
  },
  {
   "cell_type": "markdown",
   "metadata": {},
   "source": [
    "Try changing the literal on the right side and running the code. "
   ]
  },
  {
   "cell_type": "code",
   "execution_count": null,
   "metadata": {},
   "outputs": [],
   "source": [
    "var = 10.5 * 192\n",
    "foo = var * 10\n",
    "print (blah)"
   ]
  },
  {
   "cell_type": "markdown",
   "metadata": {},
   "source": [
    "Variables have to be assigned before they can be used. Test to see what happens when you try to print a variable that doesn't exist."
   ]
  },
  {
   "cell_type": "code",
   "execution_count": null,
   "metadata": {},
   "outputs": [],
   "source": [
    "print (notexist)"
   ]
  },
  {
   "cell_type": "markdown",
   "metadata": {},
   "source": [
    "Variables take the data type of the literal they contain. Python is *dynamically typed*, meaning that variables can have any type and that type can change. That means a programmer has to be careful. Mixing variable types when performing operations is usually not allowed. Change the literal in the code below and notice how it changes the output of `type()`"
   ]
  },
  {
   "cell_type": "code",
   "execution_count": null,
   "metadata": {},
   "outputs": [],
   "source": [
    "a = \"Mike\"\n",
    "print (type(a))\n",
    "a = 10\n",
    "print (type(a))"
   ]
  },
  {
   "cell_type": "markdown",
   "metadata": {},
   "source": [
    " You can perform math on variables, just like literals. "
   ]
  },
  {
   "cell_type": "code",
   "execution_count": null,
   "metadata": {},
   "outputs": [],
   "source": [
    "a = \"Fun\" \n",
    "b = \"Times\"\n",
    "print (a + b)"
   ]
  },
  {
   "cell_type": "markdown",
   "metadata": {},
   "source": [
    "Importantly you can also assign the result of a mathematical operation to a variable."
   ]
  },
  {
   "cell_type": "code",
   "execution_count": null,
   "metadata": {},
   "outputs": [],
   "source": [
    "a = 23.4\n",
    "b = 84.2\n",
    "result = a / b \n",
    "print (result)"
   ]
  }
 ],
 "metadata": {
  "kernelspec": {
   "display_name": "Python 3",
   "language": "python",
   "name": "python3"
  },
  "language_info": {
   "codemirror_mode": {
    "name": "ipython",
    "version": 3
   },
   "file_extension": ".py",
   "mimetype": "text/x-python",
   "name": "python",
   "nbconvert_exporter": "python",
   "pygments_lexer": "ipython3",
   "version": "3.6.5"
  }
 },
 "nbformat": 4,
 "nbformat_minor": 2
}
