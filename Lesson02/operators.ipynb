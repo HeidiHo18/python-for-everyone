{
 "cells": [
  {
   "cell_type": "markdown",
   "metadata": {},
   "source": [
    "# Mathematical Operations \n",
    "\n",
    "Computers are good at math becasue they don't get bored and almost never make mistakes. Math and other operations may be affected by the data type. Here are some key operations:\n",
    "\n",
    "| Symbol | Meaning | Example(s) |\n",
    "| ------ | ------- | ---------- |\n",
    "| `+` | Addition (for numerical types)<br> Concatenation (for string types) | `1 + 2` <br> `\"foo\" + \"bar\"` |\n",
    "| `-` | Subtraction | `2 - 1` | \n",
    "| `/` | Division | `12 / 4` | \n",
    "| `*` | Multiplication | `5 * 5` | \n",
    "| `%` | Modulus (a.k.a. the remainder) | `12 % 10` <br> `24 % 10` | \n",
    "| `<` | Less than (comparison) | `2 < 3` <br> `3 < 2` | \n",
    "| `>` | Greater than (comparison) | `2 > 3` <br> `3 > 2` | \n",
    "| `<=` | Less than or equal | `2 <= 2` | \n",
    "| `>=` | Greater than or equal | `2 >= 2` | \n",
    "| `==` | Equal to | `5 == 5` | \n",
    "\n",
    "Try using the examples from the table in the box below:"
   ]
  },
  {
   "cell_type": "code",
   "execution_count": null,
   "metadata": {},
   "outputs": [],
   "source": []
  },
  {
   "cell_type": "markdown",
   "metadata": {},
   "source": [
    "## Plus: Addition and Concatenation\n",
    "\n",
    "The plus sign `+` does two things. It adds two numbers and it *concatenates* two strings. Concatenation is just a fancy work for putting strings together. Try the code in the cells to see how the plus operator works."
   ]
  },
  {
   "cell_type": "code",
   "execution_count": null,
   "metadata": {},
   "outputs": [],
   "source": [
    "10 + 5 "
   ]
  },
  {
   "cell_type": "code",
   "execution_count": null,
   "metadata": {},
   "outputs": [],
   "source": [
    "\"Hello\" + \"World\""
   ]
  },
  {
   "cell_type": "code",
   "execution_count": null,
   "metadata": {},
   "outputs": [],
   "source": [
    "234.2 + 1 "
   ]
  },
  {
   "cell_type": "markdown",
   "metadata": {},
   "source": [
    "When you mix types the `+` operator raises an error."
   ]
  },
  {
   "cell_type": "code",
   "execution_count": null,
   "metadata": {},
   "outputs": [],
   "source": [
    "\"Like\" + 1 "
   ]
  },
  {
   "cell_type": "markdown",
   "metadata": {},
   "source": [
    "## Multiplication: Sometimes Funny\n",
    "\n",
    "The multiplication operator works just as you would expect on numbers. "
   ]
  },
  {
   "cell_type": "code",
   "execution_count": null,
   "metadata": {},
   "outputs": [],
   "source": [
    "23.2 * 10"
   ]
  },
  {
   "cell_type": "markdown",
   "metadata": {},
   "source": [
    "But multiplication also works on strings by multiplying the string some number of times. For example:"
   ]
  },
  {
   "cell_type": "code",
   "execution_count": null,
   "metadata": {},
   "outputs": [],
   "source": [
    "\"Mike\" * 100"
   ]
  },
  {
   "cell_type": "markdown",
   "metadata": {},
   "source": [
    "## Boolean Operators\n",
    "\n",
    "Some operations result in `True` or `False`. They are key to asking questions using an `if` statement, but we'll talk more about that later. See the examples below so you undersand what each of the operators does. "
   ]
  },
  {
   "cell_type": "code",
   "execution_count": null,
   "metadata": {},
   "outputs": [],
   "source": [
    "# Is 5 less than three?\n",
    "5 < 3"
   ]
  },
  {
   "cell_type": "code",
   "execution_count": null,
   "metadata": {},
   "outputs": [],
   "source": [
    "# Is 5 greater than three?\n",
    "5 > 3"
   ]
  },
  {
   "cell_type": "code",
   "execution_count": null,
   "metadata": {},
   "outputs": [],
   "source": [
    "# Is 5 greater than or equal to three?\n",
    "5 >= 3"
   ]
  },
  {
   "cell_type": "code",
   "execution_count": null,
   "metadata": {},
   "outputs": [],
   "source": [
    "# Is \"python\" equal to \"c++\"?\n",
    "\"python\" == \"c++\""
   ]
  },
  {
   "cell_type": "code",
   "execution_count": null,
   "metadata": {},
   "outputs": [],
   "source": [
    "# Is \"python\" equal to 'python'?\n",
    "\"python\" == 'python'"
   ]
  },
  {
   "cell_type": "markdown",
   "metadata": {},
   "source": [
    "## Order of Operations \n",
    "\n",
    "Operations are applied in a specific order. Python uses the same order as many other programming languages. You can remember it using the word PEDMAS:\n",
    "\n",
    "  * Parenthesis (this is done first)\n",
    "  * Exponents\n",
    "  * Multiplication\n",
    "  * Division\n",
    "  * Addition\n",
    "  * Subtraction (this is done last)\n",
    "  \n",
    "Multiplication is higher than addition, so it is done first. For example, in this equation the multiplication happens first, then the addition."
   ]
  },
  {
   "cell_type": "code",
   "execution_count": null,
   "metadata": {},
   "outputs": [],
   "source": [
    "100 + 5 * 10"
   ]
  },
  {
   "cell_type": "markdown",
   "metadata": {},
   "source": [
    "If you want to change the order of operations you can add parenthesis `(` and `)` to the equation. "
   ]
  },
  {
   "cell_type": "code",
   "execution_count": null,
   "metadata": {},
   "outputs": [],
   "source": [
    "(100 + 5) * 10"
   ]
  },
  {
   "cell_type": "markdown",
   "metadata": {},
   "source": [
    "## Practice \n",
    "\n",
    "Write a program that computes and prints the value of 127 modulus 34."
   ]
  },
  {
   "cell_type": "code",
   "execution_count": null,
   "metadata": {},
   "outputs": [],
   "source": []
  },
  {
   "cell_type": "markdown",
   "metadata": {},
   "source": [
    "Write a program that multiplies 234.4 by 5."
   ]
  },
  {
   "cell_type": "code",
   "execution_count": null,
   "metadata": {},
   "outputs": [],
   "source": []
  },
  {
   "cell_type": "markdown",
   "metadata": {},
   "source": [
    "Write a program that determines if 45.6 is less than 34.5"
   ]
  },
  {
   "cell_type": "code",
   "execution_count": null,
   "metadata": {},
   "outputs": [],
   "source": []
  },
  {
   "cell_type": "markdown",
   "metadata": {},
   "source": [
    "Write a program that determines if 4.2 times 45 is less than or equal to 345.3"
   ]
  },
  {
   "cell_type": "code",
   "execution_count": null,
   "metadata": {},
   "outputs": [],
   "source": []
  },
  {
   "cell_type": "markdown",
   "metadata": {},
   "source": [
    "Write a program that computes how many days there are in 20 years."
   ]
  },
  {
   "cell_type": "code",
   "execution_count": null,
   "metadata": {},
   "outputs": [],
   "source": []
  },
  {
   "cell_type": "markdown",
   "metadata": {},
   "source": [
    "Write a program that computes how far your car can go if it gets 34.5 miles per gallon and has a 11.5 gallon tank."
   ]
  },
  {
   "cell_type": "code",
   "execution_count": null,
   "metadata": {},
   "outputs": [],
   "source": []
  },
  {
   "cell_type": "markdown",
   "metadata": {},
   "source": [
    "Write a program that computes how much gas you need to go 200 miles if your car gets 34.5 miles per gallon."
   ]
  },
  {
   "cell_type": "code",
   "execution_count": null,
   "metadata": {},
   "outputs": [],
   "source": []
  },
  {
   "cell_type": "markdown",
   "metadata": {},
   "source": [
    "Write a program that prints your name 100 times using the `*` operator. "
   ]
  },
  {
   "cell_type": "code",
   "execution_count": null,
   "metadata": {},
   "outputs": [],
   "source": []
  },
  {
   "cell_type": "markdown",
   "metadata": {},
   "source": [
    "Write a program that concatenates three strings together using the `+` operator."
   ]
  },
  {
   "cell_type": "code",
   "execution_count": null,
   "metadata": {},
   "outputs": [],
   "source": []
  }
 ],
 "metadata": {
  "kernelspec": {
   "display_name": "Python 3",
   "language": "python",
   "name": "python3"
  },
  "language_info": {
   "codemirror_mode": {
    "name": "ipython",
    "version": 3
   },
   "file_extension": ".py",
   "mimetype": "text/x-python",
   "name": "python",
   "nbconvert_exporter": "python",
   "pygments_lexer": "ipython3",
   "version": "3.6.9"
  }
 },
 "nbformat": 4,
 "nbformat_minor": 4
}
