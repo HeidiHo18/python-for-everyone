{
 "cells": [
  {
   "cell_type": "markdown",
   "metadata": {},
   "source": [
    "# Printing \n",
    "\n",
    "The `print()` function is a simple way for your Python program to produce output you can see. The `print()` function is simple but quite powerful. In this notebook I show you the features of the `print()` function. \n",
    "\n",
    "The print function can take a list of values separated by a comma. Here's an example where `print()` takes a list of words. "
   ]
  },
  {
   "cell_type": "code",
   "execution_count": null,
   "metadata": {},
   "outputs": [],
   "source": [
    "print ('Mary', 'had', 'a', 'little', 'lamb')"
   ]
  },
  {
   "cell_type": "markdown",
   "metadata": {},
   "source": [
    "You can mix variables and literals in the list of items you pass into `print()`. Here's an example where you can set what animal Mary has."
   ]
  },
  {
   "cell_type": "code",
   "execution_count": null,
   "metadata": {},
   "outputs": [],
   "source": [
    "person = 'Mary'\n",
    "animal = 'lamb'\n",
    "print (person, 'had a little', animal)"
   ]
  },
  {
   "cell_type": "markdown",
   "metadata": {},
   "source": [
    "## Advanced Printing\n",
    "\n",
    "Notice that the print function *automatically* adds spaces between the strings and the variables? This is a convenience to the programmer, but it can be annoying too. The space character is called the print *separator*. You can control the separator using a special kind of argument to `print()`. \n",
    "\n",
    "Here's an example of changing the separator. Try different separator values:"
   ]
  },
  {
   "cell_type": "code",
   "execution_count": null,
   "metadata": {},
   "outputs": [],
   "source": [
    "print ('one', 'two', 'three', sep='')"
   ]
  },
  {
   "cell_type": "markdown",
   "metadata": {},
   "source": [
    "The `print()` function also puts a newline (\\n) character at the end of the line. The newline character creates a break between lines. You can control what character goes at the end of the line with the `end` argument. "
   ]
  },
  {
   "cell_type": "code",
   "execution_count": null,
   "metadata": {},
   "outputs": [],
   "source": [
    "print ('This is the first line.', end='=')\n",
    "print ('This is the second line.', end='==')"
   ]
  },
  {
   "cell_type": "markdown",
   "metadata": {},
   "source": [
    "## Printing in Python 2 vs. Python 3\n",
    "\n",
    "In Python 3 the `print()` function is just like every other function (don't worry if you don't know what a function is, take my word for it for now). In Python 2 print is a special part of the language. In Python 2 the `print` operator doesn't use the parentheses `(` and `)`. \n",
    "\n",
    "Here's equivalent print statments. Can you tell the difference?\n",
    "\n",
    "```python \n",
    "# Python 2, no parens \n",
    "print \"Mary had a little lamb\") \n",
    "\n",
    "# Python 3, gotta have the parens\n",
    "print (\"Mary had a little lamb.\")\n",
    "```\n",
    "\n",
    "Python 2's print statement is inferior to the one in Python 3. Luckily you can use Python 3's `print()` function in Python 2 if you add this line to the top of your program.\n",
    "\n",
    "```python\n",
    "from __future__ import print_function\n",
    "```\n",
    "\n",
    "Python 2 programs that start with that line will be able to print in a compatible way with Python 3 programs. In Python 3 the import is ignored. It's good practice to add the line to all new Python 2 code. "
   ]
  },
  {
   "cell_type": "markdown",
   "metadata": {},
   "source": [
    "# Exercise\n",
    "\n",
    "Assume you're making a progress counter. You want the output of your program to look just like this: \n",
    "\n",
    "```\n",
    "The process is 25% complete.\n",
    "```\n",
    "\n",
    "Can you write a `print()` function that does that? "
   ]
  },
  {
   "cell_type": "code",
   "execution_count": null,
   "metadata": {},
   "outputs": [],
   "source": [
    "percent = 25 \n",
    "print ()"
   ]
  }
 ],
 "metadata": {
  "kernelspec": {
   "display_name": "Python 3",
   "language": "python",
   "name": "python3"
  },
  "language_info": {
   "codemirror_mode": {
    "name": "ipython",
    "version": 3
   },
   "file_extension": ".py",
   "mimetype": "text/x-python",
   "name": "python",
   "nbconvert_exporter": "python",
   "pygments_lexer": "ipython3",
   "version": "3.6.5"
  }
 },
 "nbformat": 4,
 "nbformat_minor": 2
}
