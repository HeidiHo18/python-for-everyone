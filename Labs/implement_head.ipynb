{
 "cells": [
  {
   "cell_type": "markdown",
   "metadata": {},
   "source": [
    "# The UNIX `head` Command\n",
    "\n",
    "The UNIX command `head` prints the first few lines of a file. It's useful when you want to preview a text file that could be really long. In this coding challenge you will make a Python program that works like `head`. \n",
    "\n",
    "## Requirements \n",
    "\n",
    "1. Name your program `head.py` \n",
    "2. Your program should have the standard docstring\n",
    "3. `head.py` should take exactly one argument (the name of a file).\n",
    "4. The program should print the first four lines of the file and exit. \n",
    "\n",
    "## Example Execution \n",
    "\n",
    "The example assumes you have a file called `myfile.txt` an it contains:\n",
    "\n",
    "```\n",
    "Line 1\n",
    "Line 2 \n",
    "Line 3 \n",
    "Line 4 \n",
    "Line 5\n",
    "Line 6\n",
    "``` \n",
    "\n",
    "The output of your program should look like this: \n",
    "\n",
    "```bash \n",
    "$ python3.6 head.py myfile.txt \n",
    "Line 1 \n",
    "Line 2\n",
    "Line 3\n",
    "Line 4\n",
    "```\n",
    "\n"
   ]
  }
 ],
 "metadata": {
  "kernelspec": {
   "display_name": "Python 3",
   "language": "python",
   "name": "python3"
  },
  "language_info": {
   "codemirror_mode": {
    "name": "ipython",
    "version": 3
   },
   "file_extension": ".py",
   "mimetype": "text/x-python",
   "name": "python",
   "nbconvert_exporter": "python",
   "pygments_lexer": "ipython3",
   "version": "3.8.3"
  }
 },
 "nbformat": 4,
 "nbformat_minor": 4
}
