{
 "cells": [
  {
   "cell_type": "markdown",
   "metadata": {},
   "source": [
    "# Lab: Start, Stop and Use the Python REPL\n",
    "\n",
    "This lab shows you how to determine the version of Python and start the *REPL*. The word \"REPL\" is an acronym for <b>R</b>ead <b>E</b>execute <b>P</b>rint <b>L</b>oop. The REPL is a mode where you can interactively enter Python code and the interpreter executes your code a line at a time. It's very handy! "
   ]
  },
  {
   "cell_type": "markdown",
   "metadata": {},
   "source": [
    "## Step 1: What version of Python 2 are you using?\n",
    "\n",
    "There are two versions of Python available in your Cloud9 environment. Check the version of your Python 2 interpreter by executing the following command in the terminal:\n",
    "\n",
    "```bash\n",
    "python --version\n",
    "```\n",
    "\n",
    "You should see output something like this: \n",
    "\n",
    "```bash\n",
    "$ python --version \n",
    "Python 2.7.12\n",
    "```\n",
    "\n",
    "Make a note of what Python 2 version you have. "
   ]
  },
  {
   "cell_type": "markdown",
   "metadata": {},
   "source": [
    "## Step 2: What version of Python 3 are you using?\n",
    "\n",
    "Check the version of your Python 3 interpreter by executing the following command in the terminal:\n",
    "\n",
    "```bash\n",
    "python3 --version\n",
    "```\n",
    "\n",
    "Make a note of what Python 3 version you have. "
   ]
  },
  {
   "cell_type": "markdown",
   "metadata": {},
   "source": [
    "## Step 3: Start the Python 3 REPL\n",
    "\n",
    "Start the Python REPL by executing the python interpreter without any arguments. If you do it right you should see the REPL's ``>>>`` prompt like this:\n",
    "\n",
    "```bash\n",
    "$ python3.6 \n",
    "Python 3.6.5 (default, Jun 20 2018, 12:29:29) \n",
    "[GCC 5.4.0 20160609] on linux\n",
    "Type \"help\", \"copyright\", \"credits\" or \"license\" for more information.\n",
    ">>> \n",
    "```\n"
   ]
  },
  {
   "cell_type": "markdown",
   "metadata": {},
   "source": [
    "## Step 4: Do Some Math\n",
    "\n",
    "Use Python as a calculator! Enter a simple math equation at the REPL prompt like this:\n",
    "\n",
    "```\n",
    ">>> 5 * 12\n",
    "60\n",
    ">>> 2 + 5 \n",
    "7\n",
    "```"
   ]
  },
  {
   "cell_type": "markdown",
   "metadata": {},
   "source": [
    "## Step 5: Quit the REPL\n",
    "\n",
    "There are two ways to quit the REPL. The simplest is to press `Ctrl-d`. You can also enter the `quit()` command into the prmpt.  "
   ]
  }
 ],
 "metadata": {
  "kernelspec": {
   "display_name": "Python 3",
   "language": "python",
   "name": "python3"
  },
  "language_info": {
   "codemirror_mode": {
    "name": "ipython",
    "version": 3
   },
   "file_extension": ".py",
   "mimetype": "text/x-python",
   "name": "python",
   "nbconvert_exporter": "python",
   "pygments_lexer": "ipython3",
   "version": "3.6.5"
  },
  "pycharm": {
   "stem_cell": {
    "cell_type": "raw",
    "metadata": {
     "collapsed": false
    },
    "source": []
   }
  }
 },
 "nbformat": 4,
 "nbformat_minor": 2
}
