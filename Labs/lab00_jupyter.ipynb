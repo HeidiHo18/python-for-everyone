{
 "cells": [
  {
   "cell_type": "markdown",
   "metadata": {},
   "source": [
    "# Using Jupyter Lab \n",
    "\n",
    "This guide will help you explore Jupyter Lab. The complete guide to Jupyter Lab can be found at this link [Jupyter Lab Interface Guide](https://jupyterlab.readthedocs.io/en/stable/user/interface.html). In the class recording you can watch me go through the components of Jupyter Lab step by step. "
   ]
  },
  {
   "cell_type": "markdown",
   "metadata": {},
   "source": [
    "## Activities \n",
    "\n",
    "In class \n",
    "\n",
    "\n",
    "### Create a New Notebook in `Lesson01` \n",
    "\n",
    "The left pane lets you navigate the file tree. You should see a list of lessons when you first start the notebook. Double click `Lesson01` to enter the folder. \n"
   ]
  }
 ],
 "metadata": {
  "file_extension": ".py",
  "kernelspec": {
   "display_name": "Python 3",
   "language": "python",
   "name": "python3"
  },
  "language_info": {
   "codemirror_mode": {
    "name": "ipython",
    "version": 3
   },
   "file_extension": ".py",
   "mimetype": "text/x-python",
   "name": "python",
   "nbconvert_exporter": "python",
   "pygments_lexer": "ipython3",
   "version": "3.6.9"
  },
  "mimetype": "text/x-python",
  "name": "python",
  "npconvert_exporter": "python",
  "pygments_lexer": "ipython3",
  "version": 3
 },
 "nbformat": 4,
 "nbformat_minor": 4
}
