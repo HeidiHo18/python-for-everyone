{
 "cells": [
  {
   "cell_type": "code",
   "execution_count": 1,
   "metadata": {},
   "outputs": [],
   "source": [
    "from ipywidgets import interact, interactive, fixed, interact_manual\n",
    "import ipywidgets as widgets"
   ]
  },
  {
   "cell_type": "code",
   "execution_count": 2,
   "metadata": {},
   "outputs": [
    {
     "data": {
      "application/vnd.jupyter.widget-view+json": {
       "model_id": "4eea8ccceef24146800da43f3db82bef",
       "version_major": 2,
       "version_minor": 0
      },
      "text/plain": [
       "IntSlider(value=0)"
      ]
     },
     "metadata": {},
     "output_type": "display_data"
    }
   ],
   "source": [
    "widgets.IntSlider()"
   ]
  },
  {
   "cell_type": "code",
   "execution_count": 3,
   "metadata": {},
   "outputs": [],
   "source": [
    "from p4e.drawing import pen"
   ]
  },
  {
   "cell_type": "code",
   "execution_count": 4,
   "metadata": {},
   "outputs": [],
   "source": [
    "def draw_shape(sides):\n",
    "    for _ in range(sides):\n",
    "        pen.draw(150 / sides)\n",
    "        pen.turn(360 / sides)\n",
    "    pen.show()"
   ]
  },
  {
   "cell_type": "code",
   "execution_count": 5,
   "metadata": {},
   "outputs": [
    {
     "data": {
      "image/png": "[encoded data removed]",
      "text/plain": [
       "<Figure size 432x432 with 1 Axes>"
      ]
     },
     "metadata": {
      "needs_background": "light"
     },
     "output_type": "display_data"
    }
   ],
   "source": [
    "draw_shape(5)"
   ]
  },
  {
   "cell_type": "code",
   "execution_count": 6,
   "metadata": {},
   "outputs": [
    {
     "data": {
      "application/vnd.jupyter.widget-view+json": {
       "model_id": "0c3b7b6c68684be1896951ae76ad022a",
       "version_major": 2,
       "version_minor": 0
      },
      "text/plain": [
       "interactive(children=(IntSlider(value=4, description='sides', max=12, min=-4), Output()), _dom_classes=('widge…"
      ]
     },
     "metadata": {},
     "output_type": "display_data"
    },
    {
     "data": {
      "text/plain": [
       "<function __main__.draw_shape(sides)>"
      ]
     },
     "execution_count": 6,
     "metadata": {},
     "output_type": "execute_result"
    }
   ],
   "source": [
    "interact(draw_shape, sides=4)"
   ]
  },
  {
   "cell_type": "code",
   "execution_count": 3,
   "metadata": {},
   "outputs": [],
   "source": []
  },
  {
   "cell_type": "code",
   "execution_count": 7,
   "metadata": {},
   "outputs": [
    {
     "ename": "ModuleNotFoundError",
     "evalue": "No module named 'requests_unixsocket'",
     "output_type": "error",
     "traceback": [
      "\u001b[0;31m---------------------------------------------------------------------------\u001b[0m",
      "\u001b[0;31mModuleNotFoundError\u001b[0m                       Traceback (most recent call last)",
      "\u001b[0;32m<ipython-input-7-34aef6c2e313>\u001b[0m in \u001b[0;36m<module>\u001b[0;34m\u001b[0m\n\u001b[0;32m----> 1\u001b[0;31m \u001b[0;32mfrom\u001b[0m \u001b[0mp4e\u001b[0m\u001b[0;34m.\u001b[0m\u001b[0mtestlib\u001b[0m \u001b[0;32mimport\u001b[0m \u001b[0mTestCase\u001b[0m\u001b[0;34m,\u001b[0m \u001b[0mrun\u001b[0m\u001b[0;34m\u001b[0m\u001b[0;34m\u001b[0m\u001b[0m\n\u001b[0m\u001b[1;32m      2\u001b[0m \u001b[0;32mfrom\u001b[0m \u001b[0mIPython\u001b[0m\u001b[0;34m.\u001b[0m\u001b[0mcore\u001b[0m\u001b[0;34m.\u001b[0m\u001b[0mdisplay\u001b[0m \u001b[0;32mimport\u001b[0m \u001b[0mHTML\u001b[0m\u001b[0;34m\u001b[0m\u001b[0;34m\u001b[0m\u001b[0m\n\u001b[1;32m      3\u001b[0m \u001b[0;32mimport\u001b[0m \u001b[0munittest\u001b[0m\u001b[0;34m\u001b[0m\u001b[0;34m\u001b[0m\u001b[0m\n\u001b[1;32m      4\u001b[0m \u001b[0;34m\u001b[0m\u001b[0m\n\u001b[1;32m      5\u001b[0m \u001b[0;32mdef\u001b[0m \u001b[0mthefunc\u001b[0m\u001b[0;34m(\u001b[0m\u001b[0mfoo\u001b[0m\u001b[0;34m,\u001b[0m \u001b[0mbar\u001b[0m\u001b[0;34m)\u001b[0m\u001b[0;34m:\u001b[0m\u001b[0;34m\u001b[0m\u001b[0;34m\u001b[0m\u001b[0m\n",
      "\u001b[0;32m~/p4e/testlib.py\u001b[0m in \u001b[0;36m<module>\u001b[0;34m\u001b[0m\n\u001b[1;32m     19\u001b[0m \u001b[0;32mimport\u001b[0m \u001b[0mthreading\u001b[0m\u001b[0;34m\u001b[0m\u001b[0;34m\u001b[0m\u001b[0m\n\u001b[1;32m     20\u001b[0m \u001b[0;32mimport\u001b[0m \u001b[0mrequests\u001b[0m\u001b[0;34m\u001b[0m\u001b[0;34m\u001b[0m\u001b[0m\n\u001b[0;32m---> 21\u001b[0;31m \u001b[0;32mimport\u001b[0m \u001b[0mrequests_unixsocket\u001b[0m\u001b[0;34m\u001b[0m\u001b[0;34m\u001b[0m\u001b[0m\n\u001b[0m\u001b[1;32m     22\u001b[0m \u001b[0;34m\u001b[0m\u001b[0m\n\u001b[1;32m     23\u001b[0m \u001b[0;32mfrom\u001b[0m \u001b[0mcontextlib\u001b[0m \u001b[0;32mimport\u001b[0m \u001b[0mcontextmanager\u001b[0m\u001b[0;34m\u001b[0m\u001b[0;34m\u001b[0m\u001b[0m\n",
      "\u001b[0;31mModuleNotFoundError\u001b[0m: No module named 'requests_unixsocket'"
     ]
    }
   ],
   "source": [
    "from p4e.testlib import TestCase, run\n",
    "from IPython.core.display import HTML \n",
    "import unittest \n",
    "\n",
    "def thefunc(foo, bar):\n",
    "    \"\"\"This is a function.\"\"\"\n",
    "    return foo + bar\n",
    "\n",
    "class TestTest(TestCase):\n",
    "\n",
    "    test_hasattr = 'thefunc'\n",
    "    \n",
    "    def test_some_stuff(self):\n",
    "        \"\"\"Testing your thefunc.\"\"\"\n",
    "        thefunc = self.sandbox(self.test_hasattr)\n",
    "        c = thefunc(100, 100, check_return=int)\n",
    "        if c != 200:\n",
    "            self.fail('Failed!')\n",
    "        \n",
    "HTML(run(TestTest))"
   ]
  },
  {
   "cell_type": "code",
   "execution_count": 8,
   "metadata": {},
   "outputs": [
    {
     "ename": "NameError",
     "evalue": "name 'TestCase' is not defined",
     "output_type": "error",
     "traceback": [
      "\u001b[0;31m---------------------------------------------------------------------------\u001b[0m",
      "\u001b[0;31mNameError\u001b[0m                                 Traceback (most recent call last)",
      "\u001b[0;32m<ipython-input-8-78f82c11f1c6>\u001b[0m in \u001b[0;36m<module>\u001b[0;34m\u001b[0m\n\u001b[1;32m      3\u001b[0m     \u001b[0;32mreturn\u001b[0m \u001b[0mfoo\u001b[0m \u001b[0;34m+\u001b[0m \u001b[0mbar\u001b[0m\u001b[0;34m\u001b[0m\u001b[0;34m\u001b[0m\u001b[0m\n\u001b[1;32m      4\u001b[0m \u001b[0;34m\u001b[0m\u001b[0m\n\u001b[0;32m----> 5\u001b[0;31m \u001b[0;32mclass\u001b[0m \u001b[0mOtherTestTest\u001b[0m\u001b[0;34m(\u001b[0m\u001b[0mTestCase\u001b[0m\u001b[0;34m)\u001b[0m\u001b[0;34m:\u001b[0m\u001b[0;34m\u001b[0m\u001b[0;34m\u001b[0m\u001b[0m\n\u001b[0m\u001b[1;32m      6\u001b[0m \u001b[0;34m\u001b[0m\u001b[0m\n\u001b[1;32m      7\u001b[0m     \u001b[0mtest_hasattr\u001b[0m \u001b[0;34m=\u001b[0m \u001b[0;34m'theotherfuncff'\u001b[0m\u001b[0;34m\u001b[0m\u001b[0;34m\u001b[0m\u001b[0m\n",
      "\u001b[0;31mNameError\u001b[0m: name 'TestCase' is not defined"
     ]
    }
   ],
   "source": [
    "def theotherfunc(foo, bar):\n",
    "    \"\"\"This is a function.\"\"\"\n",
    "    return foo + bar\n",
    "\n",
    "class OtherTestTest(TestCase):\n",
    "\n",
    "    test_hasattr = 'theotherfuncff'\n",
    "    \n",
    "    def test_some_stuff(self):\n",
    "        \"\"\"Testing your theotherfunc.\"\"\"\n",
    "        thefunc = self.sandbox(self.test_hasattr)\n",
    "        c = thefunc(100, 100, check_return=int)\n",
    "        if c != 200:\n",
    "            self.fail('Failed!')\n",
    "\n",
    "HTML(run(OtherTestTest))"
   ]
  },
  {
   "cell_type": "markdown",
   "metadata": {},
   "source": [
    "## Find the Smallest Value \n",
    "\n",
    "Write a for loop that prints the **smallest** element in my_list."
   ]
  },
  {
   "cell_type": "code",
   "execution_count": 9,
   "metadata": {},
   "outputs": [
    {
     "data": {
      "text/plain": [
       "-2"
      ]
     },
     "execution_count": 9,
     "metadata": {},
     "output_type": "execute_result"
    }
   ],
   "source": [
    "my_list = [1, 2, 3.4, 239, 43, 0x12, 0b1101, -2, 4, 3]\n",
    "\n",
    "# Put your code below this comment.\n",
    "small = my_list[0] \n",
    "for num in my_list:\n",
    "    if small > num:\n",
    "        small = num\n",
    "        \n",
    "small"
   ]
  },
  {
   "cell_type": "code",
   "execution_count": 2,
   "metadata": {},
   "outputs": [
    {
     "data": {
      "text/html": [
       "<style>\n",
       "\t\n",
       "\t.grid-container {\n",
       "\t  display: grid;\n",
       "\t  grid-template-columns: 7em auto;\n",
       "\t  grid-gap: 10px;\n",
       "\t}\n",
       "\t\n",
       "\t.grid-item-icon {\n",
       "\t\ttext-align: center;\n",
       "\t}\n",
       "\t\n",
       "\t.grid-item {\n",
       "\t\ttext-align: left;\n",
       "\t}\n",
       "\n",
       " \t.alert-fail {\n",
       "\t\t/*color: var(--jp-error-color0);*/\n",
       "\t\tcolor: blue;\n",
       "\n",
       "\t\tbackground-color: var(--jp-error-color3);\n",
       "  \t\tborder-color: var(--jp-error-color2);\t\n",
       "\t}\n",
       "\t</style>\n",
       "\t\n",
       "\t<div class=\"grid-container\">\n",
       "\t<div class=\"grid-item-icon\">\n",
       "\t\t<div class=\"alert-success\">\n",
       "\t\t\t<strong>OK</strong>\n",
       "\t\t  </div>\n",
       "\t</div>\n",
       "\t<div class=\"grid-item\">\n",
       "\t\t\n",
       "\t</div>\n",
       "\t\n",
       "\t</div>\n",
       "\t"
      ],
      "text/plain": [
       "<IPython.core.display.HTML object>"
      ]
     },
     "metadata": {},
     "output_type": "display_data"
    },
    {
     "data": {
      "text/html": [
       "<style>\n",
       "\t\n",
       "\t.grid-container {\n",
       "\t  display: grid;\n",
       "\t  grid-template-columns: 7em auto;\n",
       "\t  grid-gap: 10px;\n",
       "\t}\n",
       "\t\n",
       "\t.grid-item-icon {\n",
       "\t\ttext-align: center;\n",
       "\t}\n",
       "\t\n",
       "\t.grid-item {\n",
       "\t\ttext-align: left;\n",
       "\t}\n",
       "\n",
       " \t.alert-fail {\n",
       "\t\t/*color: var(--jp-error-color0);*/\n",
       "\t\tcolor: blue;\n",
       "\n",
       "\t\tbackground-color: var(--jp-error-color3);\n",
       "  \t\tborder-color: var(--jp-error-color2);\t\n",
       "\t}\n",
       "\t</style>\n",
       "\t\n",
       "\t<div class=\"grid-container\">\n",
       "\t<div class=\"grid-item-icon\">\n",
       "\t\t<div class=\"alert-danger\">\n",
       "\t\t\t<strong>FAIL</strong>\n",
       "\t\t  </div>\n",
       "\t</div>\n",
       "\t<div class=\"grid-item\">\n",
       "\t\t\n",
       "\t\t\t<pre>-2 is not the minimum in [1, 2, 3.4, 239, 43, 18, 13, -2, 4, 3]</pre>\n",
       "\t\t\n",
       "\t</div>\n",
       "\t\n",
       "\t</div>\n",
       "\t"
      ],
      "text/plain": [
       "<IPython.core.display.HTML object>"
      ]
     },
     "metadata": {},
     "output_type": "display_data"
    }
   ],
   "source": [
    "from p4e.testlib import TestCase, run, check\n",
    "from IPython.core.display import HTML \n",
    "\n",
    "my_list = [1, 2, 3.4, 239, 43, 0x12, 0b1101, -2, 4, 3]\n",
    "\n",
    "# Put your code below this comment.\n",
    "small = my_list[0] \n",
    "for num in my_list:\n",
    "    if small > num:\n",
    "        small = num\n",
    "        \n",
    "small\n",
    "\n",
    "def wrap_simple(func, message=\"Fail!\"):\n",
    "    class _wrapper(unittest.TestCase):\n",
    "        def test(self):\n",
    "            \"\"\"Testing\"\"\"\n",
    "            if not func():\n",
    "                self.fail(message)\n",
    "    return HTML(run(_wrapper, template=\"compact.html\"))\n",
    "\n",
    "def tt():\n",
    "    return small == min(my_list)\n",
    "    \n",
    "check(lambda: small == min(my_list), f\"{small} is not the minimum in {my_list}\")\n",
    "check(lambda: small != min(my_list), f\"{small} is not the minimum in {my_list}\")\n"
   ]
  },
  {
   "cell_type": "code",
   "execution_count": 3,
   "metadata": {},
   "outputs": [
    {
     "data": {
      "text/html": [
       "<style>\n",
       ".grid-container {\n",
       "  display: grid;\n",
       "  grid-template-columns: 7em auto;\n",
       "  grid-gap: 10px;\n",
       "}\n",
       "\n",
       ".grid-item-icon {\n",
       "\ttext-align: center;\n",
       "\tmargin-top: 1em;\n",
       "}\n",
       "\n",
       ".grid-item {\n",
       "\ttext-align: left;\n",
       "\tmargin-top: 1em;\n",
       "}\n",
       "\n",
       ".grid-item-label {\n",
       "\ttext-align: right;\n",
       "\tfont-weight: bold;\n",
       "}\n",
       "\n",
       ".grid-item-result {\n",
       "\ttext-align: left;\n",
       "\tpadding-left: 1em;\n",
       "\tborder-left: solid gray 1px;\n",
       "}\n",
       "\n",
       ".grid-item-result pre {\n",
       "    font-size: 100%;\t\n",
       "}\n",
       "\n",
       "</style>\n",
       "\n",
       "<div class=\"grid-container\">\n",
       "<div class=\"grid-item-icon\">\n",
       "\t<div class=\"alert alert-success\">\n",
       "\t\t<strong>OK</strong>\n",
       "\t  </div>\n",
       "</div>\n",
       "<div class=\"grid-item\">\n",
       "\t<b>test_some_stuff</b><br>\n",
       "\t<i>Testing your theotherfunc.</i>\n",
       "</div>\n",
       "\n",
       "\n",
       "\n",
       "\n",
       "\n",
       "<script>\n",
       "\tfunction showHideContent(item) {\n",
       "\t\tvar x = document.getElementById(\"content_\" + item);\n",
       "\t\tvar y = document.getElementById(\"label_\" + item);\n",
       "\t\tif (x.style.display === \"none\") {\n",
       "\t\t\tx.style.display = \"block\";\n",
       "\t\t\ty.innerHTML = \"&#9660;\"\n",
       "\t\t} else {\n",
       "\t\t\tx.style.display = \"none\";\n",
       "\t\t\ty.innerHTML = \"&#9658;\"\n",
       "\t\t}\n",
       "\t}\n",
       "</script>\n",
       "</div>"
      ],
      "text/plain": [
       "<IPython.core.display.HTML object>"
      ]
     },
     "execution_count": 3,
     "metadata": {},
     "output_type": "execute_result"
    }
   ],
   "source": [
    "class CellTest(TestCase):\n",
    "    test_hasattr = 'small'\n",
    "    def test_some_stuff(self):\n",
    "        \"\"\"Testing your theotherfunc.\"\"\"\n",
    "        self.compare(small, min(my_list))\n",
    "\n",
    "HTML(run(CellTest))"
   ]
  }
 ],
 "metadata": {
  "kernelspec": {
   "display_name": "Python 3",
   "language": "python",
   "name": "python3"
  },
  "language_info": {
   "codemirror_mode": {
    "name": "ipython",
    "version": 3
   },
   "file_extension": ".py",
   "mimetype": "text/x-python",
   "name": "python",
   "nbconvert_exporter": "python",
   "pygments_lexer": "ipython3",
   "version": "3.7.6"
  }
 },
 "nbformat": 4,
 "nbformat_minor": 4
}
