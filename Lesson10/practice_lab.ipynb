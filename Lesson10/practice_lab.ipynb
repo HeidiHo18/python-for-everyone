{
 "cells": [
  {
   "cell_type": "markdown",
   "metadata": {},
   "source": [
    "# Practice Test for Dictionaries \n",
    "\n",
    "This test will help you better understand how to use dictionaries. "
   ]
  },
  {
   "cell_type": "markdown",
   "metadata": {},
   "source": [
    "Create a dictionary `d` with the following key/value pairs.\n",
    "\n",
    "|Key|Value|\n",
    "|-|-|\n",
    "|k|100|\n",
    "|v|2|\n",
    "|c|1.3|\n",
    "|t|'Friend'|\n"
   ]
  },
  {
   "cell_type": "code",
   "execution_count": null,
   "metadata": {},
   "outputs": [],
   "source": []
  },
  {
   "cell_type": "markdown",
   "metadata": {},
   "source": [
    "Change the value of the key `k3` in the dictionary `d`. **DO NOT** change the starter code."
   ]
  },
  {
   "cell_type": "code",
   "execution_count": null,
   "metadata": {},
   "outputs": [],
   "source": [
    "d = { 'k1' : 'v1',\n",
    "     'k2' : 'v2',\n",
    "     'k3' : 'v3',\n",
    "     'k4' : 'v4',\n",
    "    }\n",
    "\n",
    "# Put your code below this line."
   ]
  },
  {
   "cell_type": "markdown",
   "metadata": {},
   "source": [
    "Use `input` to get a key from the user. Print `Yes` if the key exists in the dictionary `d` and `No` if it does not. "
   ]
  },
  {
   "cell_type": "code",
   "execution_count": null,
   "metadata": {},
   "outputs": [],
   "source": [
    "d = { 'k1' : 'v1',\n",
    "     'k2' : 'v2',\n",
    "     'k3' : 'v3',\n",
    "     'k4' : 'v4',\n",
    "    }\n",
    "\n",
    "k = input(\"Enter a key and I'll tell you if it exists.\")"
   ]
  },
  {
   "cell_type": "markdown",
   "metadata": {},
   "source": [
    "Write a `for` loop that prints all the keys in the dictionary `d`."
   ]
  },
  {
   "cell_type": "code",
   "execution_count": null,
   "metadata": {},
   "outputs": [],
   "source": [
    "d = { 'k1' : 'v1',\n",
    "     'k2' : 'v2',\n",
    "     'k3' : 'v3',\n",
    "     'k4' : 'v4',\n",
    "    }\n",
    "\n",
    "# Put your code below this line."
   ]
  },
  {
   "cell_type": "markdown",
   "metadata": {},
   "source": [
    "Write a `for` loop that prints all of the values in the dictionary `d`."
   ]
  },
  {
   "cell_type": "code",
   "execution_count": null,
   "metadata": {},
   "outputs": [],
   "source": [
    "d = { 'k1' : 'v1',\n",
    "     'k2' : 'v2',\n",
    "     'k3' : 'v3',\n",
    "     'k4' : 'v4',\n",
    "    }\n",
    "\n",
    "# Put your code below this line."
   ]
  },
  {
   "cell_type": "markdown",
   "metadata": {},
   "source": [
    "Write a `for` loop that prints all keys and values in the dictionary `d`."
   ]
  },
  {
   "cell_type": "code",
   "execution_count": null,
   "metadata": {},
   "outputs": [],
   "source": [
    "d = { 'k1' : 'v1',\n",
    "     'k2' : 'v2',\n",
    "     'k3' : 'v3',\n",
    "     'k4' : 'v4',\n",
    "    }\n",
    "\n",
    "# Put your code below this line."
   ]
  },
  {
   "cell_type": "markdown",
   "metadata": {},
   "source": [
    "Write a function caled `reverse_get` that takes two arguments:\n",
    " \n",
    "  - A dictionary \n",
    "  - A value in the dictionary \n",
    "  \n",
    "The function should return the key that matches the value or `None` if the value is not found in the dictionary. \n"
   ]
  },
  {
   "cell_type": "code",
   "execution_count": null,
   "metadata": {},
   "outputs": [],
   "source": [
    "def reverese_get(d, val):\n",
    "    pass"
   ]
  },
  {
   "cell_type": "markdown",
   "metadata": {},
   "source": [
    "Write a function that takes a single argument and counts how many times each letter appears in the string then returns a dictionary with letters for keys and the count of the letters as values. For example if the function is given the sentence:\n",
    "\n",
    "```python\n",
    "count_letters('Hello World')\n",
    "```\n",
    "\n",
    "It should return the dictionary:\n",
    "\n",
    "```python\n",
    "{ \n",
    "    'h' : 1,\n",
    "    'e' : 1,\n",
    "    'l' : 3,\n",
    "    'o' : 2,\n",
    "    'w' : 1,\n",
    "    'd' : 1,\n",
    "}\n",
    "```"
   ]
  },
  {
   "cell_type": "code",
   "execution_count": null,
   "metadata": {},
   "outputs": [],
   "source": [
    "example_text = \"\"\"\n",
    "It was a dark and stormy night; the rain fell in torrents — except \n",
    "at occasional intervals, when it was checked by a violent gust of \n",
    "wind which swept up the streets (for it is in London that our scene\n",
    "lies), rattling along the housetops, and fiercely agitating the \n",
    "scanty flame of the lamps that struggled against the darkness.\n",
    "\"\"\"\n",
    "\n",
    "def count_letters(text):\n",
    "    pass"
   ]
  },
  {
   "cell_type": "markdown",
   "metadata": {},
   "source": [
    "There is a file called `address_book.txt` it contains the following lines:\n",
    "\n",
    "```\n",
    "Mike, 555-555-1111, 555-555-1112, mike@example.com\n",
    "Sally, 555-555-1113, 555-555-1114, sally@example.com\n",
    "Lucia, 555-555-1115, 555-555-1116, lucia@example.com\n",
    "Mo, 555-555-1117, 555-555-1118, mo@example.com\n",
    "```\n",
    "\n",
    "Read the file, line by line, and insert them into a dictionary called `address_book`. Each entry in the dictionary should be structured like the example below:\n",
    "\n",
    "```python\n",
    "address_book = {\n",
    "    'Mike' : {\n",
    "        'Mobile' : '555-555-1111',\n",
    "        'Office' : '555-555-1112',\n",
    "        'Email'  : 'mike@example.com',\n",
    "    },\n",
    "}\n",
    "        \n",
    "```"
   ]
  },
  {
   "cell_type": "code",
   "execution_count": null,
   "metadata": {
    "collapsed": false,
    "jupyter": {
     "outputs_hidden": false
    },
    "pycharm": {
     "name": "#%%\n"
    }
   },
   "outputs": [],
   "source": []
  }
 ],
 "metadata": {
  "kernelspec": {
   "display_name": "Python 3",
   "language": "python",
   "name": "python3"
  },
  "language_info": {
   "codemirror_mode": {
    "name": "ipython",
    "version": 3
   },
   "file_extension": ".py",
   "mimetype": "text/x-python",
   "name": "python",
   "nbconvert_exporter": "python",
   "pygments_lexer": "ipython3",
   "version": "3.6.9"
  },
  "pycharm": {
   "stem_cell": {
    "cell_type": "raw",
    "metadata": {
     "collapsed": false
    },
    "source": []
   }
  }
 },
 "nbformat": 4,
 "nbformat_minor": 4
}
