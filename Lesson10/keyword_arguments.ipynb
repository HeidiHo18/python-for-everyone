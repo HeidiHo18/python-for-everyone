{
 "cells": [
  {
   "cell_type": "markdown",
   "metadata": {},
   "source": [
    "# Keyword Arguments \n",
    "\n",
    "  * Python functions are extremely flexible! \n",
    "    * It's part of why Python is so popular. \n",
    "  * So far we've seen *named* arguments to functions. \n",
    "\n",
    "What about this function call?"
   ]
  },
  {
   "cell_type": "code",
   "execution_count": null,
   "metadata": {},
   "outputs": [],
   "source": [
    "\"I love to {verb} with {noun}\".format(verb='eat', noun='sporks')"
   ]
  },
  {
   "cell_type": "markdown",
   "metadata": {},
   "source": [
    "  * `format()` is just a function like any other. \n",
    "  * Format uses *keyword* arguments. \n",
    "  * When a function has keyword arguments you name them as you pass them into the function. \n",
    "\n",
    "Functions that take keyword arguments look like this:"
   ]
  },
  {
   "cell_type": "code",
   "execution_count": null,
   "metadata": {},
   "outputs": [],
   "source": [
    "def keyword_func(**kwargs) : \n",
    "    print ('Noun:', kwargs['noun'])\n",
    "    print ('Verb:', kwargs['verb'])\n",
    "    \n",
    "keyword_func(noun='spork', verb='eat')"
   ]
  },
  {
   "cell_type": "markdown",
   "metadata": {},
   "source": [
    "  * The variable `**kwargs` is just a Python dictionary. \n",
    "  * The `**` in front of the name indicates that you want keyword arguments stored there. \n",
    "  * The name `kwargs` is **not** special. It's just a tradition. You can use any other name. \n",
    "  * Keyword arguments don't have to be in order. \n",
    "\n",
    "The program above would work just as well if you call the function this way:"
   ]
  },
  {
   "cell_type": "code",
   "execution_count": null,
   "metadata": {},
   "outputs": [],
   "source": [
    "keyword_func(verb='eat', noun='spork')"
   ]
  },
  {
   "cell_type": "markdown",
   "metadata": {},
   "source": [
    "You could even add extra keyword arguments (they will be ignored):"
   ]
  },
  {
   "cell_type": "code",
   "execution_count": null,
   "metadata": {},
   "outputs": [],
   "source": [
    "keyword_func(verb='eat', noun='spork', adverb='boldly')"
   ]
  },
  {
   "cell_type": "markdown",
   "metadata": {},
   "source": [
    "However, you cannot take keywords away unless in your function you first check for their presence:"
   ]
  },
  {
   "cell_type": "code",
   "execution_count": null,
   "metadata": {},
   "outputs": [],
   "source": [
    "def keyword_check(**kwargs) :\n",
    "    if 'noun' in kwargs : \n",
    "        print ('Noun:', kwargs['noun'])\n",
    "    if 'verb' in kwargs : \n",
    "        print ('Verb:', kwargs['verb'])\n",
    "    \n",
    "keyword_check(noun='spork')"
   ]
  },
  {
   "cell_type": "markdown",
   "metadata": {},
   "source": [
    "  * You can use an existing dictionary to pass keyword arguments. \n",
    "  * When you do you must put the `**` in front of the dictionary \n",
    "\n",
    "Here's an example of converting a dictionary into keyword arguments:"
   ]
  },
  {
   "cell_type": "code",
   "execution_count": null,
   "metadata": {},
   "outputs": [],
   "source": [
    "def keyword_func(**kwargs) : \n",
    "    print ('Noun:', kwargs['noun'])\n",
    "    print ('Verb:', kwargs['verb'])\n",
    "\n",
    "args = {}\n",
    "args['noun'] = 'spork'\n",
    "args['verb'] = 'eat'\n",
    "\n",
    "keyword_func(noun='spork', verb='eat') \n",
    "keyword_func(**args) # Same as above"
   ]
  },
  {
   "cell_type": "markdown",
   "metadata": {},
   "source": [
    "## Syntactic Sugar: The f-string \n",
    "\n",
    "In programming, *syntactic sugar* is a feature of a programming language that's designed to save typing or make something more clear. Syntactic sugar does not add a new feature, it makes an existing one look better. The f-string in Python is syntactic sugar. Consider the following:"
   ]
  },
  {
   "cell_type": "code",
   "execution_count": null,
   "metadata": {},
   "outputs": [],
   "source": [
    "verb = 'eat'\n",
    "noun = 'spork'\n",
    "print (f'I like to {verb} with a {noun}')\n",
    "print ('I like to {verb} with a {noun}'.format(**{**globals(), **locals()}))"
   ]
  },
  {
   "cell_type": "markdown",
   "metadata": {},
   "source": [
    "The f-string is a lot prettier than the equivalent `format()` function!"
   ]
  }
 ],
 "metadata": {
  "kernelspec": {
   "display_name": "Python 3",
   "language": "python",
   "name": "python3"
  },
  "language_info": {
   "codemirror_mode": {
    "name": "ipython",
    "version": 3
   },
   "file_extension": ".py",
   "mimetype": "text/x-python",
   "name": "python",
   "nbconvert_exporter": "python",
   "pygments_lexer": "ipython3",
   "version": "3.6.2"
  }
 },
 "nbformat": 4,
 "nbformat_minor": 2
}
