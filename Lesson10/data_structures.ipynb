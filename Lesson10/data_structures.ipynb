{
 "cells": [
  {
   "cell_type": "markdown",
   "metadata": {},
   "source": [
    "# Data Structures \n",
    "\n",
    "A data structure is a way to store and organize data in a computer program. Data structures are designed by the programmer to allow convenient access to data. In this lecture you'll learn how you can combine lists and dictionaries to efficiently store data. \n",
    "\n",
    "## Multidimensional Arrays \n",
    "\n",
    "A multidimensional array is an *array of arrays*. The simplest form of a multidimensional array as two-dimensional grid. Think of a tic tac toe game. "
   ]
  },
  {
   "cell_type": "code",
   "execution_count": null,
   "metadata": {
    "collapsed": false,
    "jupyter": {
     "outputs_hidden": false
    },
    "pycharm": {
     "is_executing": false,
     "name": "#%% \n"
    }
   },
   "outputs": [],
   "source": [
    "tic_tac_toe = [\n",
    "    ['0', '1', '2'],\n",
    "    ['3', '4', '5'],\n",
    "    ['6', '7', '8'],\n",
    "]"
   ]
  },
  {
   "cell_type": "markdown",
   "metadata": {},
   "source": [
    "Notice that the grid is defined as an array of arrays. The array above has cell numbers where eventually Xs and Os will be placed. The tic tac toe grid cells can be accessed using the index multiple operators `[]`. Run the code below to see how to access individual cells. Can you see the pattern? "
   ]
  },
  {
   "cell_type": "code",
   "execution_count": null,
   "metadata": {
    "collapsed": false,
    "jupyter": {
     "outputs_hidden": false
    },
    "pycharm": {
     "is_executing": false,
     "name": "#%%\n"
    }
   },
   "outputs": [],
   "source": [
    "tic_tac_toe[0][0]"
   ]
  },
  {
   "cell_type": "markdown",
   "metadata": {
    "pycharm": {
     "name": "#%% md\n"
    }
   },
   "source": [
    "When you are accessing multidimensional arrays it's common to use a for loop in a for loop. Here's a function that clears the grid to prepare it for a game of tic tac toe. "
   ]
  },
  {
   "cell_type": "code",
   "execution_count": null,
   "metadata": {
    "collapsed": false,
    "jupyter": {
     "outputs_hidden": false
    },
    "pycharm": {
     "is_executing": false,
     "name": "#%% \n"
    }
   },
   "outputs": [],
   "source": [
    "def clear_game():\n",
    "    global tic_tac_toe\n",
    "    tic_tac_toe = [] # Start with an empty array. \n",
    "    for i in range(3):\n",
    "        row = [] # Create an empty row.\n",
    "        for j in range(3):\n",
    "            row.append(' ') # Append an empty cell to the row\n",
    "        tic_tac_toe.append(row) # Append the row to the game"
   ]
  },
  {
   "cell_type": "markdown",
   "metadata": {},
   "source": [
    "Add a print statement or two to the code in the cell above and run it. Here's a function that pretty-prints the grid so that you can play a game. "
   ]
  },
  {
   "cell_type": "code",
   "execution_count": null,
   "metadata": {
    "collapsed": false,
    "jupyter": {
     "outputs_hidden": false
    },
    "pycharm": {
     "is_executing": false,
     "name": "#%%\n"
    }
   },
   "outputs": [],
   "source": [
    "def print_game():\n",
    "    global tic_tac_toe\n",
    "    rows = []\n",
    "    for i in range(len(tic_tac_toe)):\n",
    "        rows.append(\" \" + \" | \".join(tic_tac_toe[i]) + \"\\n\")\n",
    "    print(\"-----------\\n\".join(rows))"
   ]
  },
  {
   "cell_type": "markdown",
   "metadata": {
    "pycharm": {
     "name": "#%% md\n"
    }
   },
   "source": [
    "Execute the `print_game()` function so you can see the grid."
   ]
  },
  {
   "cell_type": "code",
   "execution_count": null,
   "metadata": {
    "collapsed": false,
    "jupyter": {
     "outputs_hidden": false
    },
    "pycharm": {
     "is_executing": false,
     "name": "#%%\n"
    }
   },
   "outputs": [],
   "source": [
    "print_game()"
   ]
  },
  {
   "cell_type": "markdown",
   "metadata": {},
   "source": [
    "So how do we fill in a square? This is a function that takes a square number (0 to 8) and places an 'X' or an 'O' in the square. "
   ]
  },
  {
   "cell_type": "code",
   "execution_count": null,
   "metadata": {
    "collapsed": false,
    "jupyter": {
     "outputs_hidden": false
    },
    "pycharm": {
     "is_executing": false,
     "name": "#%%\n"
    }
   },
   "outputs": [],
   "source": [
    "def move_game(square, x_or_o):\n",
    "    global tic_tac_toe\n",
    "    i = square // 3 \n",
    "    j = square % 3 \n",
    "    tic_tac_toe[i][j] = x_or_o"
   ]
  },
  {
   "cell_type": "markdown",
   "metadata": {},
   "source": [
    "Notice the integer div and mod operations! Run the code below to make some moves on the game board: "
   ]
  },
  {
   "cell_type": "code",
   "execution_count": null,
   "metadata": {
    "collapsed": false,
    "jupyter": {
     "outputs_hidden": false
    },
    "pycharm": {
     "is_executing": false,
     "name": "#%%\n"
    }
   },
   "outputs": [],
   "source": [
    "clear_game()\n",
    "move_game(4, 'X')\n",
    "move_game(3, 'O')\n",
    "print_game()"
   ]
  },
  {
   "cell_type": "markdown",
   "metadata": {},
   "source": [
    "Now we're ready to play! "
   ]
  },
  {
   "cell_type": "code",
   "execution_count": null,
   "metadata": {
    "collapsed": false,
    "jupyter": {
     "outputs_hidden": false
    },
    "pycharm": {
     "is_executing": false,
     "name": "#%%\n"
    }
   },
   "outputs": [],
   "source": [
    "def play_game():\n",
    "    clear_game()\n",
    "    player = 'X'\n",
    "    while True:\n",
    "        move = int(input(f'Player {player} enter a square (-1 to quit): '))\n",
    "        if move == -1:\n",
    "            return\n",
    "        move_game(move, player)\n",
    "        print_game()\n",
    "        if player == 'X':\n",
    "            player = 'O'\n",
    "        else:\n",
    "            player = 'X'"
   ]
  },
  {
   "cell_type": "markdown",
   "metadata": {},
   "source": [
    "Let's play the game!"
   ]
  },
  {
   "cell_type": "code",
   "execution_count": null,
   "metadata": {
    "collapsed": false,
    "jupyter": {
     "outputs_hidden": false
    },
    "pycharm": {
     "is_executing": false,
     "name": "#%%\n"
    }
   },
   "outputs": [],
   "source": [
    "play_game()"
   ]
  },
  {
   "cell_type": "markdown",
   "metadata": {},
   "source": [
    "### Practice\n",
    "\n",
    "Write a function that creates an `m` by `n` array. \n",
    "\n",
    "Function: `make_2d_array`\n",
    "  - Arguments: \n",
    "    - `rows`: The number of rows in the array\n",
    "    - `cols`: The number of columns in the array\n",
    "  - Returns: The array will all cells set to `None`"
   ]
  },
  {
   "cell_type": "code",
   "execution_count": null,
   "metadata": {},
   "outputs": [],
   "source": []
  },
  {
   "cell_type": "markdown",
   "metadata": {},
   "source": [
    "Use your function to create an array called `my_array` with 5 rows and 10 columns. "
   ]
  },
  {
   "cell_type": "code",
   "execution_count": null,
   "metadata": {},
   "outputs": [],
   "source": []
  },
  {
   "cell_type": "markdown",
   "metadata": {},
   "source": [
    "Write a for loop that prints each cell of `my_array` in a grid. "
   ]
  },
  {
   "cell_type": "code",
   "execution_count": null,
   "metadata": {},
   "outputs": [],
   "source": []
  },
  {
   "cell_type": "markdown",
   "metadata": {},
   "source": [
    "Write a `for` loop that numbers each cell of `my_array` starting from `0` to `(m*n)-1` similarly to the initial tic tac toe game above."
   ]
  },
  {
   "cell_type": "code",
   "execution_count": null,
   "metadata": {},
   "outputs": [],
   "source": []
  },
  {
   "cell_type": "markdown",
   "metadata": {},
   "source": [
    "## Dictionary Data Structures\n",
    "\n"
   ]
  },
  {
   "cell_type": "markdown",
   "metadata": {},
   "source": [
    "Python allows you to mix and match lists and dictionaries. You can make interesting data structures this way. Think of a dictionary data structre as a tree. Consider a phone book that is indexed by contact name, that has the following structure:\n",
    "\n",
    "    - Email Address\n",
    "    - Mobile Number\n",
    "    - Home Number\n",
    "    - Work Number\n",
    "      \n",
    "Here's a dictionary that represents an individual contact:"
   ]
  },
  {
   "cell_type": "code",
   "execution_count": null,
   "metadata": {},
   "outputs": [],
   "source": [
    "bob_smith = { \n",
    "  'email':  'bob@company.com', \n",
    "  'mobile': '555-1212', \n",
    "  'home':   '555-3434', \n",
    "  'work':   '555-6767'\n",
    "}"
   ]
  },
  {
   "cell_type": "markdown",
   "metadata": {},
   "source": [
    "The contact list itself is a dictionary with the contact name as a key. Here's sample code that creates our contact list:"
   ]
  },
  {
   "cell_type": "code",
   "execution_count": null,
   "metadata": {},
   "outputs": [],
   "source": [
    "contacts = {}\n",
    "contacts['Bob Smith'] = bob_smith"
   ]
  },
  {
   "cell_type": "markdown",
   "metadata": {},
   "source": [
    "Examine the `contacts` variable to see what it contains:"
   ]
  },
  {
   "cell_type": "code",
   "execution_count": null,
   "metadata": {},
   "outputs": [],
   "source": [
    "contacts"
   ]
  },
  {
   "cell_type": "markdown",
   "metadata": {},
   "source": [
    "Here's how we access Bob's information:"
   ]
  },
  {
   "cell_type": "code",
   "execution_count": null,
   "metadata": {},
   "outputs": [],
   "source": [
    "contacts['Bob Smith']"
   ]
  },
  {
   "cell_type": "markdown",
   "metadata": {},
   "source": [
    "Here's how we get Bob's email address:"
   ]
  },
  {
   "cell_type": "code",
   "execution_count": null,
   "metadata": {},
   "outputs": [],
   "source": [
    "contacts['Bob Smith']['email']"
   ]
  },
  {
   "cell_type": "markdown",
   "metadata": {},
   "source": [
    "Try writing code that retreives Bob's home number:"
   ]
  },
  {
   "cell_type": "code",
   "execution_count": null,
   "metadata": {},
   "outputs": [],
   "source": []
  },
  {
   "cell_type": "markdown",
   "metadata": {},
   "source": [
    "Here's an example of one way to add a new contact to the list:"
   ]
  },
  {
   "cell_type": "code",
   "execution_count": null,
   "metadata": {},
   "outputs": [],
   "source": [
    "contacts['Mike Matera'] = {\n",
    "    'email': 'michael.matera@cabrillo.edu',\n",
    "    'work':  '(831)477-3270',\n",
    "}"
   ]
  },
  {
   "cell_type": "markdown",
   "metadata": {},
   "source": [
    "Notice that the contact list has been updated:"
   ]
  },
  {
   "cell_type": "code",
   "execution_count": null,
   "metadata": {},
   "outputs": [],
   "source": [
    "contacts"
   ]
  },
  {
   "cell_type": "markdown",
   "metadata": {},
   "source": [
    "### Practice \n",
    "\n",
    "Add your contact information to the dictionary:"
   ]
  },
  {
   "cell_type": "code",
   "execution_count": null,
   "metadata": {},
   "outputs": [],
   "source": []
  },
  {
   "cell_type": "markdown",
   "metadata": {},
   "source": [
    "Write a function that prints each entry in the contact list. *Remember: Not all contacts have all fields!*"
   ]
  },
  {
   "cell_type": "code",
   "execution_count": null,
   "metadata": {},
   "outputs": [],
   "source": []
  },
  {
   "cell_type": "markdown",
   "metadata": {},
   "source": [
    "### A More Complicated Example \n",
    "\n",
    "* You could also make a dictionary with users of your blog website \n",
    "  * Users have the standard attributes:\n",
    "    * Real Name \n",
    "    * Email Address \n",
    "    * Posts \n",
    "  * A post contains some attributes:\n",
    "    * Title \n",
    "    * Text \n",
    "\n",
    "Now let's create a user and some posts:"
   ]
  },
  {
   "cell_type": "code",
   "execution_count": null,
   "metadata": {},
   "outputs": [],
   "source": [
    "post1 = {'title': 'First post!',  \n",
    "  'text': \"This is my first post to my new blog.\"\n",
    "  }\n",
    "post2 = {'title': 'Ate Cereal for Breakfast.', \n",
    "  'text': \"I ate cereal today they were Heritage O's. High in fiber.\"\n",
    "  }\n",
    "bloggers = {\n",
    "  'mike' : {\n",
    "  'name' : 'Mike Matera', \n",
    "  'email' : 'matera@matera.com',\n",
    "  'posts' : [post1, post2]\n",
    "  }\n",
    "}\n",
    "\n",
    "# Now you can access a post like this:\n",
    "print(bloggers['mike']['posts'][0]['title'])\n",
    "print(bloggers['mike']['posts'][0]['text'])"
   ]
  },
  {
   "cell_type": "markdown",
   "metadata": {},
   "source": [
    "  * When you have complex data structures it helps to have functions to perform common activities. \n",
    "  * Functions help you by naming common operations. \n",
    "  * Functions help keep your structure consistent. \n",
    "  * Let's add functions to manipulate our data.\n",
    "\n",
    "Here's a function that creates a user."
   ]
  },
  {
   "cell_type": "code",
   "execution_count": null,
   "metadata": {},
   "outputs": [],
   "source": [
    "def create_user(data, username, realname, email) : \n",
    "    ''' Create a user in a blog data structure \n",
    "    \n",
    "    Args: \n",
    "        data - The data structure to use \n",
    "        username - The user's username \n",
    "        realname - The uers's real name \n",
    "        email - The users's email address. \n",
    "    '''\n",
    "    data[username] = {}\n",
    "    data[username]['name'] = realname \n",
    "    data[username]['email'] = email \n",
    "    data[username]['posts'] = []"
   ]
  },
  {
   "cell_type": "markdown",
   "metadata": {},
   "source": [
    "  * Important: That when the user is created they get an empty list of posts. \n",
    "  * I pass the data structure in to avoid using global data \n",
    "\n",
    "Here's a function that adds a post:"
   ]
  },
  {
   "cell_type": "code",
   "execution_count": null,
   "metadata": {},
   "outputs": [],
   "source": [
    "def add_post(data, username, title, text) : \n",
    "    ''' Append the post to the user's list of blog posts. \n",
    "    \n",
    "    Args:\n",
    "        data - The blog data structure to use. \n",
    "        username - The user who wrote the post. \n",
    "        title - The title of the new post. \n",
    "        text - The text of the post. \n",
    "    '''\n",
    "    data[username]['posts'].append({'title' : title, 'text' : text})"
   ]
  },
  {
   "cell_type": "markdown",
   "metadata": {},
   "source": [
    "  * The previous functions change our data. \n",
    "  * It's very useful to have functions that access data. \n",
    "\n",
    "Here's a function that prints all the posts from a particular user:"
   ]
  },
  {
   "cell_type": "code",
   "execution_count": null,
   "metadata": {},
   "outputs": [],
   "source": [
    "def print_blogs(data, username) : \n",
    "    ''' Print all of the blog entries for a user.\n",
    "    \n",
    "    Args:\n",
    "        data - The blog data structure to use. \n",
    "        username - The user to print. \n",
    "    '''\n",
    "    for blog in data[username]['posts'] : \n",
    "        print ('Title:', blog['title'])\n",
    "        print ('Text:', blog['text'])"
   ]
  },
  {
   "cell_type": "markdown",
   "metadata": {},
   "source": [
    "### Practice \n",
    "\n",
    "Use the functions provided to create a blog user and add a post."
   ]
  },
  {
   "cell_type": "code",
   "execution_count": null,
   "metadata": {},
   "outputs": [],
   "source": []
  }
 ],
 "metadata": {
  "kernelspec": {
   "display_name": "Python 3",
   "language": "python",
   "name": "python3"
  },
  "language_info": {
   "codemirror_mode": {
    "name": "ipython",
    "version": 3
   },
   "file_extension": ".py",
   "mimetype": "text/x-python",
   "name": "python",
   "nbconvert_exporter": "python",
   "pygments_lexer": "ipython3",
   "version": "3.6.8"
  },
  "pycharm": {
   "stem_cell": {
    "cell_type": "raw",
    "metadata": {
     "collapsed": false
    },
    "source": []
   }
  }
 },
 "nbformat": 4,
 "nbformat_minor": 4
}
