{
 "cells": [
  {
   "cell_type": "markdown",
   "metadata": {},
   "source": [
    "# Dictionaries \n",
    "\n",
    "Dictionaries are like lists, but instead of a numerical index you can use any value. The `index` of a dictionary is known as a `key`. Each `key` is used to find a `value`. \n",
    "\n",
    "Dictionaries are declared with key/value pairs separated by colons."
   ]
  },
  {
   "cell_type": "code",
   "execution_count": null,
   "metadata": {},
   "outputs": [],
   "source": [
    "animals = { 'Lion' : 'Panthera Leo', 'Tiger' : 'Panthera Tigris', 'Bear' : 'Ursus Arctos'}"
   ]
  },
  {
   "cell_type": "markdown",
   "metadata": {},
   "source": [
    "Just like a list, a dictionary can be empty."
   ]
  },
  {
   "cell_type": "code",
   "execution_count": null,
   "metadata": {},
   "outputs": [],
   "source": [
    "animals = {} "
   ]
  },
  {
   "cell_type": "markdown",
   "metadata": {},
   "source": [
    "Dictionaries are their own type in Python:"
   ]
  },
  {
   "cell_type": "code",
   "execution_count": null,
   "metadata": {},
   "outputs": [],
   "source": [
    "animals = { 'Lion' : 'Panthera Leo', 'Tiger' : 'Panthera Tigris', 'Bear' : 'Ursus Arctos'}\n",
    "print(type(animals))"
   ]
  },
  {
   "cell_type": "markdown",
   "source": [
    "### Practice\n",
    "\n",
    "In the cell below create a dictionary with the following key/value pairs:\n",
    "\n",
    "| Key | Value | \n",
    "| --- | --- |\n",
    "| cis-15 | Cloud Programming in Python |\n",
    "| cis-81 | Introduction to Networking |\n",
    "| cis-90 | Introduction to UNIX/Linux | \n",
    "| cis-75 | Computer Security Fundamentals |"
   ],
   "metadata": {
    "collapsed": false
   }
  },
  {
   "cell_type": "code",
   "execution_count": null,
   "outputs": [],
   "source": [],
   "metadata": {
    "collapsed": false,
    "pycharm": {
     "name": "#%%\n"
    }
   }
  },
  {
   "cell_type": "markdown",
   "metadata": {},
   "source": [
    "## Accessing, Adding and Removing Dictionary Elements \n",
    "\n",
    "Dictionaries are accessed just like lists but with keys between the `[` and `]` brackets. "
   ]
  },
  {
   "cell_type": "code",
   "execution_count": null,
   "metadata": {},
   "outputs": [],
   "source": [
    "animals = { 'Lion' : 'Panthera Leo', 'Tiger' : 'Panthera Tigris', 'Bear' : 'Ursus Arctos'}\n",
    "\n",
    "print(animals['Lion'])\n",
    "print(animals['Tiger'])\n",
    "print(animals['Bear'])"
   ]
  },
  {
   "cell_type": "markdown",
   "metadata": {},
   "source": [
    "Dictionary elements can be reassigned and created:"
   ]
  },
  {
   "cell_type": "code",
   "execution_count": null,
   "metadata": {},
   "outputs": [],
   "source": [
    "animals = { 'Lion' : 'Panthera Leo', 'Tiger' : 'Panthera Tigris', 'Bear' : 'Ursus Arctos'}\n",
    "\n",
    "animals['Cat'] = 'Felis Silvestris'\n",
    "print(animals)"
   ]
  },
  {
   "cell_type": "markdown",
   "metadata": {},
   "source": [
    "Dictionary elements can be deleted with the `del` operator. "
   ]
  },
  {
   "cell_type": "code",
   "execution_count": null,
   "metadata": {},
   "outputs": [],
   "source": [
    "animals = { 'Lion' : 'Panthera Leo', 'Tiger' : 'Panthera Tigris', 'Bear' : 'Ursus Arctos'}\n",
    "\n",
    "del animals['Lion']\n",
    "del animals['Bear']\n",
    "print(animals)"
   ]
  },
  {
   "cell_type": "markdown",
   "metadata": {},
   "source": [
    "You can clear the dictionary with the `clear` function."
   ]
  },
  {
   "cell_type": "code",
   "execution_count": null,
   "metadata": {},
   "outputs": [],
   "source": [
    "animals = { 'Lion' : 'Panthera Leo', 'Tiger' : 'Panthera Tigris', 'Bear' : 'Ursus Arctos'}\n",
    "\n",
    "print(animals)\n",
    "animals.clear()\n",
    "print(animals)"
   ]
  },
  {
   "cell_type": "markdown",
   "source": [
    "### Practice \n",
    "\n",
    "Use the dictionary you created in the last practice. Write a statement that prints the title of cis-15."
   ],
   "metadata": {
    "collapsed": false
   }
  },
  {
   "cell_type": "code",
   "source": [],
   "metadata": {
    "collapsed": false,
    "pycharm": {
     "name": "#%%\n"
    }
   },
   "execution_count": null,
   "outputs": []
  },
  {
   "cell_type": "markdown",
   "source": [
    "Write a statement that changes the title of cis-15 to, \"Introduction to Python Programming.\" "
   ],
   "metadata": {
    "collapsed": false
   }
  },
  {
   "cell_type": "code",
   "execution_count": null,
   "outputs": [],
   "source": [],
   "metadata": {
    "collapsed": false,
    "pycharm": {
     "name": "#%%\n"
    }
   }
  },
  {
   "cell_type": "markdown",
   "source": [
    "Write a statement that adds one key value pair:\n",
    "\n",
    "  * Key: cis-54\n",
    "  * Value: Introduction to Relational Databases"
   ],
   "metadata": {
    "collapsed": false
   }
  },
  {
   "cell_type": "code",
   "execution_count": null,
   "outputs": [],
   "source": [],
   "metadata": {
    "collapsed": false,
    "pycharm": {
     "name": "#%%\n"
    }
   }
  },
  {
   "cell_type": "markdown",
   "source": [
    "Write a statement that removes cis-81 from the dictionary. "
   ],
   "metadata": {
    "collapsed": false
   }
  },
  {
   "cell_type": "code",
   "execution_count": null,
   "outputs": [],
   "source": [],
   "metadata": {
    "collapsed": false,
    "pycharm": {
     "name": "#%%\n"
    }
   }
  },
  {
   "cell_type": "markdown",
   "source": [
    "Write a statement the empties the dictionary. "
   ],
   "metadata": {
    "collapsed": false
   }
  },
  {
   "cell_type": "code",
   "execution_count": null,
   "outputs": [],
   "source": [],
   "metadata": {
    "collapsed": false,
    "pycharm": {
     "name": "#%%\n"
    }
   }
  },
  {
   "cell_type": "markdown",
   "metadata": {},
   "source": [
    "## Counting Key/Value Pairs\n",
    "\n",
    "Just like with lists the `len` operator tells you how many key/value pairs are in a dictionary. "
   ]
  },
  {
   "cell_type": "code",
   "execution_count": null,
   "metadata": {},
   "outputs": [],
   "source": [
    "animals = { 'Lion' : 'Panthera Leo', 'Tiger' : 'Panthera Tigris', 'Bear' : 'Ursus Arctos'}\n",
    "\n",
    "print (len(animals))\n",
    "animals['Cat'] = 'Felis Silvestris'\n",
    "print (len(animals))"
   ]
  },
  {
   "cell_type": "markdown",
   "metadata": {},
   "source": [
    "## Searching for Keys \n",
    "\n",
    "The `in` operator works on dictionaries. It looks through the keys for one that matches. "
   ]
  },
  {
   "cell_type": "code",
   "execution_count": null,
   "metadata": {},
   "outputs": [],
   "source": [
    "animals = { 'Lion' : 'Panthera Leo', 'Tiger' : 'Panthera Tigris', 'Bear' : 'Ursus Arctos'}\n",
    "\n",
    "if 'Lion' in animals:\n",
    "    print ('There are Lions here!')\n",
    "    \n",
    "if 'Lemur' not in animals: \n",
    "    print ('No Lemurs')"
   ]
  },
  {
   "cell_type": "markdown",
   "metadata": {},
   "source": [
    "## Iterating Through Dictionaries with `for`\n",
    "\n",
    "The `for` loop is useful with dictionaries just like lists. You should understand how to use the for loops in this section because they're the most common way to access dictionaries. \n",
    "\n",
    "The simplest for loop iterates *keys* in the dictionary."
   ]
  },
  {
   "cell_type": "code",
   "execution_count": null,
   "metadata": {},
   "outputs": [],
   "source": [
    "animals = { 'Lion' : 'Panthera Leo', 'Tiger' : 'Panthera Tigris', 'Bear' : 'Ursus Arctos'}\n",
    "for key in animals: \n",
    "    print (\"Common name:\", key, \"species:\", animals[key])"
   ]
  },
  {
   "cell_type": "markdown",
   "metadata": {},
   "source": [
    "You may also go through all of the *values* in the dictionary:"
   ]
  },
  {
   "cell_type": "code",
   "execution_count": null,
   "metadata": {},
   "outputs": [],
   "source": [
    "animals = { 'Lion' : 'Panthera Leo', 'Tiger' : 'Panthera Tigris', 'Bear' : 'Ursus Arctos'}\n",
    "for value in animals.values(): \n",
    "    print ('Species:', value)"
   ]
  },
  {
   "cell_type": "markdown",
   "metadata": {},
   "source": [
    "**Note: Dictionaries are not reversible. You can't get a key from a value in a single statement.**\n",
    "\n",
    "If you want to get both keys and values in a for loop you use the `items` function. "
   ]
  },
  {
   "cell_type": "code",
   "execution_count": null,
   "metadata": {},
   "outputs": [],
   "source": [
    "animals = { 'Lion' : 'Panthera Leo', 'Tiger' : 'Panthera Tigris', 'Bear' : 'Ursus Arctos'}\n",
    "for key, value in animals.items():\n",
    "    print ('Common name:', key, \"species:\", value)"
   ]
  },
  {
   "cell_type": "markdown",
   "metadata": {},
   "source": [
    "## Errors \n",
    "\n",
    "If you access a key that doesn't exist you get a `KeyError` exception. "
   ]
  },
  {
   "cell_type": "code",
   "execution_count": null,
   "metadata": {},
   "outputs": [],
   "source": [
    "animals = { 'Lion' : 'Panthera Leo', 'Tiger' : 'Panthera Tigris', 'Bear' : 'Ursus Arctos'}\n",
    "\n",
    "print (animals['Sloth'])"
   ]
  },
  {
   "cell_type": "markdown",
   "metadata": {},
   "source": [
    "It's common to check that a key exists before using it to guard against an exception. "
   ]
  },
  {
   "cell_type": "code",
   "execution_count": null,
   "metadata": {},
   "outputs": [],
   "source": [
    "animals = { 'Lion' : 'Panthera Leo', 'Tiger' : 'Panthera Tigris', 'Bear' : 'Ursus Arctos'}\n",
    "\n",
    "if 'Sloth' in animals:\n",
    "    print ('Sloths are:', animals['Sloth'])\n",
    "else:\n",
    "    print (\"I don't know about Sloths\")"
   ]
  },
  {
   "cell_type": "markdown",
   "metadata": {},
   "source": [
    "Dictionaries provide the `get()` function that will never cause an exception. "
   ]
  },
  {
   "cell_type": "code",
   "execution_count": null,
   "metadata": {},
   "outputs": [],
   "source": [
    "animals = { 'Lion' : 'Panthera Leo', 'Tiger' : 'Panthera Tigris', 'Bear' : 'Ursus Arctos'}\n",
    "\n",
    "print (animals.get('Sloth.'))"
   ]
  },
  {
   "cell_type": "markdown",
   "metadata": {},
   "source": [
    "The `get()` function accepts a default value in case you don't want `None` to be returned. "
   ]
  },
  {
   "cell_type": "code",
   "execution_count": null,
   "metadata": {},
   "outputs": [],
   "source": [
    "animals = { 'Lion' : 'Panthera Leo', 'Tiger' : 'Panthera Tigris', 'Bear' : 'Ursus Arctos'}\n",
    "\n",
    "common = 'Sloth'\n",
    "species = animals.get(common, '(unknown)')\n",
    "print ('Common name:', common, 'species:', species)"
   ]
  }
 ],
 "metadata": {
  "kernelspec": {
   "display_name": "Python 3",
   "language": "python",
   "name": "python3"
  },
  "language_info": {
   "codemirror_mode": {
    "name": "ipython",
    "version": 3
   },
   "file_extension": ".py",
   "mimetype": "text/x-python",
   "name": "python",
   "nbconvert_exporter": "python",
   "pygments_lexer": "ipython3",
   "version": "3.6.2"
  },
  "pycharm": {
   "stem_cell": {
    "cell_type": "raw",
    "source": [],
    "metadata": {
     "collapsed": false
    }
   }
  }
 },
 "nbformat": 4,
 "nbformat_minor": 2
}