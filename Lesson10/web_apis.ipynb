{
 "cells": [
  {
   "cell_type": "markdown",
   "metadata": {},
   "source": [
    "# Data Structure Representations \n",
    "\n",
    "  * When your blog entries are in a variable they're in the computer's memory \n",
    "  * If your program exits your data is lost. \n",
    "  * It's important to be able to save your program data \n",
    "    * To do that you must pick a representation.\n",
    "  * Javascript Object Notation (JSON) is a popular data format. \n",
    "  * JSON is well supported by Python \n",
    "  * You can save most Python data using JSON easily \n",
    "\n",
    "Here's how to use JSON in a program:"
   ]
  },
  {
   "cell_type": "code",
   "execution_count": null,
   "metadata": {},
   "outputs": [],
   "source": [
    "import json\n",
    "\n",
    "post1 = {'title': 'First post!',  \n",
    "  'text': \"This is my first post to my new blog.\"\n",
    "  }\n",
    "post2 = {'title': 'Ate Cereal for Breakfast.', \n",
    "  'text': \"I ate cereal today they were Heritage O's. High in fiber.\"\n",
    "  }\n",
    "bloggers = {\n",
    "  'mike' : {\n",
    "  'name' : 'Mike Matera', \n",
    "  'email' : 'matera@matera.com',\n",
    "  'posts' : [post1, post2]\n",
    "  }\n",
    "}\n",
    "\n",
    "json.dumps(bloggers)"
   ]
  },
  {
   "cell_type": "markdown",
   "metadata": {},
   "source": [
    "  * JSON data is very similar to how data is represented using Python literals \n",
    "  * The `dumps()` function converts Python data into a JSON string \n",
    "  * The `loads()` function does the opposite."
   ]
  },
  {
   "cell_type": "code",
   "execution_count": null,
   "metadata": {},
   "outputs": [],
   "source": [
    "json_string = '{\"mike\": {\"name\": \"Mike Matera\", \"email\": \"matera@matera.com\", \"posts\": [{\"title\": \"First post!\", \"text\": \"This is my first post to my new blog.\"}, {\"title\": \"Ate Cereal for Breakfast.\", \"text\": \"I ate cereal today they were Heritage O\\'s. High in fiber.\"}]}}'\n",
    "data = json.loads(json_string)\n",
    "print (data)"
   ]
  },
  {
   "cell_type": "markdown",
   "metadata": {},
   "source": [
    "  * We can add functions to our blogging program that allow users to load and store the blog database. \n",
    "\n",
    "Here's a function that loads the blog database:"
   ]
  },
  {
   "cell_type": "code",
   "execution_count": null,
   "metadata": {},
   "outputs": [],
   "source": [
    "def load_blogs(filename) : \n",
    "    with open(filename) as f : \n",
    "        return json.loads(f.read())\n",
    "    \n",
    "blog_data = load_blogs('blog.json')\n",
    "print (blog_data)"
   ]
  },
  {
   "cell_type": "markdown",
   "metadata": {},
   "source": [
    "And a corresponding function that saves blogs:"
   ]
  },
  {
   "cell_type": "code",
   "execution_count": null,
   "metadata": {},
   "outputs": [],
   "source": [
    "def save_blogs(data, filename) :\n",
    "    with open(filename, 'w') as f : \n",
    "        f.write(json.dumps(data))"
   ]
  },
  {
   "cell_type": "markdown",
   "metadata": {},
   "source": [
    "# JSON and The Web \n",
    "\n",
    "  * JSON is used by many websites as a part of their official Application Programming Interface (API) \n",
    "  * An API is a way for a program to access a website \n",
    "  * APIs make it much easier for your program to get useful data. \n",
    "  * APIs have a special URL called an //endpoint// \n",
    "\n",
    "See what happens when you browse to Wikipedia's endpoint: \n",
    "\n",
    "https://en.wikipedia.org/w/api.php?format=json&action=query&prop=extracts&exintro=&explaintext=&titles=Programming\n",
    "\n",
    "Hard to read for humans but easy for Python! Here's code that makes the data available as a Python program:"
   ]
  },
  {
   "cell_type": "code",
   "execution_count": null,
   "metadata": {},
   "outputs": [],
   "source": [
    "import requests\n",
    "import json\n",
    "response = requests.get('https://en.wikipedia.org/w/api.php?format=json&action=query&prop=extracts&exintro=&explaintext=&titles=Programming')\n",
    "\n",
    "print ('Status code:', response.status_code)\n",
    "\n",
    "data = json.loads(response.text)\n",
    "print (data)"
   ]
  },
  {
   "cell_type": "markdown",
   "metadata": {},
   "source": [
    "  * The structure of the response can sometimes be a bit complicated. \n",
    "  * JSON APIs have to be flexible enough to handle huge responses \n",
    "    * When the response is large you need to do paging (only a few responses at a time) \n",
    "\n",
    "Let's take a look at the contents of the response above:"
   ]
  },
  {
   "cell_type": "code",
   "execution_count": null,
   "metadata": {},
   "outputs": [],
   "source": [
    "import requests\n",
    "import json\n",
    "response = requests.get('https://en.wikipedia.org/w/api.php?format=json&action=query&prop=extracts&exintro=&explaintext=&titles=Programming')\n",
    "\n",
    "print ('Status code:', response.status_code)\n",
    "\n",
    "data = json.loads(response.text)\n",
    "\n",
    "print ('Keys in the data:')\n",
    "for key in data : \n",
    "  print (\"\\t\", key)\n",
    "\n",
    "print ('Keys under \"query\"')\n",
    "for key in data['query'] : \n",
    "  print (\"\\t\", key)\n",
    "\n",
    "print ('Keys under \"query/pages\"')\n",
    "for key in data['query']['pages'] : \n",
    "  print (\"\\t\", key)\n",
    "\n",
    "print ('Keys under \"query/pages/6271327\"')\n",
    "for key in data['query']['pages']['6271327'] : \n",
    "  print (\"\\t\", key)\n",
    "\n",
    "print ('Page ID:', data['query']['pages']['6271327']['pageid'])\n",
    "print ('Page Title:', data['query']['pages']['6271327']['title'])\n",
    "print ('Page Extract:', data['query']['pages']['6271327']['extract'])\n"
   ]
  },
  {
   "cell_type": "markdown",
   "metadata": {},
   "source": [
    "## APIs in Practice \n",
    "\n",
    "  * Most sites have an API \n",
    "  * Some require authentication and some don't \n",
    "  * APIs are often self-describing\n",
    "    * They tell you what you can ask for\n",
    "\n",
    "Here's an example of using the GitHub API:"
   ]
  },
  {
   "cell_type": "code",
   "execution_count": null,
   "metadata": {},
   "outputs": [],
   "source": [
    "import requests\n",
    "import json\n",
    "\n",
    "response = requests.get('https://api.github.com/')\n",
    "data = json.loads(response.text)\n",
    "\n",
    "for endpoint in data : \n",
    "  print (f'name: {endpoint} url: {data[endpoint]}')\n",
    "\n",
    "user_response = requests.get(data['user_url'].format(user='mike-matera'))\n",
    "user_data = json.loads(user_response.text)\n",
    "for key in user_data : \n",
    "  print (f'key: {key} value: {user_data[key]}')"
   ]
  },
  {
   "cell_type": "markdown",
   "metadata": {},
   "source": [
    "## APIs That Require Authentication \n",
    "\n",
    "  * Many sites require you to use the API as a registered user.\n",
    "  * You should **NEVER** give your password over an API \n",
    "  * As a registered user you can retrieve an //access key// \n",
    "    * Access keys secrets that let the site know who you are \n",
    "\n",
    "Check out what happens when you search the Twitter API without an access key: \n",
    "\n",
    "https://api.twitter.com/1.1/search/tweets.json?q=%40python\n",
    "\n",
    "Here are instructions for getting a key from Twitter: \n",
    "\n",
    "https://developer.twitter.com/en/docs/basics/authentication/guides/access-tokens\n",
    "\n",
    "  * When you create an application on Twitter you receive a: \n",
    "    * Consumer Key (API Key)\n",
    "    * Consumer Secret (API Secret)\n",
    "  * You use those keys to get an //Access Token// \n",
    "  * An access token is like a password that expires soon \n",
    "  * Every request you make must have an //access token// \n",
    "    * The keys won't work!\n",
    "\n",
    "Here's a program that gets an access token from keys:"
   ]
  },
  {
   "cell_type": "code",
   "execution_count": null,
   "metadata": {},
   "outputs": [],
   "source": [
    "''' Use the Twitter API to get an access token. ''' \n",
    "\n",
    "import base64 \n",
    "import requests \n",
    "import json\n",
    "\n",
    "API_KEY = 'your-key-here'\n",
    "API_SECRET = 'your-secret-here'\n",
    "\n",
    "endpoint = 'https://api.twitter.com/oauth2/token'\n",
    "\n",
    "auth_key = f'{API_KEY}:{API_SECRET}' \n",
    "auth_encoded = base64.b64encode(auth_key.encode('utf-8')).decode('utf-8')\n",
    "postdata = { 'grant_type' : 'client_credentials' }\n",
    "headers = {'Authorization' : f'Basic {auth_encoded}', 'Content-Type': 'application/x-www-form-urlencoded;charset=UTF-8'}\n",
    "\n",
    "auth_response = requests.post(endpoint, postdata, headers=headers) \n",
    "auth_data = json.loads(auth_response.text)\n",
    "\n",
    "for key in auth_data : \n",
    "    print (f'{key}: {auth_data[key]}')"
   ]
  },
  {
   "cell_type": "markdown",
   "metadata": {},
   "source": [
    "Executing the code will retrieve and print an access token. You need the access token to make requests.  \n",
    "\n",
    "## Do it the Python (Easy) Way \n",
    "\n",
    "  * Calling web APIs directly using `requests` is cumbersome \n",
    "  * When you add authentication it gets really hard. \n",
    "  * Most popular websites have Python modules that automate most of the hard work. \n",
    "  * You can use the Twitter API with ease once you install the module:\n",
    "\n",
    "```bash\n",
    "$ pip-3.6 install --upgrade --user python-twitter\n",
    "```\n",
    "\n",
    "With the Twitter API installed you can easily get tweets:"
   ]
  },
  {
   "cell_type": "code",
   "execution_count": null,
   "metadata": {},
   "outputs": [],
   "source": [
    "'''Search for tweets''' \n",
    "\n",
    "import sys \n",
    "import twitter\n",
    "\n",
    "prog, user = sys.argv\n",
    "\n",
    "api = twitter.Api(consumer_key='your-key-here',\n",
    "                  consumer_secret='your-secret-here',\n",
    "                  access_token_key='your-access-token',\n",
    "                  access_token_secret='your-token-secret')\n",
    "\n",
    "tweets = api.GetUserTimeline(screen_name=user)\n",
    "for tweet in tweets : \n",
    "    print (tweet.text)"
   ]
  },
  {
   "cell_type": "code",
   "execution_count": null,
   "metadata": {},
   "outputs": [],
   "source": []
  }
 ],
 "metadata": {
  "kernelspec": {
   "display_name": "Python 3",
   "language": "python",
   "name": "python3"
  },
  "language_info": {
   "codemirror_mode": {
    "name": "ipython",
    "version": 3
   },
   "file_extension": ".py",
   "mimetype": "text/x-python",
   "name": "python",
   "nbconvert_exporter": "python",
   "pygments_lexer": "ipython3",
   "version": "3.6.9"
  }
 },
 "nbformat": 4,
 "nbformat_minor": 4
}
