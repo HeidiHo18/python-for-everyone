{
 "cells": [
  {
   "cell_type": "markdown",
   "metadata": {},
   "source": [
    "# Lab: Write Your First Python Program\n",
    "\n",
    "This lab takes you through creating a Python file in the Lesson01 folder, adding a *docstring* and a line of code, then executing it in Cloud9 IDE. Once you have completed this lab you will be able to create programs of your own and execute them. \n",
    "\n",
    "## Step 1: Use the Command Line to Create a File \n",
    "\n",
    "Click into the terminal on Cloud9 so that you can enter UNIX commands. \n",
    "\n",
    "![Select the Terminal](../media/cloud9_select_terminal.png)\n",
    "\n",
    "At the prompt enter the following commands: \n",
    "\n",
    "```bash\n",
    "cd Lesson01\n",
    "touch hello_python.py\n",
    "``` \n",
    "\n",
    "The `cd` command changes the working directory to the `Lesson01` directory. The `touch` command creates an empty file called `hello_python.py`. "
   ]
  },
  {
   "cell_type": "markdown",
   "metadata": {},
   "source": [
    "## Step 2: Open the File in Cloud9 IDE \n",
    "\n",
    "You should see your new file if you expand the `Lesson01` folder in the navigation pane on the right. As shown in the screenshot below. \n",
    "\n",
    "![Open a File](../media/cloud9_open_file.png)\n",
    "\n",
    "Double-click the `hello_python.py` file and you the editor will open. "
   ]
  },
  {
   "cell_type": "markdown",
   "metadata": {},
   "source": [
    "## Step 3: Add a Docstring\n",
    "\n",
    "A *docstring* is a Python string that describes the file. Docstrings start and end with a triple-quote. Every Python file that you turn in should have a docstring with a particular format. Copy and paste this docstring into your file and replace \"Your Name Here\" with your name. \n",
    "\n",
    "```python \n",
    "\"\"\"\n",
    "CIS-15 First Program \n",
    "Your Name Here\n",
    "\"\"\"\n",
    "```\n"
   ]
  },
  {
   "cell_type": "markdown",
   "metadata": {},
   "source": [
    "## Step 4: Add Code \n",
    "\n",
    "Below the docstring add this line of code: \n",
    "\n",
    "```python \n",
    "print ('Hello Python World')\n",
    "```\n",
    "\n",
    "**Don't forget to save your file!** "
   ]
  },
  {
   "cell_type": "markdown",
   "metadata": {},
   "source": [
    "## Step 5: Execute Your Program from the Command Line \n",
    "\n",
    "Using the terminal you can execute your code with the following command:\n",
    "\n",
    "```bash\n",
    "python3.6 hello_python.py\n",
    "```\n",
    "\n",
    "If you have done everything correctly you should see output like the screenshot below. \n",
    "\n",
    "![Run in Terminal](../media/cloud9_first_program_output.png)"
   ]
  },
  {
   "cell_type": "markdown",
   "metadata": {},
   "source": [
    "## Step 6: Execute Your Program with the Run Button \n",
    "\n",
    "Cloud9 gives you an easier (but less flexible) way to execute your code. Just click the 'Run' button near the top of the window. Execute your code with the Run button and verify that it works. You should see a Run tab with your program's output like the screenshot below. \n",
    "\n",
    "![Run Button](../media/cloud9_first_program_run.png)"
   ]
  },
  {
   "cell_type": "markdown",
   "metadata": {},
   "source": [
    "## Step 7: Check Your Work\n",
    "\n",
    "Run the code in the cell below. It will check if your program has a docstring."
   ]
  },
  {
   "cell_type": "code",
   "execution_count": null,
   "metadata": {
    "pycharm": {
     "name": "#%%\n"
    }
   },
   "outputs": [],
   "source": [
    "import uuid\n",
    "import re\n",
    "import uuid\n",
    "from pathlib import Path\n",
    "import importlib.util \n",
    "\n",
    "filename = Path('hello_python.py')\n",
    "\n",
    "if not filename.exists():\n",
    "    raise ValueError(\"There is no hello_python.py file in this directory!\")\n",
    "\n",
    "spec = importlib.util.spec_from_file_location(str(uuid.uuid4()), filename)\n",
    "module = importlib.util.module_from_spec(spec)\n",
    "spec.loader.exec_module(module)\n",
    "\n",
    "if module.__doc__ is None:\n",
    "    raise ValueError(\"You don't have ANY docstring!\")\n",
    "    \n",
    "if re.search('cis-15\\s+first\\s+program', module.__doc__, re.I) is None:\n",
    "    raise ValueError(\"Your docstring doesn't contain \\\"CIS-15 First Program\\\"\")\n",
    "    \n",
    "print (\"You did it!\")"
   ]
  }
 ],
 "metadata": {
  "kernelspec": {
   "display_name": "Python 3",
   "language": "python",
   "name": "python3"
  },
  "language_info": {
   "codemirror_mode": {
    "name": "ipython",
    "version": 3
   },
   "file_extension": ".py",
   "mimetype": "text/x-python",
   "name": "python",
   "nbconvert_exporter": "python",
   "pygments_lexer": "ipython3",
   "version": "3.6.8"
  },
  "pycharm": {
   "stem_cell": {
    "cell_type": "raw",
    "metadata": {
     "collapsed": false
    },
    "source": []
   }
  }
 },
 "nbformat": 4,
 "nbformat_minor": 4
}
