{
 "cells": [
  {
   "cell_type": "markdown",
   "metadata": {},
   "source": [
    "# Lab: Set Cloud9 IDE to Python 3 Mode\n",
    "\n",
    "This lab takes you step-by-step through how to change Cloud9 IDE to use Python 3 instead of Python 2. If you leave the default setting Cloud9 will incorrectly mark problems with your code. \n",
    "\n",
    "## Step 1: Open Settings \n",
    "\n",
    "![Open Settings](../media/open_cloud9_settings.png)"
   ]
  },
  {
   "cell_type": "markdown",
   "metadata": {},
   "source": [
    "## Step 2: Select Python Settings\n",
    "\n",
    "![Cloud9 Python Settings](../media/cloud9_python_settings.png)"
   ]
  },
  {
   "cell_type": "markdown",
   "metadata": {},
   "source": [
    "## Step 3: Select Python 3\n",
    "\n",
    "![Python Version Pulldown](../media/cloud9_python3_pulldown.png)"
   ]
  },
  {
   "cell_type": "markdown",
   "metadata": {},
   "source": [
    "## Step 4: Test your Work\n",
    "\n",
    "Run the code in the cell below to check if you have the right mode selected. \n",
    "\n"
   ]
  },
  {
   "cell_type": "code",
   "execution_count": null,
   "metadata": {
    "pycharm": {
     "is_executing": false,
     "name": "#%%\n"
    }
   },
   "outputs": [],
   "source": [
    "import os\n",
    "import json \n",
    "from pathlib import Path \n",
    "\n",
    "settings_file = Path(f'{os.environ[\"HOME\"]}/environment/.c9/project.settings')\n",
    "\n",
    "with open (settings_file) as f:\n",
    "    settings = json.loads(f.read())\n",
    "\n",
    "if settings['python']['@version'] == 'python3':\n",
    "    print (\"Yay! You are using Python 3\")\n",
    "else:\n",
    "    raise ValueError('Check your settings.')\n"
   ]
  }
 ],
 "metadata": {
  "kernelspec": {
   "display_name": "Python 3",
   "language": "python",
   "name": "python3"
  },
  "language_info": {
   "codemirror_mode": {
    "name": "ipython",
    "version": 3
   },
   "file_extension": ".py",
   "mimetype": "text/x-python",
   "name": "python",
   "nbconvert_exporter": "python",
   "pygments_lexer": "ipython3",
   "version": "3.6.2"
  },
  "pycharm": {
   "stem_cell": {
    "cell_type": "raw",
    "metadata": {
     "collapsed": false
    },
    "source": []
   }
  }
 },
 "nbformat": 4,
 "nbformat_minor": 2
}
