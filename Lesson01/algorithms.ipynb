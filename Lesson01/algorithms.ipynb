{
 "cells": [
  {
   "cell_type": "markdown",
   "metadata": {},
   "source": [
    "# Algorithms \n",
    "\n",
    "An algorithm is a sequence of steps that performs a task. In order to sucessfully program you must take the task that's assigned and break it down into steps. When you have an idea of the steps required begin writing code. This notebook will use the `pen` class which will help you understand algorithms. "
   ]
  },
  {
   "cell_type": "markdown",
   "metadata": {},
   "source": [
    "## Drawing Shapes \n",
    "\n",
    "How can you use the pen to draw shapes? Every shape is a sequence of pen strokes and turns. For example, think of a triangle. You can draw a triangle by:\n",
    "\n",
    "1. Drawing an initial line \n",
    "2. Turning 120 degrees\n",
    "3. Drawing a second line \n",
    "4. Turning 120 degrees \n",
    "5. Trawing a third line\n",
    "\n",
    "Every closed shape has one important thing in common, the sum of all the turns equals 360 degress. A triangle has three turns of 120 degrees each. The code below draws a triangle."
   ]
  },
  {
   "cell_type": "code",
   "execution_count": 1,
   "metadata": {},
   "outputs": [],
   "source": [
    "from Lab.drawing import pen"
   ]
  },
  {
   "cell_type": "markdown",
   "metadata": {},
   "source": [
    "You only have to run the `import` cell once unless you restart the python kernel. "
   ]
  },
  {
   "cell_type": "code",
   "execution_count": 2,
   "metadata": {},
   "outputs": [
    {
     "data": {
      "image/png": "[encoded data removed]",
      "text/plain": [
       "<Figure size 432x432 with 1 Axes>"
      ]
     },
     "metadata": {
      "needs_background": "light"
     },
     "output_type": "display_data"
    }
   ],
   "source": [
    "pen.draw(10)   # Draw the first line\n",
    "pen.turn(120)\n",
    "pen.draw(10)   # Draw the second line\n",
    "pen.turn(120)\n",
    "pen.draw(10)   # Draw the third line\n",
    "pen.turn(120)\n",
    "pen.show()"
   ]
  },
  {
   "cell_type": "markdown",
   "metadata": {},
   "source": [
    "## Practice\n",
    "\n",
    "Write an algorithm that draws a square."
   ]
  },
  {
   "cell_type": "code",
   "execution_count": null,
   "metadata": {},
   "outputs": [],
   "source": []
  },
  {
   "cell_type": "markdown",
   "metadata": {},
   "source": [
    "Write an algorithm that draws a pentagon. "
   ]
  },
  {
   "cell_type": "code",
   "execution_count": null,
   "metadata": {},
   "outputs": [],
   "source": []
  },
  {
   "cell_type": "markdown",
   "metadata": {},
   "source": [
    "Write an algorithm that draws a five pointed star. *Hint: the sum of the angles should add to 720.*"
   ]
  },
  {
   "cell_type": "code",
   "execution_count": null,
   "metadata": {},
   "outputs": [],
   "source": []
  }
 ],
 "metadata": {
  "kernelspec": {
   "display_name": "Python 3",
   "language": "python",
   "name": "python3"
  },
  "language_info": {
   "codemirror_mode": {
    "name": "ipython",
    "version": 3
   },
   "file_extension": ".py",
   "mimetype": "text/x-python",
   "name": "python",
   "nbconvert_exporter": "python",
   "pygments_lexer": "ipython3",
   "version": "3.6.9"
  }
 },
 "nbformat": 4,
 "nbformat_minor": 4
}
