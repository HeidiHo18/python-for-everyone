{
 "cells": [
  {
   "cell_type": "markdown",
   "metadata": {},
   "source": [
    "# Advanced: Function Decorators \n",
    "\n",
    "  * You can create a function in a function using `def`\n",
    "  * The function you create is private to your function, just like any other variable \n",
    "  * If you want the caller to see your function you have to return it. \n",
    "\n",
    "Here's an example of creating a function in a function:"
   ]
  },
  {
   "cell_type": "code",
   "execution_count": null,
   "metadata": {},
   "outputs": [],
   "source": [
    "def simple_wrapper(): \n",
    "    print ('This is simple_wrapper()')\n",
    "    def inner_func() : \n",
    "        print ('This is inner_func().')\n",
    "    return inner_func\n",
    "    \n",
    "alias = simple_wrapper()\n",
    "print ('alias is type', type(alias))\n",
    "alias()"
   ]
  },
  {
   "cell_type": "markdown",
   "metadata": {},
   "source": [
    "Try executing the code, can you explain what happens?\n",
    "\n",
    "Notice that `inner_func()` is not called until we execute the alias. \n",
    "\n",
    "  * In programming the `inner_func()` is known as a *closure* \n",
    "  * Closures can use variables from the function they were defined in \n",
    "  * They can also take their own arguments. \n",
    "\n",
    "Here's an update to the example above that shows the two ways that `inner_func()` can be used:"
   ]
  },
  {
   "cell_type": "code",
   "execution_count": null,
   "metadata": {},
   "outputs": [],
   "source": [
    "def simple_wrapper(wrapper): \n",
    "    print ('This is simple_wrapper()')\n",
    "    def inner_func(inner) : \n",
    "        print ('inner_func(): wrapper:', wrapper, 'inner:', inner)\n",
    "    return inner_func\n",
    "    \n",
    "alias1 = simple_wrapper('mike')\n",
    "alias1('foo') \n",
    "\n",
    "alias2 = simple_wrapper('sally')\n",
    "alias2('bar') "
   ]
  },
  {
   "cell_type": "markdown",
   "metadata": {},
   "source": [
    "  * Notice how the `alias` functions take the value given to `simple_wrapper()`. \n",
    "    * They are defined with those values *baked in* \n",
    "    * The baked in value doesn't ever change\n",
    "    * But new aliases can be made with different baked in values.    \n",
    "  * In your Flask applications you use a *decorator* to route URLs to your functions.\n",
    "  * Decorators are functions that return functions that call a function. \n",
    "\n",
    "Here's an example of how to create a decorator."
   ]
  },
  {
   "cell_type": "code",
   "execution_count": null,
   "metadata": {},
   "outputs": [],
   "source": [
    "def my_decorator(wrapped_func) : \n",
    "    def inner_func(name) : \n",
    "        print ('About to call the wrapped function.')\n",
    "        wrapped_func(name)\n",
    "        print ('Done with the wrapped function.')\n",
    "    return inner_func \n",
    "\n",
    "def print_nametag(name) :\n",
    "    print ('Hello, my name is', name)\n",
    "    \n",
    "wrapped_nametag = my_decorator(print_nametag)\n",
    "wrapped_nametag('Mike')"
   ]
  },
  {
   "cell_type": "markdown",
   "metadata": {},
   "source": [
    "This is a little tricky, so follow me: \n",
    "\n",
    "  * The `my_decorator()` function\n",
    "    * Creates a function called inner_func() which takes one argument. \n",
    "    * The inner_func() function calls a function\n",
    "      * The function called by `inner_func()` is passed in as the argument to `my_decorator` just like `wrapper` was before \n",
    "      * `inner_func()` is made with `wrapped_func` baked in \n",
    "    * The `inner_func()` function is returned to the caller. \n",
    "  * Calling the `inner_func()` function \n",
    "    * Prints the \"about to\" message\n",
    "    * Calls the wrapped function \n",
    "    * Prints the \"done with\" message\n",
    "  * What's happened here is that we've made a function \"wrapper\" \n",
    "  * The wrapper controls how the function is called. \n",
    "  * Decorators are *syntactic sugar* \n",
    "  * We can simplify the code above using a decorator"
   ]
  },
  {
   "cell_type": "code",
   "execution_count": null,
   "metadata": {},
   "outputs": [],
   "source": [
    "def my_decorator(wrapped_func) : \n",
    "    def inner_func(name) : \n",
    "        print ('About to call the wrapped function.')\n",
    "        wrapped_func(name)\n",
    "        print ('Done with the wrapped function.')\n",
    "    return inner_func \n",
    "\n",
    "@my_decorator\n",
    "def print_nametag(name) :\n",
    "    print ('Hello, my name is', name)\n",
    "    \n",
    "print_nametag('Mike')"
   ]
  },
  {
   "cell_type": "markdown",
   "metadata": {},
   "source": [
    "  * Notice that the `@my_decorator` replaces the assignment of the `wrapped_nametag` alias \n",
    "  * We can conveniently wrap any function we want without having two names for it \n",
    "  * There's more to know about decorators. You can find the full story here:\n",
    "    * http://python-3-patterns-idioms-test.readthedocs.io/en/latest/PythonDecorators.html"
   ]
  }
 ],
 "metadata": {
  "kernelspec": {
   "display_name": "Python 3",
   "language": "python",
   "name": "python3"
  },
  "language_info": {
   "codemirror_mode": {
    "name": "ipython",
    "version": 3
   },
   "file_extension": ".py",
   "mimetype": "text/x-python",
   "name": "python",
   "nbconvert_exporter": "python",
   "pygments_lexer": "ipython3",
   "version": "3.6.8"
  }
 },
 "nbformat": 4,
 "nbformat_minor": 4
}
