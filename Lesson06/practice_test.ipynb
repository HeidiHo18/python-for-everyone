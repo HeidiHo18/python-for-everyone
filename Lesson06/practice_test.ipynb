{
 "cells": [
  {
   "cell_type": "markdown",
   "metadata": {},
   "source": [
    "# Functions Practice Test\n",
    "\n",
    "This test will get you used to using functions. \n",
    "\n",
    "## Question 1: Write a Function\n",
    "\n",
    "Write a function called `foo` that takes one argument `bar`. The function should print the contents of `bar.\n",
    "\n",
    "* Name: `foo`\n",
    "* Arguments:\n",
    "  * `bar` - The thing to pring\n",
    "* Returns: `None`"
   ]
  },
  {
   "cell_type": "code",
   "execution_count": null,
   "metadata": {},
   "outputs": [],
   "source": []
  },
  {
   "cell_type": "markdown",
   "metadata": {},
   "source": [
    "Test your function using the cell below: "
   ]
  },
  {
   "cell_type": "code",
   "execution_count": null,
   "metadata": {},
   "outputs": [],
   "source": []
  },
  {
   "cell_type": "markdown",
   "metadata": {},
   "source": [
    "## Question 2: Write a Function\n",
    "\n",
    "Write a function called `do_sum` that takes two arguments, `a` and `b`. The function should print the sum of its arguments.\n",
    "\n",
    "* Name: `do_sum`\n",
    "* Arguments:\n",
    "  * `a` - A number\n",
    "  * `b` - Another number\n",
    "* Returns: `None`"
   ]
  },
  {
   "cell_type": "code",
   "execution_count": null,
   "metadata": {},
   "outputs": [],
   "source": []
  },
  {
   "cell_type": "markdown",
   "metadata": {},
   "source": [
    "Test your function in the cell below:"
   ]
  },
  {
   "cell_type": "code",
   "execution_count": null,
   "metadata": {},
   "outputs": [],
   "source": []
  },
  {
   "cell_type": "markdown",
   "metadata": {},
   "source": [
    "## Question 3: Write a Function\n",
    "\n",
    "Write a function called `print_repeat` that takes two arguments, `words` and `times`. The function prints `words` `times` times. \n",
    "\n",
    "* Name: `print_repeat`\n",
    "* Arguments:\n",
    "  * `words` - A number\n",
    "  * `times` - Another number\n",
    "* Returns: `None`"
   ]
  },
  {
   "cell_type": "code",
   "execution_count": null,
   "metadata": {},
   "outputs": [],
   "source": []
  },
  {
   "cell_type": "markdown",
   "metadata": {},
   "source": [
    "Test your function is the cell below:"
   ]
  },
  {
   "cell_type": "code",
   "execution_count": null,
   "metadata": {},
   "outputs": [],
   "source": []
  },
  {
   "cell_type": "markdown",
   "metadata": {},
   "source": [
    "## Question 4: Return Value\n",
    "\n",
    "Write a function called `i_am_four` that returns the number `4`.\n",
    "\n",
    "* Name: `i_am_four`\n",
    "* Arguments: None\n",
    "* Returns: `4`"
   ]
  },
  {
   "cell_type": "code",
   "execution_count": null,
   "metadata": {},
   "outputs": [],
   "source": []
  },
  {
   "cell_type": "markdown",
   "metadata": {},
   "source": [
    "Test your function in the cell below:"
   ]
  },
  {
   "cell_type": "code",
   "execution_count": null,
   "metadata": {},
   "outputs": [],
   "source": []
  },
  {
   "cell_type": "markdown",
   "metadata": {},
   "source": [
    "## Question 5: Arguments and Return Values\n",
    "\n",
    "Write a function called `do_sum` that takes two arguments, `a` and `b`. The function returns the sum of the two numbers. \n",
    "\n",
    "* Name: `do_sum`\n",
    "* Arguments: \n",
    "    * `a` A number\n",
    "    * `b` Another number\n",
    "* Returns: The sum of `a` and `b`"
   ]
  },
  {
   "cell_type": "code",
   "execution_count": null,
   "metadata": {},
   "outputs": [],
   "source": []
  },
  {
   "cell_type": "markdown",
   "metadata": {},
   "source": [
    "Test your function in the cell below:"
   ]
  },
  {
   "cell_type": "code",
   "execution_count": null,
   "metadata": {},
   "outputs": [],
   "source": []
  },
  {
   "cell_type": "markdown",
   "metadata": {},
   "source": [
    "## Question 6: Useful Functions\n",
    "\n",
    "Write a function called `read_file` that has an argument `filename` that contains the name of a file. The function should read the file and return it's entire contents. The function must close the file before returning. \n",
    "\n",
    "* Name: `read_file`\n",
    "* Arguments: \n",
    "    * `filename` The name of a file to read.\n",
    "* Returns: The contents of the file. "
   ]
  },
  {
   "cell_type": "code",
   "execution_count": null,
   "metadata": {},
   "outputs": [],
   "source": []
  },
  {
   "cell_type": "markdown",
   "metadata": {},
   "source": [
    "Test your function below. You can use the file `example.txt` for testing purposes."
   ]
  },
  {
   "cell_type": "code",
   "execution_count": null,
   "metadata": {},
   "outputs": [],
   "source": []
  },
  {
   "cell_type": "markdown",
   "metadata": {},
   "source": [
    "## Question 7: Another Useful Function \n",
    "\n",
    "Write a function called `write_file` that takes two arguments `filename` and `contents`. The function opens the file named in `filename` removing any previous contents and replacing them with `contents`. Return the number of characters written to the file. The function must close the file before returning. \n",
    "\n",
    "* Name: `write_file`\n",
    "* Arguments: \n",
    "    * `filename` The name of a file to write.\n",
    "    * `contents` The stuff to write into the file. \n",
    "* Returns: The number of characters written."
   ]
  },
  {
   "cell_type": "code",
   "execution_count": null,
   "metadata": {},
   "outputs": [],
   "source": []
  },
  {
   "cell_type": "markdown",
   "metadata": {},
   "source": [
    "Test your function in the cell below. Write to a file named `output.txt`"
   ]
  },
  {
   "cell_type": "code",
   "execution_count": null,
   "metadata": {},
   "outputs": [],
   "source": []
  },
  {
   "cell_type": "markdown",
   "metadata": {},
   "source": [
    "## Question 8: Input and Functions \n",
    "\n",
    "Write a function called `input_number` that prompts the user for a number and returns the user input as a `float`. *Bonus: use a `try` and an `except` to detect an error. If there's an error return `0`.*\n",
    "\n",
    "* Name: `input_number`\n",
    "* Arguments: None\n",
    "* Returns: The number the user typed as a `float`"
   ]
  },
  {
   "cell_type": "code",
   "execution_count": null,
   "metadata": {},
   "outputs": [],
   "source": []
  },
  {
   "cell_type": "markdown",
   "metadata": {},
   "source": [
    "Test your function in the cell below."
   ]
  },
  {
   "cell_type": "code",
   "execution_count": null,
   "metadata": {},
   "outputs": [],
   "source": []
  },
  {
   "cell_type": "markdown",
   "metadata": {},
   "source": [
    "## Question 9: Summing Values \n",
    "\n",
    "Write a function called `file_sum` that takes one argument `filename`, the name of a file. The function should read the first four lines of the file and convert the lines to `float`, then return the sum of the numbers in the file. \n",
    "\n",
    "* Name: `file_sum`\n",
    "* Arguments:\n",
    "    * `filename` - The name of a file \n",
    "* Returns: The sum of the first four lines in the file. "
   ]
  },
  {
   "cell_type": "code",
   "execution_count": null,
   "metadata": {},
   "outputs": [],
   "source": []
  },
  {
   "cell_type": "markdown",
   "metadata": {},
   "source": [
    "Test your function in the code below. The file `numbers.txt` in the current directory can be used for testing. "
   ]
  },
  {
   "cell_type": "code",
   "execution_count": null,
   "metadata": {},
   "outputs": [],
   "source": []
  },
  {
   "cell_type": "markdown",
   "metadata": {},
   "source": [
    "## Question 10: Top to Bottom \n",
    "\n",
    "Write a function called `top_to_bottom` that takes one argument `filename`. The function reads the file and re-rewrites it with the first line of the file moved to the bottom. For example if the file looked like this before `top_to_bottom`:\n",
    "\n",
    "``` \n",
    "line 1\n",
    "line 2\n",
    "Mary had a little \n",
    "Lamb. \n",
    "And stuff\n",
    "```\n",
    "\n",
    "After `top_to_bottom` the file should look like this:\n",
    "\n",
    "``` \n",
    "line 2\n",
    "Mary had a little \n",
    "Lamb. \n",
    "And stuff\n",
    "line 1\n",
    "```\n",
    "\n",
    "* Name: `top_to_bottom`\n",
    "* Arguments:\n",
    "    * `filename` - The name of a file \n",
    "* Returns: None"
   ]
  },
  {
   "cell_type": "code",
   "execution_count": null,
   "metadata": {},
   "outputs": [],
   "source": []
  },
  {
   "cell_type": "markdown",
   "metadata": {},
   "source": [
    "Test your function in the cell below:"
   ]
  },
  {
   "cell_type": "code",
   "execution_count": null,
   "metadata": {},
   "outputs": [],
   "source": []
  }
 ],
 "metadata": {
  "kernelspec": {
   "display_name": "Python 3",
   "language": "python",
   "name": "python3"
  },
  "language_info": {
   "codemirror_mode": {
    "name": "ipython",
    "version": 3
   },
   "file_extension": ".py",
   "mimetype": "text/x-python",
   "name": "python",
   "nbconvert_exporter": "python",
   "pygments_lexer": "ipython3",
   "version": "3.6.8"
  }
 },
 "nbformat": 4,
 "nbformat_minor": 4
}
