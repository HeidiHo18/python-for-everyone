{
 "cells": [
  {
   "cell_type": "markdown",
   "metadata": {},
   "source": [
    "# Using The `Turtle` Class \n",
    "\n",
    "The `Turtle` class is inspired by the [Logo programming language](https://en.wikipedia.org/wiki/Logo_(programming_language). It lets you draw lines and shapes by moving a pen that looks like a turtle around a canvas. This notebook will show you all of the things you can do with the pen. Before the pen can used you have to run the code in the cell below:"
   ]
  },
  {
   "cell_type": "code",
   "execution_count": 1,
   "metadata": {},
   "outputs": [],
   "source": [
    "from p4e.drawing import Turtle"
   ]
  },
  {
   "cell_type": "markdown",
   "metadata": {},
   "source": [
    "You only have to run the `import` cell once unless you restart the python kernel. "
   ]
  },
  {
   "cell_type": "markdown",
   "metadata": {},
   "source": [
    "## Creating a Canvas\n",
    "\n",
    "The Turtle draws on a Canvas. In Python parliance you create an *instance* of a Turtle and give the instance a name. The code below creates an instnace named `tu`. In subsequent cells we tell the turtle what to do using the name `tu` and the changes are reflected on the canvas. The canvas won't show unless you ask for it. The statement `display(tu)` says to display the canvas you created. You can also show the canvas by just putting `tu` on the last line of the cell by itself."
   ]
  },
  {
   "cell_type": "code",
   "execution_count": 2,
   "metadata": {},
   "outputs": [
    {
     "data": {
      "application/vnd.jupyter.widget-view+json": {
       "model_id": "16e127efd4de48bea47635052c7fc6b5",
       "version_major": 2,
       "version_minor": 0
      },
      "text/plain": [
       "MultiCanvas(height=400, width=400)"
      ]
     },
     "metadata": {},
     "output_type": "display_data"
    }
   ],
   "source": [
    "tu = Turtle()\n",
    "display(tu)"
   ]
  },
  {
   "cell_type": "markdown",
   "metadata": {},
   "source": [
    "## Drawing Lines \n",
    "\n",
    "The `draw` function of the pen draws a line. After you're done drawing the `show` function shows your drawing. The cell below draws a line."
   ]
  },
  {
   "cell_type": "code",
   "execution_count": 3,
   "metadata": {},
   "outputs": [
    {
     "data": {
      "application/vnd.jupyter.widget-view+json": {
       "model_id": "4ca2043633c8483bb80b22d2e2bb16e2",
       "version_major": 2,
       "version_minor": 0
      },
      "text/plain": [
       "MultiCanvas(height=400, width=400)"
      ]
     },
     "metadata": {},
     "output_type": "display_data"
    }
   ],
   "source": [
    "tu = Turtle()\n",
    "display(tu)\n",
    "tu.draw(20)"
   ]
  },
  {
   "cell_type": "markdown",
   "metadata": {},
   "source": [
    "You can also draw in reverse."
   ]
  },
  {
   "cell_type": "code",
   "execution_count": 4,
   "metadata": {},
   "outputs": [
    {
     "data": {
      "application/vnd.jupyter.widget-view+json": {
       "model_id": "ff2db96313cf4dc29319d435ab30a656",
       "version_major": 2,
       "version_minor": 0
      },
      "text/plain": [
       "MultiCanvas(height=400, width=400)"
      ]
     },
     "metadata": {},
     "output_type": "display_data"
    }
   ],
   "source": [
    "tu = Turtle()\n",
    "display(tu)\n",
    "tu.draw(50) # Go forward 50 steps.\n",
    "tu.draw(-20) # Go back 20 steps."
   ]
  },
  {
   "cell_type": "markdown",
   "metadata": {},
   "source": [
    "## Turns\n",
    "\n",
    "The `turn` function turns the turtle. The number provided to the `turn` function is the angle to turn in degrees. A positive angle is a left turn and a negative angle is a right turn. "
   ]
  },
  {
   "cell_type": "code",
   "execution_count": 5,
   "metadata": {},
   "outputs": [
    {
     "data": {
      "application/vnd.jupyter.widget-view+json": {
       "model_id": "210e1a5762db47f2903a02453839ecc7",
       "version_major": 2,
       "version_minor": 0
      },
      "text/plain": [
       "MultiCanvas(height=400, width=400)"
      ]
     },
     "metadata": {},
     "output_type": "display_data"
    }
   ],
   "source": [
    "tu = Turtle()\n",
    "display(tu)\n",
    "tu.draw(30)\n",
    "tu.turn(45) # Turn left\n",
    "tu.draw(30)\n",
    "tu.turn(-45) # Turn right\n",
    "tu.draw(30)"
   ]
  },
  {
   "cell_type": "markdown",
   "metadata": {},
   "source": [
    "## Picking Up and Putting Down the Pen \n",
    "\n",
    "You can control the drawing by picking up the pen. When the pen is up moves don't draw a line. When you want to draw lines again you can put the pen back down. The `up` and `down` functions control the pen."
   ]
  },
  {
   "cell_type": "code",
   "execution_count": 6,
   "metadata": {},
   "outputs": [
    {
     "data": {
      "application/vnd.jupyter.widget-view+json": {
       "model_id": "4f85de8e47c146219c8f8777eeee7e34",
       "version_major": 2,
       "version_minor": 0
      },
      "text/plain": [
       "MultiCanvas(height=400, width=400)"
      ]
     },
     "metadata": {},
     "output_type": "display_data"
    }
   ],
   "source": [
    "tu = Turtle()\n",
    "display(tu)\n",
    "tu.draw(30)\n",
    "tu.up()      # Pick up the pen\n",
    "tu.draw(20)  # There will be no line from this draw.\n",
    "tu.down()    # Put down the pen\n",
    "tu.draw(30)"
   ]
  },
  {
   "cell_type": "markdown",
   "metadata": {},
   "source": [
    "## The Color and Width of the Pen \n",
    "\n",
    "The You can control the color and the thickness of the lines that the pend draws using the `color` and `width` functions. "
   ]
  },
  {
   "cell_type": "code",
   "execution_count": 7,
   "metadata": {},
   "outputs": [
    {
     "data": {
      "application/vnd.jupyter.widget-view+json": {
       "model_id": "39f87a295998455ab8dfbe993153aa77",
       "version_major": 2,
       "version_minor": 0
      },
      "text/plain": [
       "MultiCanvas(height=400, width=400)"
      ]
     },
     "metadata": {},
     "output_type": "display_data"
    }
   ],
   "source": [
    "tu = Turtle()\n",
    "display(tu)\n",
    "tu.width(30)      # Draw a 30px line.  \n",
    "tu.color('red')   # Draw red\n",
    "tu.draw(150)\n",
    "tu.turn(120)\n",
    "tu.color('green') # Draw green\n",
    "tu.draw(150)\n",
    "tu.turn(120)\n",
    "tu.color('blue')  # Draw blue\n",
    "tu.draw(150)\n",
    "tu.turn(120)"
   ]
  },
  {
   "cell_type": "markdown",
   "metadata": {},
   "source": [
    "The pen can use any colors that are valid in HTML. You can see HTML color codes on [this page](https://htmlcolorcodes.com/)."
   ]
  },
  {
   "cell_type": "code",
   "execution_count": 8,
   "metadata": {},
   "outputs": [
    {
     "data": {
      "application/vnd.jupyter.widget-view+json": {
       "model_id": "e172b5b11f9340c28c32edb290e18758",
       "version_major": 2,
       "version_minor": 0
      },
      "text/plain": [
       "MultiCanvas(height=400, width=400)"
      ]
     },
     "metadata": {},
     "output_type": "display_data"
    }
   ],
   "source": [
    "tu = Turtle()\n",
    "display(tu)\n",
    "tu.width(30)         # Draw a 30px line.  \n",
    "tu.color('fuchsia')  # Draw a fuchsia \n",
    "tu.draw(150)\n",
    "tu.turn(120)\n",
    "tu.color('#ff1010')  # Use #RRGGBB notation. \n",
    "tu.draw(150)\n",
    "tu.turn(120)\n",
    "tu.color('#00ff00')  \n",
    "tu.draw(150)\n",
    "tu.turn(120)"
   ]
  },
  {
   "cell_type": "markdown",
   "metadata": {},
   "source": [
    "## Moving the Pen to Absolute Coordinates \n",
    "\n",
    "The `goto` function moves the pen to a particular location. If the pen is down it will draw a line on the path to that location. If the pen is up no line will be drawn. "
   ]
  },
  {
   "cell_type": "code",
   "execution_count": 9,
   "metadata": {},
   "outputs": [
    {
     "data": {
      "application/vnd.jupyter.widget-view+json": {
       "model_id": "49c605a944bf48879f81a54c5eecb21c",
       "version_major": 2,
       "version_minor": 0
      },
      "text/plain": [
       "MultiCanvas(height=400, width=400)"
      ]
     },
     "metadata": {},
     "output_type": "display_data"
    }
   ],
   "source": [
    "tu = Turtle()    # The pen starts at (0, 0) facing up.\n",
    "display(tu)\n",
    "tu.draw(150)     # The pen is now at (0, 50)\n",
    "tu.goto(50, -50)\n",
    "tu.draw(150)     # The pen is now at (20, 50)\n",
    "tu.goto(100, -50)\n",
    "tu.draw(150)     # The pen is now at (40, 50)"
   ]
  },
  {
   "cell_type": "markdown",
   "metadata": {},
   "source": [
    "## Controlling the Pen's Heading \n",
    "\n",
    "You can turn the pen to a particular direction in degrees using the `heading` funciton. "
   ]
  },
  {
   "cell_type": "code",
   "execution_count": 10,
   "metadata": {},
   "outputs": [
    {
     "data": {
      "application/vnd.jupyter.widget-view+json": {
       "model_id": "ba3b468586f04c1884c626bd14968059",
       "version_major": 2,
       "version_minor": 0
      },
      "text/plain": [
       "MultiCanvas(height=400, width=400)"
      ]
     },
     "metadata": {},
     "output_type": "display_data"
    }
   ],
   "source": [
    "tu = Turtle()    # The pen starts at (0,0), heading 90 degrees\n",
    "display(tu)\n",
    "tu.heading(0)    # Face right \n",
    "tu.draw(100)\n",
    "tu.goto(0,0)\n",
    "tu.heading(90)   # Face up\n",
    "tu.draw(100)\n",
    "tu.goto(0,0)\n",
    "tu.heading(180)  # Face left\n",
    "tu.draw(100)\n",
    "tu.goto(0,0)\n",
    "tu.heading(270)  # Face down\n",
    "tu.draw(100)"
   ]
  },
  {
   "cell_type": "markdown",
   "metadata": {},
   "source": [
    "## Setting a Background Image \n",
    "\n",
    "You can set a custom background image for the arena. The image is automatically scaled to the size of the arena. "
   ]
  },
  {
   "cell_type": "code",
   "execution_count": 11,
   "metadata": {},
   "outputs": [
    {
     "data": {
      "application/vnd.jupyter.widget-view+json": {
       "model_id": "2a61b0d8047a47d8b18f8d0f1f5d9162",
       "version_major": 2,
       "version_minor": 0
      },
      "text/plain": [
       "MultiCanvas(height=400, width=400)"
      ]
     },
     "metadata": {},
     "output_type": "display_data"
    }
   ],
   "source": [
    "tu = Turtle()\n",
    "display(tu)\n",
    "tu.background('../Labs/maze.png')"
   ]
  },
  {
   "cell_type": "markdown",
   "metadata": {},
   "source": [
    "## Controlling the Shape of the Arena \n",
    "\n",
    "The `show` function takes arguments that control how the final plot is rendered. The default arena is square with `x = [-200, 200]` and `y = [-200, 200]`. You can control the shape of the arena by passing the `size` parameter when you create the Turtle. For example, to create a smaller canvas you can create it this way:"
   ]
  },
  {
   "cell_type": "code",
   "execution_count": 12,
   "metadata": {},
   "outputs": [
    {
     "data": {
      "application/vnd.jupyter.widget-view+json": {
       "model_id": "5bf78eb1d3874832b95dfee38b2fc8a6",
       "version_major": 2,
       "version_minor": 0
      },
      "text/plain": [
       "MultiCanvas(height=100, width=100)"
      ]
     },
     "metadata": {},
     "output_type": "display_data"
    }
   ],
   "source": [
    "tu = Turtle(size=(100,100))\n",
    "display(tu)\n",
    "tu.draw(20)\n",
    "tu.turn(-120)\n",
    "tu.draw(20)\n",
    "tu.turn(-120)\n",
    "tu.draw(20)"
   ]
  },
  {
   "cell_type": "markdown",
   "metadata": {},
   "source": [
    "## Getting Help \n",
    "\n",
    "The `help` function in Python can show you the documentation for an object like the pen. "
   ]
  },
  {
   "cell_type": "code",
   "execution_count": 13,
   "metadata": {},
   "outputs": [
    {
     "name": "stdout",
     "output_type": "stream",
     "text": [
      "Help on class Turtle in module p4e.drawing:\n",
      "\n",
      "class Turtle(builtins.object)\n",
      " |  Turtle(size=(400, 400))\n",
      " |  \n",
      " |  Methods defined here:\n",
      " |  \n",
      " |  __init__(self, size=(400, 400))\n",
      " |      Initialize self.  See help(type(self)) for accurate signature.\n",
      " |  \n",
      " |  background(self, filename)\n",
      " |      Set a background image.\n",
      " |  \n",
      " |  clear(self)\n",
      " |      Clear the canvas and start over.\n",
      " |  \n",
      " |  color(self, color)\n",
      " |      Set the pen color.\n",
      " |  \n",
      " |  down(self)\n",
      " |      Put the pen down. Movements will make lines.\n",
      " |  \n",
      " |  draw(self, distance)\n",
      " |      Move the pen by distance.\n",
      " |  \n",
      " |  goto(self, x, y)\n",
      " |      Goto a point in the coordinate space.\n",
      " |  \n",
      " |  heading(self, heading)\n",
      " |      Set the pen to face heading.\n",
      " |  \n",
      " |  hide(self)\n",
      " |      Hide the turtle in the scene.\n",
      " |  \n",
      " |  show(self)\n",
      " |      Show the turtle in the scene.\n",
      " |  \n",
      " |  turn(self, degrees)\n",
      " |      Turn the pen by degrees\n",
      " |  \n",
      " |  up(self)\n",
      " |      Pick the pen up. Movements won't make lines.\n",
      " |  \n",
      " |  width(self, width)\n",
      " |      Set the line thickness.\n",
      " |  \n",
      " |  ----------------------------------------------------------------------\n",
      " |  Data descriptors defined here:\n",
      " |  \n",
      " |  __dict__\n",
      " |      dictionary for instance variables (if defined)\n",
      " |  \n",
      " |  __weakref__\n",
      " |      list of weak references to the object (if defined)\n",
      "\n"
     ]
    }
   ],
   "source": [
    "help(Turtle)"
   ]
  }
 ],
 "metadata": {
  "kernelspec": {
   "display_name": "Python 3.7 (XPython)",
   "language": "python",
   "name": "xpython"
  },
  "language_info": {
   "file_extension": ".py",
   "mimetype": "text/x-python",
   "name": "python",
   "version": "3.7.6"
  }
 },
 "nbformat": 4,
 "nbformat_minor": 4
}
