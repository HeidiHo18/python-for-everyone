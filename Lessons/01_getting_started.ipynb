{
 "cells": [
  {
   "cell_type": "markdown",
   "metadata": {},
   "source": [
    "# Getting Started with Python\n",
    "\n",
    "Every program is made up of instructions. In this lecutre you'll learn your first Python instructions and how to use the Jupyter Notebook to experiment with and run your programs. Instructions perform an *action* on *inputs*. In the example below `print` is the action and the words `Hello World` are the input to the function. \n",
    "\n",
    "Execute the cell below using the Play button or pressing `Ctrl-Enter`. "
   ]
  },
  {
   "cell_type": "code",
   "execution_count": 2,
   "metadata": {},
   "outputs": [
    {
     "name": "stdout",
     "output_type": "stream",
     "text": [
      "Hello World\n"
     ]
    }
   ],
   "source": [
    "print(\"Hello World\")"
   ]
  },
  {
   "cell_type": "markdown",
   "metadata": {},
   "source": [
    "Cells can be edited. Edit the cell above to change \"Hello World\" to your name and re-run the cell. If you're just learning to program it's important to see how the action and the input relate to one and other. The instruction begins with the action and the input is in parentheses `(` and `)`.\n",
    "\n",
    "Instructions are run one at a time, from top to bottom. The first instruction of a program is always on the first line, just like the first word of a book. The program below performs the print action multiple times with diffeent input."
   ]
  },
  {
   "cell_type": "code",
   "execution_count": 4,
   "metadata": {},
   "outputs": [
    {
     "name": "stdout",
     "output_type": "stream",
     "text": [
      "Roses are red\n",
      "Violets are blue\n"
     ]
    }
   ],
   "source": [
    "print(\"Roses are red\")\n",
    "print(\"Violets are blue\")"
   ]
  },
  {
   "cell_type": "markdown",
   "metadata": {},
   "source": [
    "Add `print` instructions to the cell above to complete the poem. **Do you see how they are executed in order?** \n",
    "\n",
    "## Importing Instructions \n",
    "\n",
    "There are many instructions like the `print` function that are built into Pyhon and many more that are accessible once they are *imported*. The line in the cell below loads new instructions into Python and makes them accessible through the name `pen`. "
   ]
  },
  {
   "cell_type": "code",
   "execution_count": 8,
   "metadata": {},
   "outputs": [
    {
     "ename": "ModuleNotFoundError",
     "evalue": "No module named 'p4e'",
     "output_type": "error",
     "traceback": [
      "\u001b[0;31m---------------------------------------------------------------------------\u001b[0m",
      "\u001b[0;31mModuleNotFoundError\u001b[0m                       Traceback (most recent call last)",
      "\u001b[0;32m<ipython-input-8-273fa7f7307e>\u001b[0m in \u001b[0;36m<module>\u001b[0;34m\u001b[0m\n\u001b[0;32m----> 1\u001b[0;31m \u001b[0;32mfrom\u001b[0m \u001b[0mp4e\u001b[0m\u001b[0;34m.\u001b[0m\u001b[0mdrawing\u001b[0m \u001b[0;32mimport\u001b[0m \u001b[0mpen\u001b[0m\u001b[0;34m\u001b[0m\u001b[0;34m\u001b[0m\u001b[0m\n\u001b[0m",
      "\u001b[0;31mModuleNotFoundError\u001b[0m: No module named 'p4e'"
     ]
    }
   ],
   "source": [
    "from p4e.drawing import pen"
   ]
  },
  {
   "cell_type": "code",
   "execution_count": null,
   "metadata": {},
   "outputs": [],
   "source": []
  }
 ],
 "metadata": {
  "kernelspec": {
   "display_name": "Python 3",
   "language": "python",
   "name": "python3"
  },
  "language_info": {
   "codemirror_mode": {
    "name": "ipython",
    "version": 3
   },
   "file_extension": ".py",
   "mimetype": "text/x-python",
   "name": "python",
   "nbconvert_exporter": "python",
   "pygments_lexer": "ipython3",
   "version": "3.8.3"
  }
 },
 "nbformat": 4,
 "nbformat_minor": 4
}
