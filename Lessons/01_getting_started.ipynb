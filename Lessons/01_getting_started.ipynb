{
 "cells": [
  {
   "cell_type": "markdown",
   "metadata": {},
   "source": [
    "# Getting Started with Python\n",
    "\n",
    "Programs are made of instructions called *statements*. In this lecutre you'll learn your first Python statements and how to use the Jupyter Notebook to experiment with and run programs. Instructions perform an *action* on *inputs* and produce a *result*. In the example below `print` is the action and the words `Hello World` are the input to the function. \n",
    "\n",
    "Copy this code into the cell below:\n",
    "\n",
    "```python \n",
    "print(\"Hello World\") \n",
    "``` \n",
    "\n",
    "Execute the cell by pressing `Ctrl-Enter` or clicking the \"Play\" button above: "
   ]
  },
  {
   "cell_type": "code",
   "execution_count": null,
   "metadata": {},
   "outputs": [],
   "source": []
  },
  {
   "cell_type": "markdown",
   "metadata": {},
   "source": [
    "Cells can be edited. Edit the cell above to change \"Hello World\" to your name and re-run the cell. If you're just learning to program it's important to see how the action and the input relate to one and other. The statement begins with the action and the input is in parentheses `(` and `)`. Statements are run one at a time, from top to bottom. The first statement of a program is always on the first line, just like the first word of a book. The program below performs the print action multiple times with different input.\n",
    "\n",
    "```python \n",
    "print(\"Roses are red\")\n",
    "print(\"Violets are blue\")\n",
    "```"
   ]
  },
  {
   "cell_type": "code",
   "execution_count": null,
   "metadata": {},
   "outputs": [],
   "source": []
  },
  {
   "cell_type": "markdown",
   "metadata": {},
   "source": [
    "Add `print` instructions to the cell above to complete the poem. **Do you see how they are executed in order?** "
   ]
  },
  {
   "cell_type": "markdown",
   "metadata": {},
   "source": [
    "## Comments \n",
    "\n",
    "A *comment* is a part of a program that's ignored by Python. Comments are meant for the humans. Comments explain what code is doing to someone who is trying to read it. Comments make code more clear and easy to read. Comments begin with the hash `#` character. Here's an example: \n",
    "\n",
    "```python\n",
    "# The next line prints \"Hello World\" \n",
    "print(\"Hello World\")\n",
    "```\n",
    "\n",
    "Copy the code into this cell:"
   ]
  },
  {
   "cell_type": "code",
   "execution_count": null,
   "metadata": {},
   "outputs": [],
   "source": []
  },
  {
   "cell_type": "markdown",
   "metadata": {},
   "source": [
    "Notice that the comment is a different color! Try placing the `#` before the `print` function an re-running the cell. **What happens when you comment out the print statement?** If you're just getting started with programming put a comment before every line of code that explains what the next line does. The commens will help you remember instructions. "
   ]
  },
  {
   "cell_type": "markdown",
   "metadata": {},
   "source": [
    "## Importing Packages \n",
    "\n",
    "There is a core set of Python statements that are always available, including the `print` function. To use the full power of Python programs access add-on functions inside of `packages`. Anyone can create a Python package and make it available for other people to use. Jupyter, for example, is a Python package. The `import` statement makes a package available to a program. This statement imports the `p4e.drawing` package and makes `Turtle` available to our notebook.  \n",
    "\n",
    "```python\n",
    "from p4e.drawing import Turtle\n",
    "```\n",
    "\n",
    "Copy and run the instruction. "
   ]
  },
  {
   "cell_type": "code",
   "execution_count": 1,
   "metadata": {},
   "outputs": [],
   "source": [
    "from p4e.drawing import Turtle"
   ]
  },
  {
   "cell_type": "markdown",
   "metadata": {},
   "source": [
    "Once you `import` a package it's available as long this notebook is open. If you close and open the notebook again you have to re-run the `import` statement. Now that we have a turtle available we can create a new `Turtle` and show it on the screen.\n",
    "\n",
    "```python\n",
    "# Create a new Turtle named tu\n",
    "tu = Turtle()\n",
    "# Show the turtle.\n",
    "tu\n",
    "```\n",
    "\n"
   ]
  },
  {
   "cell_type": "code",
   "execution_count": 2,
   "metadata": {},
   "outputs": [
    {
     "data": {
      "application/vnd.jupyter.widget-view+json": {
       "model_id": "f2e9afb534fa47c7a1145fe107d87745",
       "version_major": 2,
       "version_minor": 0
      },
      "text/plain": [
       "MultiCanvas(height=400, width=400)"
      ]
     },
     "metadata": {},
     "output_type": "display_data"
    }
   ],
   "source": [
    "tu = Turtle()\n",
    "tu"
   ]
  },
  {
   "cell_type": "markdown",
   "metadata": {},
   "source": [
    "## Step by Step Instructions\n",
    "\n",
    "Each statement in Python is a small part of a bigger program. Programs perform high-level tasks like, \"go to the grocery store.\" They complete the task one step at a time using statements that perform smaller, more specific tasks like, \"Turn right on Pacific Avenue.\" The `p4e.drawing` module has the `Turtle` object that we can use to draw lines in the notebook.\n",
    "\n",
    "Let's consider an algorithm to drive the Turtle from Cabrillo to AJ's. Here's a link to directions in [Google Maps](https://www.google.com/maps/dir/36.9902141,-121.9243021/AJ's+Chevron+Mart+%26+Car+Wash,+5955+Soquel+Dr,+Soquel,+CA+95073/@36.9901185,-121.9324655,17z/data=!3m1!4b1!4m9!4m8!1m0!1m5!1m1!1s0x808e1585613d835f:0xab5198ead8d4e95c!2m2!1d-121.936425!2d36.989127!3e0). \n",
    "\n",
    "Here's a picture of the dirctions:\n",
    "\n",
    "<img alt=\"Directions to AJ's\" src=\"images/ajs_directions.png\" width=300px></img>"
   ]
  },
  {
   "cell_type": "markdown",
   "metadata": {},
   "source": [
    "### Step 1: Write the Algorithm in Comments \n",
    "\n",
    "Before you begin a program think about the steps you need to perform the task. Write them in comments. \n",
    "\n",
    "```python\n",
    "# Drive 0.3 Miles \n",
    "# Turn right \n",
    "# Drive 0.4 miles \n",
    "# Turn left \n",
    "# Drive 66 feet\n",
    "```\n",
    "\n",
    "### Step 2: Get Setup \n",
    "\n",
    "There are steps to getting a program written that don't necessarily a part of an algorithm. To drive the turtle we need to run the setup code in the previous cell. That setup code is provided in the cell below."
   ]
  },
  {
   "cell_type": "code",
   "execution_count": 3,
   "metadata": {},
   "outputs": [
    {
     "data": {
      "application/vnd.jupyter.widget-view+json": {
       "model_id": "aca18e369ecf4915832cbc8a0d74fee9",
       "version_major": 2,
       "version_minor": 0
      },
      "text/plain": [
       "MultiCanvas(height=400, width=400)"
      ]
     },
     "metadata": {},
     "output_type": "display_data"
    }
   ],
   "source": [
    "tu = Turtle()\n",
    "tu"
   ]
  },
  {
   "cell_type": "markdown",
   "metadata": {},
   "source": [
    "### Step 3: Write a Little Code \n",
    "\n",
    "When you think you have the steps start coding. Write your code in order and after every step test to see if it's working like you expect. Don't try to write all the code at once. \n",
    "\n",
    "```python\n",
    "# Drive 0.3 Miles or 30 pixels.\n",
    "tu.draw(30)\n",
    "# Turn 90 degrees to the right. \n",
    "tu.trun(90)\n",
    "```"
   ]
  },
  {
   "cell_type": "code",
   "execution_count": 49,
   "metadata": {},
   "outputs": [],
   "source": [
    "# Drive 0.3 Miles or 30 pixels.\n",
    "tu.draw(30)\n",
    "# Turn 90 degrees to the right. \n",
    "tu.turn(90)"
   ]
  },
  {
   "cell_type": "markdown",
   "metadata": {},
   "source": [
    "You may have to adjust your plan as you go but it's important to start with an algorithm in mind. Add code to each line to implement what you indend in the comment. \n",
    "\n",
    "```python\n",
    "# Create a new turtle\n",
    "# Drive 0.3 Miles \n",
    "pen.draw(30)\n",
    "# Turn right \n",
    "pen.turn(90)\n",
    "# Drive 0.4 miles\n",
    "pen.draw(40)\n",
    "# Turn left \n",
    "pen.turn(-90)\n",
    "# Drive 66 feet\n",
    "pen.draw(10)\n",
    "# Show the drawing\n",
    "pen.show()\n",
    "```\n",
    "\n",
    "Copy this code into the cell below and run it."
   ]
  },
  {
   "cell_type": "code",
   "execution_count": null,
   "metadata": {},
   "outputs": [],
   "source": []
  },
  {
   "cell_type": "markdown",
   "metadata": {},
   "source": [
    "### Step 3: Run and Test \n",
    "\n",
    "No one ever types a program perfectly on the first try. No one. Ever. After typing all of the code run the program to see if it works. It can be discouraging when a program that seems right doesn't work for some reason. Please remember that being a master programmer means having made every mistake so many times that you can quickly spot problems. If you're just beginning you are building that experience and it can be frustrating. "
   ]
  },
  {
   "cell_type": "code",
   "execution_count": 2,
   "metadata": {},
   "outputs": [
    {
     "data": {
      "application/vnd.jupyter.widget-view+json": {
       "model_id": "f572df3c78c94fef9f5fad8dc94c6289",
       "version_major": 2,
       "version_minor": 0
      },
      "text/plain": [
       "Canvas(height=200, width=200)"
      ]
     },
     "metadata": {},
     "output_type": "display_data"
    }
   ],
   "source": []
  }
 ],
 "metadata": {
  "kernelspec": {
   "display_name": "Python 3.8 (XPython)",
   "language": "python",
   "name": "xpython"
  },
  "language_info": {
   "file_extension": ".py",
   "mimetype": "text/x-python",
   "name": "python",
   "version": "3.8.2"
  }
 },
 "nbformat": 4,
 "nbformat_minor": 4
}
