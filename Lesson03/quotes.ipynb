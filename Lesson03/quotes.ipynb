{
 "cells": [
  {
   "cell_type": "markdown",
   "metadata": {},
   "source": [
    "# Quotes and the f-string\n",
    "\n",
    "Quotes mark the beginning and end of a string. There are several types of quotes in Python and they serve different purposes. You sould know each of the quote types and when to use them. \n",
    "\n",
    "## Reference \n",
    "\n",
    "Here's a table to help you remember what quote to use: \n",
    "\n",
    "| Name | Example | Use |\n",
    "| :- | :- | :- |\n",
    "| Single Quote | `'Hello, world!'` | Good for general use. |\n",
    "| Double Quote | `\"Hello, world!\"` | Good for general use. | \n",
    "| Triple Quotes | `'''Hello, world!'''` <br> `\"\"\"Hello, world!\"\"\"` | Stronger than single or double quotes. You can have multiple lines inside them. |\n",
    "| Format Strings | `f'Hello, my name is {name}'`<br>`f\"Hello, my name is {name}\"`<br>`f'''Hello, my name is {name}'''`<br>`f\"\"\"Hello, my name is {name}\"\"\"` | Variable interpolation is convenient.<br>You can use double or single or triple quotes too.|\n",
    "| Raw Strings | `r\"Newline (\\n) is literal\"` | Raw strings don't change the text at all |  \n",
    "| Byte Strings | `b'\\xF0\\x9F\\x98\\xB8'` | Write strings in their lower level byte encoding. | "
   ]
  },
  {
   "cell_type": "markdown",
   "metadata": {},
   "source": [
    "## Triple Quotes\n",
    "\n",
    "The quotes we've used so far (`\"` and `'`) have some key limitations. They are common in English which sometimes causes errors. Here's an example of a common error using single quotes:"
   ]
  },
  {
   "cell_type": "code",
   "execution_count": null,
   "metadata": {},
   "outputs": [],
   "source": [
    "'I couldn't find that file."
   ]
  },
  {
   "cell_type": "markdown",
   "metadata": {},
   "source": [
    "It's really handy to be able to have a string use multiple lines, but they can't with single or double quotes. "
   ]
  },
  {
   "cell_type": "code",
   "execution_count": null,
   "metadata": {},
   "outputs": [],
   "source": [
    "\"I do not love you except because I love you; \n",
    "I go from loving to not loving you,\""
   ]
  },
  {
   "cell_type": "markdown",
   "metadata": {},
   "source": [
    "The triple quote is three copies of either a double-quote character `\"` or a single-quote character `'`. Triple quotes are great because it's very rare to have three copies of a quote character in normal English. Also, triple quoted strings can contain multiple lines. "
   ]
  },
  {
   "cell_type": "code",
   "execution_count": null,
   "metadata": {},
   "outputs": [],
   "source": [
    "print (\"\"\"\n",
    "\n",
    "Some say the world will end in fire,\n",
    "Some say in ice.\n",
    "From what I’ve tasted of desire\n",
    "I hold with those who favor fire.\n",
    "But if it had to perish twice,\n",
    "I think I know enough of hate\n",
    "To say that for destruction ice\n",
    "Is also great\n",
    "And would suffice.\n",
    "\n",
    "\"\"\")"
   ]
  },
  {
   "cell_type": "markdown",
   "metadata": {},
   "source": [
    "Triple quotes are used for docstrings because they're the stronges kind of quote."
   ]
  },
  {
   "cell_type": "markdown",
   "metadata": {},
   "source": [
    "## Backslash Escape \n",
    "\n",
    "The backslash `\\` character changes the meaning of the character after it. For example, you can prevent a quote from ending the string:"
   ]
  },
  {
   "cell_type": "code",
   "execution_count": null,
   "metadata": {},
   "outputs": [],
   "source": [
    "print ('I can\\'t do that Dave.')"
   ]
  },
  {
   "cell_type": "markdown",
   "metadata": {},
   "source": [
    "The backslash character gives other characters a special meaning. \n",
    "\n",
    "`\\t` is the *tab* character:"
   ]
  },
  {
   "cell_type": "code",
   "execution_count": null,
   "metadata": {},
   "outputs": [],
   "source": [
    "print('\\tOne Tab')\n",
    "print('\\t\\tTwo Tabs')"
   ]
  },
  {
   "cell_type": "markdown",
   "metadata": {},
   "source": [
    "`\\n` is the *newline* character: "
   ]
  },
  {
   "cell_type": "code",
   "execution_count": null,
   "metadata": {},
   "outputs": [],
   "source": [
    "print('One\\nTwo\\nThree')"
   ]
  },
  {
   "cell_type": "markdown",
   "metadata": {},
   "source": [
    "If you want a *literal* backslash you can escape the backslash with a backslash (`\\\\`): "
   ]
  },
  {
   "cell_type": "code",
   "execution_count": null,
   "metadata": {},
   "outputs": [],
   "source": [
    "print (\"tab is \\\\t\")\n",
    "print (\"newline is \\\\n\")"
   ]
  },
  {
   "cell_type": "markdown",
   "metadata": {},
   "source": [
    "## The f-String \n",
    "\n",
    "An f-string is just adding an `f` to any of the types of strings you've already learned. For example:"
   ]
  },
  {
   "cell_type": "code",
   "execution_count": null,
   "metadata": {},
   "outputs": [],
   "source": [
    "f\"Hello World\""
   ]
  },
  {
   "cell_type": "markdown",
   "metadata": {},
   "source": [
    "What makes the f-string useful is that it does *variable interpolation*. That means you can name variables in the string:"
   ]
  },
  {
   "cell_type": "code",
   "execution_count": null,
   "metadata": {},
   "outputs": [],
   "source": [
    "what = \"World\"\n",
    "\n",
    "f\"Hello {what}\""
   ]
  },
  {
   "cell_type": "markdown",
   "metadata": {},
   "source": [
    "Variable interpolation saves a ton of time and effort by making it much more convenient to use variables and language together. In the practice from the last lesson you made a version of the Pablo Neruda poem where you could change \"love\" with any other word. Here's a snippet of that code: "
   ]
  },
  {
   "cell_type": "code",
   "execution_count": null,
   "metadata": {},
   "outputs": [],
   "source": [
    "word = 'program'\n",
    "\n",
    "print (\"I do not\", word, \"you except because I\", word, \"you;\") \n",
    "print (\"I go from \" + word + \"ing to not \" + word + \"ing you,\")"
   ]
  },
  {
   "cell_type": "markdown",
   "metadata": {},
   "source": [
    "You may have noticed that it adds a lot of extra work when you have variables intermingled with words becuase you have to start and stop quotes. The f-string makes that much simpler. Here's how you could rewrite the poem using f-strings: ."
   ]
  },
  {
   "cell_type": "code",
   "execution_count": null,
   "metadata": {},
   "outputs": [],
   "source": [
    "word = 'program'\n",
    "\n",
    "print (f\"I do not {word} you except because I {word} you;\") \n",
    "print (f\"I go from {word}ing to not {word}ing you,\")"
   ]
  },
  {
   "cell_type": "markdown",
   "metadata": {},
   "source": [
    "The f-string gets its name from the word \"format\" and is discussed further in the [Formatting](formatting.ipynb) notebook. "
   ]
  },
  {
   "cell_type": "markdown",
   "metadata": {},
   "source": [
    "## The r-String \n",
    "\n",
    "The r-string is a \"raw\" string. The r-string doesn't do anything special with the backslash (`\\`) character to simplify some tasks. In particular that means you can't embed the newline character into an r-string. Look at the difference between the output of the next two cells. "
   ]
  },
  {
   "cell_type": "code",
   "execution_count": null,
   "metadata": {},
   "outputs": [],
   "source": [
    "print (r\"\"\"\n",
    "tab is \\t \n",
    "newline is \\n\n",
    "\"\"\")"
   ]
  },
  {
   "cell_type": "markdown",
   "metadata": {},
   "source": [
    "## The b-String\n",
    "\n",
    "A b-String is a `byte` string. A byte string is made of the ones and zeros that encode the characters that we can read as English. Byte strings become regular strings through a character encoding. That is discussed in Lesson 7. Here's an example of a byte string:"
   ]
  },
  {
   "cell_type": "code",
   "execution_count": null,
   "metadata": {},
   "outputs": [],
   "source": [
    "b'\\xF0\\x9F\\x98\\xB8'"
   ]
  },
  {
   "cell_type": "markdown",
   "metadata": {},
   "source": [
    "Byte strings are a special type:"
   ]
  },
  {
   "cell_type": "code",
   "execution_count": null,
   "metadata": {},
   "outputs": [],
   "source": [
    "type(b'\\xF0\\x9F\\x98\\xB8')"
   ]
  },
  {
   "cell_type": "markdown",
   "metadata": {},
   "source": [
    "Byte strings are decoded in to regular strings:"
   ]
  },
  {
   "cell_type": "code",
   "execution_count": null,
   "metadata": {},
   "outputs": [],
   "source": [
    "b'\\xF0\\x9F\\x98\\xB8'.decode('utf-8')"
   ]
  }
 ],
 "metadata": {
  "kernelspec": {
   "display_name": "Python 3",
   "language": "python",
   "name": "python3"
  },
  "language_info": {
   "codemirror_mode": {
    "name": "ipython",
    "version": 3
   },
   "file_extension": ".py",
   "mimetype": "text/x-python",
   "name": "python",
   "nbconvert_exporter": "python",
   "pygments_lexer": "ipython3",
   "version": "3.6.9"
  }
 },
 "nbformat": 4,
 "nbformat_minor": 4
}
