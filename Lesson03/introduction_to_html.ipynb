{
 "cells": [
  {
   "cell_type": "markdown",
   "metadata": {},
   "source": [
    "# Introduction to HTML \n",
    "\n",
    "There's a lot to know about HTML. This quick introduction will help you understand the basics so you can create simple pages in Python. Start by reading the documentation here: \n",
    "\n",
    "  * [Introduction to HTML](https://www.w3schools.com/html/html_intro.asp)\n",
    "  * [HTML Elements](https://www.w3schools.com/html/html_elements.asp)\n",
    "\n",
    "The entire guide is good but the two articles above will get you started."
   ]
  },
  {
   "cell_type": "markdown",
   "metadata": {},
   "source": [
    "## The HTML Magic in Jupyter \n",
    "\n",
    "The Jupyter notebook makes it easy to experiment with HTML. If a code cell begins with `%%html` the cell is interpreted as HTML, not Python code. For example:"
   ]
  },
  {
   "cell_type": "code",
   "execution_count": null,
   "metadata": {},
   "outputs": [],
   "source": [
    "%%html\n",
    "\n",
    "<h3>My Heading</h3>\n",
    "<p>My first paragraph.</p>"
   ]
  },
  {
   "cell_type": "markdown",
   "metadata": {},
   "source": [
    "Try copying a snippet of HTML from one of the tutorials into a cell below. "
   ]
  },
  {
   "cell_type": "code",
   "execution_count": null,
   "metadata": {},
   "outputs": [],
   "source": []
  },
  {
   "cell_type": "markdown",
   "metadata": {},
   "source": [
    "## Writing Python Code That Produces HTML \n",
    "\n",
    "You can produce ouput from Python code and have the Jupyter notebook render it as HTML. First you have to *import* the HTML function using Python's `import` directive. "
   ]
  },
  {
   "cell_type": "code",
   "execution_count": null,
   "metadata": {},
   "outputs": [],
   "source": [
    "from IPython.core.display import HTML, display"
   ]
  },
  {
   "cell_type": "markdown",
   "metadata": {},
   "source": [
    "The `import` directive only has to be run once, after it's run you can use the HTML function in any cell. "
   ]
  },
  {
   "cell_type": "code",
   "execution_count": null,
   "metadata": {},
   "outputs": [],
   "source": [
    "HTML('<i>This is italic text</i>')"
   ]
  },
  {
   "cell_type": "markdown",
   "metadata": {},
   "source": [
    "Generating HTML with Python opens up some colorful possibilities. For example:"
   ]
  },
  {
   "cell_type": "code",
   "execution_count": null,
   "metadata": {},
   "outputs": [],
   "source": [
    "color = 'green'\n",
    "text = 'Hello Green World'\n",
    "\n",
    "HTML(f'<span style=\"color: {color};\"><b>{text}</b></span>')"
   ]
  },
  {
   "cell_type": "markdown",
   "metadata": {},
   "source": [
    "Mixing static and variable HTML is how every useful site works. It's also a place where the format() function shines. "
   ]
  },
  {
   "cell_type": "code",
   "execution_count": null,
   "metadata": {},
   "outputs": [],
   "source": [
    "template = \"\"\"\n",
    "<span style=\"color: {};\">\n",
    "    <b>{}</b>\n",
    "</span>\n",
    "\"\"\"\n",
    "\n",
    "HTML(template.format(\"orange\", \"I'm so happy!\"))"
   ]
  },
  {
   "cell_type": "markdown",
   "metadata": {},
   "source": [
    "Using format() this way enables your program to reuse the template to make new words and colors."
   ]
  },
  {
   "cell_type": "code",
   "execution_count": null,
   "metadata": {},
   "outputs": [],
   "source": [
    "HTML(template.format(\"blue\", \"I'm blue\"))"
   ]
  },
  {
   "cell_type": "markdown",
   "metadata": {},
   "source": [
    "If you want to output more than one HTML snippet or intermix HTML with regular output from print() you need the display() function. "
   ]
  },
  {
   "cell_type": "code",
   "execution_count": null,
   "metadata": {},
   "outputs": [],
   "source": [
    "print(\"This on is orange:\")\n",
    "display(HTML(template.format(\"orange\", \"I'm so happy!\")))\n",
    "print(\"This one is blue:\")\n",
    "display(HTML(template.format(\"blue\", \"I'm blue\")))"
   ]
  },
  {
   "cell_type": "markdown",
   "metadata": {},
   "source": [
    "## Tags to Know for Class\n",
    "\n",
    "There are a few tags that you'll need to know for future projects. Here they are with examples that you can work with:"
   ]
  },
  {
   "cell_type": "markdown",
   "metadata": {},
   "source": [
    "### Heading Tags \n",
    "\n",
    "Heading tags change the size and weight of the letters. Words inside heading tags appear on their own line."
   ]
  },
  {
   "cell_type": "code",
   "execution_count": null,
   "metadata": {},
   "outputs": [],
   "source": [
    "%%html \n",
    "\n",
    "<h1>Heading 1</h1>\n",
    "<h2>Heading 2</h2>\n",
    "<h3>Heading 3</h3>\n",
    "<h4>Heading 4</h4>\n",
    "<h5>Heading 5</h5>"
   ]
  },
  {
   "cell_type": "markdown",
   "metadata": {},
   "source": [
    "### Text Decoration \n",
    "\n",
    "You can use tags to make bold, italic and underlined text. Notice that they don't split lines like heading tags do."
   ]
  },
  {
   "cell_type": "code",
   "execution_count": null,
   "metadata": {},
   "outputs": [],
   "source": [
    "%%html\n",
    "\n",
    "This is <i>italic</i>.  \n",
    "This is <b>bold</b>. \n",
    "This is <u>underlined</u>."
   ]
  },
  {
   "cell_type": "markdown",
   "metadata": {},
   "source": [
    "### Hyperlinks \n",
    "\n",
    "A hyperlink is a clickable reference to another page. There are two parts of a hyperlink, the link contents and the link target. The contents are what you click and the target is where you go when you click it. "
   ]
  },
  {
   "cell_type": "code",
   "execution_count": null,
   "metadata": {},
   "outputs": [],
   "source": [
    "%%html \n",
    "\n",
    "Visit the \n",
    "<a href=\"http://www.lifealgorithmic.com\">\n",
    "    CIS-15\n",
    "</a>\n",
    "class page."
   ]
  },
  {
   "cell_type": "markdown",
   "metadata": {},
   "source": [
    "### Lists \n",
    "\n",
    "You can make ordered lists (lists with numbers) and unordered lists (lists with bullets) easily with HTML. These use nested elements."
   ]
  },
  {
   "cell_type": "code",
   "execution_count": null,
   "metadata": {},
   "outputs": [],
   "source": [
    "%%html \n",
    "\n",
    "<ol>\n",
    "    <li>First item</li>\n",
    "    <li>Second item</li>\n",
    "</ol>"
   ]
  },
  {
   "cell_type": "code",
   "execution_count": null,
   "metadata": {},
   "outputs": [],
   "source": [
    "%%html \n",
    "\n",
    "<ul>\n",
    "    <li>Bullet one</li>\n",
    "    <li>Bullet two</li>\n",
    "</ul>"
   ]
  },
  {
   "cell_type": "markdown",
   "metadata": {},
   "source": [
    "### Tables \n",
    "\n",
    "Tables let you organize elements into rows and columns. Tables nest just like lists. "
   ]
  },
  {
   "cell_type": "code",
   "execution_count": null,
   "metadata": {},
   "outputs": [],
   "source": [
    "%%html \n",
    "\n",
    "<table>\n",
    "    <tr>\n",
    "        <th>Class</th>\n",
    "        <th>Title</th>\n",
    "    </tr>\n",
    "    <tr>\n",
    "        <td>cis-15</td>\n",
    "        <td>Intro. to programming in Python</td>\n",
    "    </tr>\n",
    "    <tr>\n",
    "        <td>cis-192</td>\n",
    "        <td>UNIX/Linux Network Administration</td>\n",
    "    </tr>\n",
    "    <tr>\n",
    "        <td>cis-194</td>\n",
    "        <td>Windows Client Administration</td>\n",
    "    </tr>\n",
    "</table>"
   ]
  },
  {
   "cell_type": "markdown",
   "metadata": {},
   "source": [
    "### Images \n",
    "\n",
    "You can display images in HTML using the image tag. "
   ]
  },
  {
   "cell_type": "code",
   "execution_count": null,
   "metadata": {},
   "outputs": [],
   "source": [
    "%%html\n",
    "\n",
    "<image src=\"https://www.python.org/static/img/python-logo.png\"/>"
   ]
  },
  {
   "cell_type": "markdown",
   "metadata": {},
   "source": [
    "### Paragraphs and Breaks\n",
    "\n",
    "You have seen how HTML \"smashes\" text together. You can make sure sentences stay separate using the paragraph `<p>` tag and the break `<br>` tag. \n"
   ]
  },
  {
   "cell_type": "code",
   "execution_count": null,
   "metadata": {},
   "outputs": [],
   "source": [
    "%%html \n",
    "\n",
    "<p>Line one</p>\n",
    "<p>Line two</p>\n",
    "<p>Line three</p>"
   ]
  },
  {
   "cell_type": "markdown",
   "metadata": {},
   "source": [
    "Paragraphs get extra space. Breaks are just a single \"enter\". "
   ]
  },
  {
   "cell_type": "code",
   "execution_count": null,
   "metadata": {},
   "outputs": [],
   "source": [
    "%%html \n",
    "\n",
    "Line one<br/>\n",
    "Line two<br/>\n",
    "Line three<br/>"
   ]
  }
 ],
 "metadata": {
  "kernelspec": {
   "display_name": "Python 3",
   "language": "python",
   "name": "python3"
  },
  "language_info": {
   "codemirror_mode": {
    "name": "ipython",
    "version": 3
   },
   "file_extension": ".py",
   "mimetype": "text/x-python",
   "name": "python",
   "nbconvert_exporter": "python",
   "pygments_lexer": "ipython3",
   "version": "3.6.8"
  }
 },
 "nbformat": 4,
 "nbformat_minor": 4
}
