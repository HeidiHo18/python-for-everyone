{
 "cells": [
  {
   "cell_type": "markdown",
   "metadata": {},
   "source": [
    "# Formatting \n",
    "\n",
    "Python provides a way to mix variables into quoted strings. Almost every program will use formatting in some way because it makes for informative messages to the user. There are two ways that we'll use in the class to format text. The ``format()`` function, which has existed since Python 3 (but was back-ported to Python 2) and the newer f-string which was introduced in Python 3.6. For completeness we'll see the format operator `%` which is used in Python 2. "
   ]
  },
  {
   "cell_type": "markdown",
   "metadata": {},
   "source": [
    "## Functions and the Dot Operator\n",
    "\n",
    "The `format()` function has a different syntax than `print()`. The `format()` function operates on a string using the dot (`.`) operator. The picture shows how to use the `format()` function with a string.\n",
    "\n",
    "![The dot operator](python_dot_operator.png)\n",
    "\n",
    "Try the code in the picture.  "
   ]
  },
  {
   "cell_type": "code",
   "execution_count": null,
   "metadata": {},
   "outputs": [],
   "source": [
    "\"Hello {}\".format('World')"
   ]
  },
  {
   "cell_type": "markdown",
   "metadata": {},
   "source": [
    "Most of the time when you use a function like `format()` you want to store the result into a variable so that you can use it later. Adding an equal sign (`=`) and the name of a variable accomplishes this as shown.\n",
    "\n",
    "![Assignment and the dot operator](python_dot_operator_assignment.png)\n",
    "\n",
    "Execute the example code and notice that the formatted string is assigned to the variable `phrase`."
   ]
  },
  {
   "cell_type": "code",
   "execution_count": null,
   "metadata": {},
   "outputs": [],
   "source": [
    "phrase = \"Hello {}\".format('World')\n",
    "\n",
    "print (phrase)"
   ]
  },
  {
   "cell_type": "markdown",
   "metadata": {},
   "source": [
    "## The format() Function \n",
    "\n",
    "The format function places the contents of variable into \"holes\" embedded into a string. You make a hole in a string using the `{}` characters. Play with the example below to see how you can change the value that's in the hole. Fill in your own name."
   ]
  },
  {
   "cell_type": "code",
   "execution_count": null,
   "metadata": {},
   "outputs": [],
   "source": [
    "\"Hello, my name is {}\".format('Mike')"
   ]
  },
  {
   "cell_type": "markdown",
   "metadata": {},
   "source": [
    "The format function works on a string variable or a string literal. Try the code below, to Python it's the same as the first example."
   ]
  },
  {
   "cell_type": "code",
   "execution_count": null,
   "metadata": {},
   "outputs": [],
   "source": [
    "message = \"Hello, my name is {}\"\n",
    "name = \"Mike\"\n",
    "message.format(name)"
   ]
  },
  {
   "cell_type": "markdown",
   "metadata": {},
   "source": [
    "There can be multiple \"holes\" in a string. When there are the format function requires multiple *arguments* to fill in all the holes. "
   ]
  },
  {
   "cell_type": "code",
   "execution_count": null,
   "metadata": {},
   "outputs": [],
   "source": [
    "message = \"Hello, my name is {} and I'm a {}\"\n",
    "message.format('Mike', 'programmer')"
   ]
  },
  {
   "cell_type": "markdown",
   "metadata": {},
   "source": [
    "It's an error to provide too few arguments."
   ]
  },
  {
   "cell_type": "code",
   "execution_count": null,
   "metadata": {},
   "outputs": [],
   "source": [
    "message = \"Hello, my name is {} and I'm a {}\"\n",
    "message.format('Mike')"
   ]
  },
  {
   "cell_type": "markdown",
   "metadata": {},
   "source": [
    "But, it's okay to supply too many (though it's probably a mistake). Extra arguments are ignored."
   ]
  },
  {
   "cell_type": "code",
   "execution_count": null,
   "metadata": {},
   "outputs": [],
   "source": [
    "message = \"Hello, my name is {} and I'm a {}\"\n",
    "message.format('Mike', 'programmer', 'and nerd')"
   ]
  },
  {
   "cell_type": "markdown",
   "metadata": {},
   "source": [
    "## Formatting vs. f-strings\n",
    "\n",
    "An f-string is the easiest way to format a string. The f-string causes Python to do *variable interpolation*. That means you can embed the name of a variable directly into the string and Python will replace the name with the variable's value. "
   ]
  },
  {
   "cell_type": "markdown",
   "metadata": {},
   "source": [
    "The difference between an f-string and a regular string is that an f-string has holes, similar to the `format()` holes, but the holes have a name. The name of the hole has to be a variable in your program. Here's an example:"
   ]
  },
  {
   "cell_type": "code",
   "execution_count": null,
   "metadata": {},
   "outputs": [],
   "source": [
    "world = 'Earth'\n",
    "\n",
    "f'Hello {world}'"
   ]
  },
  {
   "cell_type": "markdown",
   "metadata": {},
   "source": [
    "Notice how `{world}` is replaced with the contents of the variable `world`. The f-string makes formatting a snap. It works very similarly to the `format()` function but is a bit more convenient at times. Here's an example of a Mad Lib program implemented with the `format()` function. "
   ]
  },
  {
   "cell_type": "code",
   "execution_count": null,
   "metadata": {},
   "outputs": [],
   "source": [
    "verb = 'run'\n",
    "noun = 'chickens'\n",
    "print ('I like to {} with {}.'.format(verb, noun))"
   ]
  },
  {
   "cell_type": "markdown",
   "metadata": {},
   "source": [
    "Here's the same program, but implemented with an f-string."
   ]
  },
  {
   "cell_type": "code",
   "execution_count": null,
   "metadata": {},
   "outputs": [],
   "source": [
    "verb = 'run'\n",
    "noun = 'chickens'\n",
    "print (f'I like to {verb} with {noun}.')"
   ]
  },
  {
   "cell_type": "markdown",
   "metadata": {},
   "source": [
    "Notice how when the `f` is before the quote character the string becomes an f-string. The f can appear before any of the quote characters (including triple quotes). You can reference the name of a variable inside of an f-string by placing its name inside of parens. "
   ]
  },
  {
   "cell_type": "markdown",
   "metadata": {},
   "source": [
    "## Advanced Formatting \n",
    "\n",
    "The advantage of the `format()` function has over the f-string is that it's more flexible and powerful. The format funciton lets you choose, reorder and reuse the values that go in the holes.  \n",
    "\n",
    "### Numbered Holes \n",
    "\n",
    "A numbered hole is a format hole that has a number inside. For example `{0}` and `{1}`. A numbered hole refers to the corresponding argument to `format()`. The first argument is zero `{0}`. Numbered holes allow you to print arguments in any order:"
   ]
  },
  {
   "cell_type": "code",
   "execution_count": null,
   "metadata": {},
   "outputs": [],
   "source": [
    "\"{1} is {0}\".format('down', 'up')"
   ]
  },
  {
   "cell_type": "markdown",
   "metadata": {},
   "source": [
    "You can reuse arguments as many times as you want:"
   ]
  },
  {
   "cell_type": "code",
   "execution_count": null,
   "metadata": {},
   "outputs": [],
   "source": [
    "\"{0}, {0} and {1}\".format('up', 'away')"
   ]
  },
  {
   "cell_type": "markdown",
   "metadata": {},
   "source": [
    "But, you cannot mix numbered and unnumbered holes:"
   ]
  },
  {
   "cell_type": "code",
   "execution_count": null,
   "metadata": {},
   "outputs": [],
   "source": [
    "\"{1} is {}\".format('down', 'up')"
   ]
  },
  {
   "cell_type": "markdown",
   "metadata": {},
   "source": [
    "### Named Holes \n",
    "\n",
    "Named holes work similary to the f-string. A named hole is just like the named hole in the f-string. For example, it looks like `{holename}`. However, variables in your program are not automatically placed into named holes like they are with f-strings. You have to connect them using a special kind of argument to format."
   ]
  },
  {
   "cell_type": "code",
   "execution_count": null,
   "metadata": {},
   "outputs": [],
   "source": [
    "verb = 'run'\n",
    "noun = 'chickens'\n",
    "print ('I like to {word1} with {word2}.'.format(word1=verb, word2=noun))"
   ]
  },
  {
   "cell_type": "markdown",
   "metadata": {},
   "source": [
    "In the example notice how the holes are named `{word1}` and `{word2}`. Values for those holes are assigned in the argument to the format function: `word1=verb`. That construct says, the hole called `word1` gets the value inside of `verb`. This \"glue\" makes named holes a bit confusing for beginners. "
   ]
  },
  {
   "cell_type": "markdown",
   "metadata": {},
   "source": [
    "### Escaping the { and } Characters\n",
    "\n",
    "Sometimes you need to put braces `{` and `}` into a format string, but the format string wants them. If you want the literals `{` and `}` to appear in your string double them up. "
   ]
  },
  {
   "cell_type": "code",
   "execution_count": null,
   "metadata": {},
   "outputs": [],
   "source": [
    "print (f'This is left brace {{ this is right brace }}')"
   ]
  },
  {
   "cell_type": "markdown",
   "metadata": {},
   "source": [
    "Unfortunately, you can't use backslash for that:"
   ]
  },
  {
   "cell_type": "code",
   "execution_count": null,
   "metadata": {},
   "outputs": [],
   "source": [
    "print (f'This is left brace \\{ this is right brace \\}')"
   ]
  },
  {
   "cell_type": "markdown",
   "metadata": {},
   "source": [
    "Here's an example of when you would use the double brace to print correct CSS:"
   ]
  },
  {
   "cell_type": "code",
   "execution_count": null,
   "metadata": {},
   "outputs": [],
   "source": [
    "css_template = '''\n",
    "body {{ \n",
    "    padding-top: {}; \n",
    "}}'''\n",
    "\n",
    "print (css_template.format('1.5em'))"
   ]
  },
  {
   "cell_type": "markdown",
   "metadata": {},
   "source": [
    "## Python 2's Format Operator\n",
    "\n",
    "The `format()` function was not always in Python. Formatting used to be done using the `%` (modulus) operator. There are still many programs that do it this way and it still works in Python 3. However, it's not as easy as the `format()` function and it's further use is discouraged. In programmer speak it's *deprecated*. \n",
    "\n",
    "Here's the Mad Lib program using the format (`%`) operator:"
   ]
  },
  {
   "cell_type": "code",
   "execution_count": null,
   "metadata": {},
   "outputs": [],
   "source": [
    "verb = 'run'\n",
    "noun = 'chickens'\n",
    "print ('I like to %s with %s.' % (verb, noun))"
   ]
  },
  {
   "cell_type": "markdown",
   "metadata": {},
   "source": [
    "  * Notice that instead of `{}` you see `%s`\n",
    "  * The `%s` tells Python to look for a string. \n",
    "  * If you want numbers you have to use other formatters\n",
    "    * `%d` for an integer\n",
    "    * `%f` for a floating point number\n",
    "    * The format strings come from the C programming language's `printf()` function. \n",
    "  * It's very easy to make mistakes (too easy!)\n",
    "\n",
    "Can you spot the mistake?"
   ]
  },
  {
   "cell_type": "code",
   "execution_count": null,
   "metadata": {},
   "outputs": [],
   "source": [
    "print ('I have %d bikes' % (2))\n",
    "print ('I have %f bikes' % (2.5))\n",
    "print ('Drive %d more miles.' % (3.7))"
   ]
  }
 ],
 "metadata": {
  "kernelspec": {
   "display_name": "Python 3",
   "language": "python",
   "name": "python3"
  },
  "language_info": {
   "codemirror_mode": {
    "name": "ipython",
    "version": 3
   },
   "file_extension": ".py",
   "mimetype": "text/x-python",
   "name": "python",
   "nbconvert_exporter": "python",
   "pygments_lexer": "ipython3",
   "version": "3.6.9"
  }
 },
 "nbformat": 4,
 "nbformat_minor": 4
}
