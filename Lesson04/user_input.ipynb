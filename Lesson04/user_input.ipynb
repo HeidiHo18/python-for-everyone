{
 "cells": [
  {
   "cell_type": "markdown",
   "metadata": {},
   "source": [
    "# Prompting the User with input() \n",
    "\n",
    "Most programs need input of some kind. If your program is using the command line you can take input from the user's keyboard with the `input()` function. You can use `input()` in Jupyter too. When the instruction runs a textbox will appear under the code cell. \n",
    "\n",
    "The `input()` function *returns* what the user typed to your program. Execute the line below:"
   ]
  },
  {
   "cell_type": "code",
   "execution_count": null,
   "metadata": {},
   "outputs": [],
   "source": [
    "answer = input(\"What is 1 + 1? \")"
   ]
  },
  {
   "cell_type": "markdown",
   "metadata": {},
   "source": [
    "So where did your answer go? It's in the `answer` variable. Use the cell below to print `answer`:"
   ]
  },
  {
   "cell_type": "code",
   "execution_count": null,
   "metadata": {},
   "outputs": [],
   "source": []
  },
  {
   "cell_type": "markdown",
   "metadata": {},
   "source": [
    "The input function returns a string (even if the user types a number)."
   ]
  },
  {
   "cell_type": "code",
   "execution_count": null,
   "metadata": {},
   "outputs": [],
   "source": [
    "num = input(\"Enter a number between 1 and 100: \")\n",
    "\n",
    "print(type(num))"
   ]
  },
  {
   "cell_type": "markdown",
   "metadata": {},
   "source": [
    "Returning a string can be a problem if you want to do math. In Python you can turn a string into a number using `int()` and `float()`. Be careful, you will cause an error if you try to convert something that can't be converted. Below is a simple program that adds two numbers:"
   ]
  },
  {
   "cell_type": "code",
   "execution_count": null,
   "metadata": {},
   "outputs": [],
   "source": [
    "a = int(input(\"Enter an integer: \"))\n",
    "b = int(input(\"Enter another integer: \"))\n",
    "\n",
    "print(\"The sum of the numbers is:\", a + b)"
   ]
  },
  {
   "cell_type": "markdown",
   "metadata": {},
   "source": [
    "If you want to be able to take any number you should convert the input to `float`:"
   ]
  },
  {
   "cell_type": "code",
   "execution_count": null,
   "metadata": {},
   "outputs": [],
   "source": [
    "a = float(input(\"Enter a number: \"))\n",
    "b = float(input(\"Enter another number: \"))\n",
    "\n",
    "print(\"The sum of the numbers is:\", a + b)"
   ]
  },
  {
   "cell_type": "markdown",
   "metadata": {},
   "source": [
    "# Default Values and Errors\n",
    "\n",
    "Users make mistakes. Sometimes when you ask for input you get something you don't expect. That causes an Exception in Python. Run the code below to see what happens when you try to convert a bogus string into a number. "
   ]
  },
  {
   "cell_type": "code",
   "execution_count": null,
   "metadata": {},
   "outputs": [],
   "source": [
    "value = float('bogus')"
   ]
  },
  {
   "cell_type": "markdown",
   "metadata": {},
   "source": [
    "Sometimes your program needs to keep running even when you see a bad value. In order to do that you can use the `try:` and `except:` structure to \"catch\" the `ValueError`. Here's an example:"
   ]
  },
  {
   "cell_type": "code",
   "execution_count": null,
   "metadata": {},
   "outputs": [],
   "source": [
    "try:\n",
    "    value = float(input(\"Please type a number: \"))\n",
    "except:\n",
    "    print (\"You entered a bogus number.\")\n",
    "    value = 0\n",
    "\n",
    "print (\"The value is:\", value)"
   ]
  },
  {
   "cell_type": "markdown",
   "metadata": {},
   "source": [
    "In a few weeks you'll see how to better react to bad input and ask for input again. Until then you can use the `try/except` structure to stop an error from causing your program to exit. "
   ]
  },
  {
   "cell_type": "markdown",
   "metadata": {},
   "source": [
    "# Exercise \n",
    "\n",
    "Make a calculator that uses `input()` to receive two numbers then prints their product."
   ]
  },
  {
   "cell_type": "code",
   "execution_count": null,
   "metadata": {},
   "outputs": [],
   "source": []
  },
  {
   "cell_type": "markdown",
   "metadata": {},
   "source": [
    "Run the code in the cell below and it will create a `shape()` function that you can use to draw shapes."
   ]
  },
  {
   "cell_type": "code",
   "execution_count": null,
   "metadata": {},
   "outputs": [],
   "source": [
    "from Lab.drawing import pen \n",
    "\n",
    "def shape(name, size=50):\n",
    "    name = name.lower()\n",
    "    if name == 'triangle':\n",
    "        polygon(3,size)\n",
    "    if name == 'square':\n",
    "        polygon(4,size)\n",
    "    if name == 'pentagon':\n",
    "        polygon(5,size)\n",
    "    if name == 'hexagon':\n",
    "        polygon(6,size)\n",
    "        \n",
    "def polygon(sides, size):\n",
    "    for _ in range(sides):\n",
    "        pen.draw(size)\n",
    "        pen.turn(360/sides)"
   ]
  },
  {
   "cell_type": "markdown",
   "metadata": {},
   "source": [
    "Now you can draw shapes by name:"
   ]
  },
  {
   "cell_type": "code",
   "execution_count": null,
   "metadata": {},
   "outputs": [],
   "source": [
    "shape(\"square\")\n",
    "pen.show()"
   ]
  },
  {
   "cell_type": "markdown",
   "metadata": {},
   "source": [
    "Use the `input()` function to ask the user what shape to draw, then draw the shape."
   ]
  },
  {
   "cell_type": "code",
   "execution_count": null,
   "metadata": {},
   "outputs": [],
   "source": []
  },
  {
   "cell_type": "markdown",
   "metadata": {},
   "source": [
    "The `polygon()` function takes two arguments, the number of sides and the length of a side. Change the numbers in the example below until you feel comfortable with how `polygon` works:"
   ]
  },
  {
   "cell_type": "code",
   "execution_count": null,
   "metadata": {},
   "outputs": [],
   "source": [
    "polygon(5, 50)\n",
    "pen.show()"
   ]
  },
  {
   "cell_type": "markdown",
   "metadata": {},
   "source": [
    "Use the `input()` function twice to ask the user for: \n",
    "\n",
    "  1. The number of sides they want to draw. \n",
    "  2. The size of the polygon\n",
    "  \n",
    "After taking user input draw the polygon."
   ]
  },
  {
   "cell_type": "code",
   "execution_count": null,
   "metadata": {},
   "outputs": [],
   "source": []
  }
 ],
 "metadata": {
  "kernelspec": {
   "display_name": "Python 3",
   "language": "python",
   "name": "python3"
  },
  "language_info": {
   "codemirror_mode": {
    "name": "ipython",
    "version": 3
   },
   "file_extension": ".py",
   "mimetype": "text/x-python",
   "name": "python",
   "nbconvert_exporter": "python",
   "pygments_lexer": "ipython3",
   "version": "3.6.9"
  }
 },
 "nbformat": 4,
 "nbformat_minor": 4
}
