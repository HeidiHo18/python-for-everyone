{
 "cells": [
  {
   "cell_type": "markdown",
   "metadata": {},
   "source": [
    "# Using Environment Variables \n",
    "\n",
    "Another way to pass input to a program is through the *environment*. Environment variables are used on Windows, Mac and Linux, I'll showl you how they work on Mac and Linux. Environment variables are used to pass configuration information to programs, like where to find files. \n",
    "\n",
    "Here's how to set and environment variable in the BASH shell:\n",
    "\n",
    "```bash\n",
    "$ export MY_NAME=\"Mike Matera\"\n",
    "$ export MY_JOB=Instructor \n",
    "```\n",
    "\n",
    "Bash is a programming language, like Pytyon but it's specialized for the command line. Bash is a lot more cumbersome than Python. When you set variables in Bash remember some rules.\n",
    "\n",
    "  * There can **never** be a space between the name of the variable, the equal sign (`=`) and the value of the variable \n",
    "  * When a value contains a space it needs to be in quotes (`\"`)\n",
    "  * When a value doesn't contain a space no quote is necessary. \n",
    "  * It's a tradition to make environment variables upper case (but not required)\n",
    "    \n",
    "Environment variables are accessible to Python through the `os` package. Here's a program that prints the name of the user."
   ]
  },
  {
   "cell_type": "code",
   "execution_count": null,
   "metadata": {},
   "outputs": [],
   "source": [
    "import os\n",
    "\n",
    "print (\"The current user is:\", os.environ['USER'])"
   ]
  },
  {
   "cell_type": "markdown",
   "metadata": {},
   "source": [
    "# Exercise \n",
    "\n",
    "Copy this program code into a file called `use_env.py`.\n",
    "\n",
    "```python\n",
    "import os\n",
    "\n",
    "print ('Name:', os.environ['MY_NAME'])\n",
    "print ('Title:', os.environ['MY_JOB'])\n",
    "``` \n",
    "\n",
    "The following code prints:\n",
    "\n",
    "```bash\n",
    "$ export MY_NAME=\"Mike Matera\"\n",
    "$ export MY_JOB=Instructor \n",
    "$ python3.6 use_env.py                                                                                \n",
    "Name: Mike Matera\n",
    "Title: Instructor\n",
    "```\n",
    "\n",
    "The program will have an error if an environment variable is not set: \n",
    "\n",
    "```bash\n",
    "$ unset MY_JOB \n",
    "$ python3.6 /tmp/use_env.py \n",
    "Name: Mike Matera\n",
    "Traceback (most recent call last):\n",
    "  File \"/tmp/use_env.py\", line 4, in <module>\n",
    "    print ('Title:', os.environ['MY_JOB'])\n",
    "  File \"/usr/lib64/python3.6/os.py\", line 669, in __getitem__\n",
    "    raise KeyError(key) from None\n",
    "KeyError: 'MY_JOB'\n",
    "```"
   ]
  }
 ],
 "metadata": {
  "kernelspec": {
   "display_name": "Python 3",
   "language": "python",
   "name": "python3"
  },
  "language_info": {
   "codemirror_mode": {
    "name": "ipython",
    "version": 3
   },
   "file_extension": ".py",
   "mimetype": "text/x-python",
   "name": "python",
   "nbconvert_exporter": "python",
   "pygments_lexer": "ipython3",
   "version": "3.6.8"
  }
 },
 "nbformat": 4,
 "nbformat_minor": 4
}
