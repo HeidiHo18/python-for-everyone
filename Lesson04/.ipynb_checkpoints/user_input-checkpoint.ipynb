{
 "cells": [
  {
   "cell_type": "markdown",
   "metadata": {},
   "source": [
    "# Prompting the User with input() \n",
    "\n",
    "Most programs need input of some kind. If your program is using the command line you can take input from the user's keyboard with the `input()` function. \n",
    "\n",
    "Here's an example of a program that takes input: "
   ]
  },
  {
   "cell_type": "code",
   "execution_count": null,
   "metadata": {},
   "outputs": [],
   "source": [
    "name = input(\"What is your name? \")\n",
    "print (f'Hello {name}')"
   ]
  },
  {
   "cell_type": "markdown",
   "metadata": {},
   "source": [
    "The input function returns a string (even if the user types a number)."
   ]
  },
  {
   "cell_type": "code",
   "execution_count": null,
   "metadata": {},
   "outputs": [],
   "source": [
    "num = input(\"Enter a number between 1 and 100: \")\n",
    "print (f'The type of {num} is: {type(num)}')"
   ]
  },
  {
   "cell_type": "markdown",
   "metadata": {},
   "source": [
    "Returning a string can be a problem if you want to do math. In Python you can turn a string into a number using `int()` and `float()`. Be careful, you will cause an error if you try to convert something that can't be converted. \n",
    "\n",
    "See what happens to this code when you enter something that's not a number."
   ]
  },
  {
   "cell_type": "code",
   "execution_count": null,
   "metadata": {},
   "outputs": [],
   "source": [
    "num = int(input(\"Please choose a number: \"))\n",
    "print (f\"You picked {num}\")"
   ]
  },
  {
   "cell_type": "markdown",
   "metadata": {},
   "source": [
    "When you want a number that contains a decimal place you should convert it to `float()` like this. "
   ]
  },
  {
   "cell_type": "code",
   "execution_count": null,
   "metadata": {},
   "outputs": [],
   "source": [
    "price = float(input('Enter a dollar value: '))\n",
    "print (f'The price is {price}')"
   ]
  },
  {
   "cell_type": "markdown",
   "metadata": {},
   "source": [
    "# Default Values and Errors\n",
    "\n",
    "Users make mistakes. Sometimes when you ask for input you get something you don't expect. That causes an Exception in Python. Run the code below to see what happens when you try to convert a bogus string into a number. "
   ]
  },
  {
   "cell_type": "code",
   "execution_count": null,
   "metadata": {},
   "outputs": [],
   "source": [
    "value = float('bogus')"
   ]
  },
  {
   "cell_type": "markdown",
   "metadata": {},
   "source": [
    "Sometimes your program needs to keep running even when you see a bad value. In order to do that you can use the `try:` and `except:` structure to \"catch\" the `ValueError`. Here's an example:"
   ]
  },
  {
   "cell_type": "code",
   "execution_count": null,
   "metadata": {},
   "outputs": [],
   "source": [
    "try:\n",
    "    value = float(input(\"Please type a number: \"))\n",
    "except:\n",
    "    print (\"You entered a bogus number.\")\n",
    "    value = 0\n",
    "\n",
    "print (\"The value is:\", value)"
   ]
  },
  {
   "cell_type": "markdown",
   "metadata": {},
   "source": [
    "In a few weeks you'll see how to better react to bad input and ask for input again. Until then you can use the `try/except` structure to stop an error from causing your program to exit. "
   ]
  },
  {
   "cell_type": "markdown",
   "metadata": {},
   "source": [
    "# Exercise \n",
    "\n",
    "Make a calculator that uses `input()` to receive two numbers then prints their sum."
   ]
  },
  {
   "cell_type": "code",
   "execution_count": null,
   "metadata": {},
   "outputs": [],
   "source": []
  }
 ],
 "metadata": {
  "kernelspec": {
   "display_name": "Python 3",
   "language": "python",
   "name": "python3"
  },
  "language_info": {
   "codemirror_mode": {
    "name": "ipython",
    "version": 3
   },
   "file_extension": ".py",
   "mimetype": "text/x-python",
   "name": "python",
   "nbconvert_exporter": "python",
   "pygments_lexer": "ipython3",
   "version": "3.6.8"
  }
 },
 "nbformat": 4,
 "nbformat_minor": 4
}
