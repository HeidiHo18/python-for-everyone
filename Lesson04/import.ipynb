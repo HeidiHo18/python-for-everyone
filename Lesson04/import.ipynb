{
 "cells": [
  {
   "cell_type": "markdown",
   "metadata": {},
   "source": [
    "# Imports \n",
    "\n",
    "  * Using the command line and the environment required us to use the `import` statement. \n",
    "  * `import` does just what it says, it imports Python code into your program. \n",
    "  * The `import` statement does two things\n",
    "    * It looks for a *module* with the supplied name \n",
    "    * If found, it *binds* the module to the current *namespace*\n",
    "  * In programming a *namespace* is the place where variable and function names live. \n",
    "    * The *scope* of a variable or function name is the namespace where it lives. \n",
    "\n",
    "Consider the following example. Here the Python interpreter has just been started:"
   ]
  },
  {
   "cell_type": "code",
   "execution_count": null,
   "metadata": {},
   "outputs": [],
   "source": [
    "os.environ['USER']"
   ]
  },
  {
   "cell_type": "markdown",
   "metadata": {},
   "source": [
    "The problem with the code is that the `os` module has not been found. Now see what happens when `os` is imported:"
   ]
  },
  {
   "cell_type": "code",
   "execution_count": null,
   "metadata": {},
   "outputs": [],
   "source": [
    "import os\n",
    "os.environ['USER']"
   ]
  },
  {
   "cell_type": "markdown",
   "metadata": {},
   "source": [
    "  * After the `import` the contents of the `os` namespace are bound to the name `os`\n",
    "  * It's possible to change name that a namespace is bound to using import. \n",
    "\n",
    "Here's an example of choosing the name for a namespace:"
   ]
  },
  {
   "cell_type": "code",
   "execution_count": null,
   "metadata": {},
   "outputs": [],
   "source": [
    "import os as blahblah\n",
    "blahblah.environ['USER']"
   ]
  },
  {
   "cell_type": "markdown",
   "metadata": {},
   "source": [
    "  * Notice that instead of `os.environ` it's now `blahblah.environ`\n",
    "  * Changing the import name binding is useful when the library has a long name \n",
    "\n",
    "Example of shortening a long import name:"
   ]
  },
  {
   "cell_type": "code",
   "execution_count": null,
   "metadata": {},
   "outputs": [],
   "source": [
    "import cloudstorage as gcs"
   ]
  },
  {
   "cell_type": "markdown",
   "metadata": {},
   "source": [
    "  * When you import a module like `os` or `sys` all of the functions and variables in the module become available. \n",
    "  * They are all accessible via the name binding\n",
    "  * You can access imported names without a name binding if you ask for the name specifically"
   ]
  },
  {
   "cell_type": "code",
   "execution_count": null,
   "metadata": {},
   "outputs": [],
   "source": [
    "from os import environ\n",
    "environ['USER']'mikem'"
   ]
  },
  {
   "cell_type": "markdown",
   "metadata": {},
   "source": [
    "  * You've seen this `from` version of import before. \n",
    "  * Flask programs use the `from` syntax \n",
    "\n",
    "The `from` type is used to help readability:"
   ]
  },
  {
   "cell_type": "code",
   "execution_count": null,
   "metadata": {},
   "outputs": [],
   "source": [
    "from flask import Flask \n",
    "app = Flask(__name__)"
   ]
  },
  {
   "cell_type": "markdown",
   "metadata": {},
   "source": [
    "This is also valid:"
   ]
  },
  {
   "cell_type": "code",
   "execution_count": null,
   "metadata": {},
   "outputs": [],
   "source": [
    "import flask\n",
    "app = flask.Flask(__name__)"
   ]
  }
 ],
 "metadata": {
  "kernelspec": {
   "display_name": "Python 3",
   "language": "python",
   "name": "python3"
  },
  "language_info": {
   "codemirror_mode": {
    "name": "ipython",
    "version": 3
   },
   "file_extension": ".py",
   "mimetype": "text/x-python",
   "name": "python",
   "nbconvert_exporter": "python",
   "pygments_lexer": "ipython3",
   "version": "3.6.2"
  }
 },
 "nbformat": 4,
 "nbformat_minor": 2
}
