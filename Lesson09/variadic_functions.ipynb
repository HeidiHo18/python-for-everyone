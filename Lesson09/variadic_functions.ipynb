{
 "cells": [
  {
   "cell_type": "markdown",
   "metadata": {},
   "source": [
    "# Variadic Functions \n",
    "\n",
    "How does the print function work? "
   ]
  },
  {
   "cell_type": "code",
   "execution_count": null,
   "metadata": {},
   "outputs": [],
   "source": [
    "print ('One fish.')\n",
    "print ('One fish.', 'Two fish.')\n",
    "print ('One fish.', 'Two fish.', 'Red fish.')\n",
    "print ('One fish.', 'Two fish.', 'Red fish.', 'Blue fish.')"
   ]
  },
  {
   "cell_type": "markdown",
   "metadata": {},
   "source": [
    "The `print()` function takes *any number* of arguments. So far the functions we've seen only take a specified number of arguments and it's an error to give them more or less.\n",
    "\n",
    "Print is a *variadic* function. It's defined like this:"
   ]
  },
  {
   "cell_type": "code",
   "execution_count": null,
   "metadata": {},
   "outputs": [],
   "source": [
    "def my_print(*args):\n",
    "    for argument in args:\n",
    "        print (argument, end=' ')\n",
    "    print()\n",
    "\n",
    "my_print ('One fish.')\n",
    "my_print ('One fish.', 'Two fish.')\n",
    "my_print ('One fish.', 'Two fish.', 'Red fish.')\n",
    "my_print ('One fish.', 'Two fish.', 'Red fish.', 'Blue fish.')"
   ]
  },
  {
   "cell_type": "markdown",
   "metadata": {},
   "source": [
    "Variadic functions take an argument with a star `*` in front of them. The list takes the values passed in by the caller. \n",
    "\n",
    "It's possible to mix positional arguments with a variadic argument. "
   ]
  },
  {
   "cell_type": "code",
   "execution_count": null,
   "metadata": {},
   "outputs": [],
   "source": [
    "def my_print(starter, *args):\n",
    "    print (starter, end=': ')\n",
    "    for arg in args:\n",
    "        print (arg, end='')\n",
    "    print ()\n",
    "\n",
    "my_print('DANGER', 'Will Robinson')"
   ]
  },
  {
   "cell_type": "markdown",
   "metadata": {},
   "source": [
    "There are a couple of rules you must keep in mind with variadic functions.\n",
    "\n",
    "1. The starred argument must be after all positional arguments. \n",
    "2. You can only have one starred argument."
   ]
  }
 ],
 "metadata": {
  "kernelspec": {
   "display_name": "Python 3",
   "language": "python",
   "name": "python3"
  },
  "language_info": {
   "codemirror_mode": {
    "name": "ipython",
    "version": 3
   },
   "file_extension": ".py",
   "mimetype": "text/x-python",
   "name": "python",
   "nbconvert_exporter": "python",
   "pygments_lexer": "ipython3",
   "version": "3.6.2"
  }
 },
 "nbformat": 4,
 "nbformat_minor": 2
}
