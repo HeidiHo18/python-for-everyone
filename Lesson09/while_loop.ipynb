{
 "cells": [
  {
   "cell_type": "markdown",
   "metadata": {},
   "source": [
    "# The `while` Loop \n",
    "\n",
    "The `while` loop is known as the *indefinite* loop. You use it when you *can't know* how many times you need to go through the loop. The `while` loop continues looping while the *loop condidtion* is `True` and exits the loop when the condition is `False`. The `while` loop is less common than the `for` loop but still essential for most programs. \n",
    "\n",
    "Here's an example of a `while` loop."
   ]
  },
  {
   "cell_type": "code",
   "execution_count": null,
   "metadata": {},
   "outputs": [],
   "source": [
    "number = 42 \n",
    "guess = int(input('Pick a number between 1 and 100: '))\n",
    "while number != guess:\n",
    "    guess = int(input('Wrong! Guess again: '))\n",
    "print ('You got it!')"
   ]
  },
  {
   "cell_type": "markdown",
   "metadata": {},
   "source": [
    "There's no way to know how many guesses the user will make before they get the right answer. That's why you need to use a while loop in this case. \n",
    "\n",
    "While loops are often simpler when they're *infinite loops*. This seems counterintuitive but look at how an infinite loop changes the example code from above."
   ]
  },
  {
   "cell_type": "code",
   "execution_count": null,
   "metadata": {},
   "outputs": [],
   "source": [
    "number = 42 \n",
    "while True:\n",
    "    guess = int(input('Pick a number between 1 and 100: '))\n",
    "    if guess == number:\n",
    "        break\n",
    "print ('You got it!')"
   ]
  },
  {
   "cell_type": "markdown",
   "metadata": {},
   "source": [
    "The `break` statement breaks out of the current loop (a `for` or a `while` loop). You can also use the `return` statement when your code is inside of a function. \n",
    "\n",
    "Here's yet another example."
   ]
  },
  {
   "cell_type": "code",
   "execution_count": null,
   "metadata": {},
   "outputs": [],
   "source": [
    "def guess_a_number_game():\n",
    "    number = 42\n",
    "    while True:\n",
    "        guess = int(input('Pick a number between 1 and 100: '))\n",
    "        if guess == number:\n",
    "            print ('You got it!')\n",
    "            return \n",
    "        \n",
    "guess_a_number_game()"
   ]
  },
  {
   "cell_type": "markdown",
   "metadata": {},
   "source": [
    "## Practice \n",
    "\n",
    "Write some `while` loops to get the hang of it. \n",
    "\n",
    "### 1. Write a while loop that prints every element of the list until it reaches the \"STOP\" element."
   ]
  },
  {
   "cell_type": "code",
   "execution_count": null,
   "metadata": {},
   "outputs": [],
   "source": [
    "the_list = ['Hello', 'Foo', 'Bar', 'STOP', 'Bak', 'Baz']\n",
    "\n",
    "# Put your while loop here. "
   ]
  },
  {
   "cell_type": "markdown",
   "metadata": {},
   "source": [
    "### 2. Write a while loop that adds the numbers in the list and stops when they exceed 100"
   ]
  },
  {
   "cell_type": "code",
   "execution_count": null,
   "metadata": {},
   "outputs": [],
   "source": [
    "the_list = [2, 43, 24, 12, 49, 77, 22]\n",
    "\n",
    "# Put your while loop here. "
   ]
  },
  {
   "cell_type": "markdown",
   "metadata": {},
   "source": [
    "## Input Validation\n",
    "\n",
    "Users frequenty make mistakes when they are asked for input. Smart programs handle mistakes and do the right thing. Here's an example of a function that asks the user for an integer and guarantees that the input is correct. "
   ]
  },
  {
   "cell_type": "code",
   "execution_count": null,
   "metadata": {},
   "outputs": [],
   "source": [
    "def get_integer(lowest, highest):\n",
    "    while True: \n",
    "        try:\n",
    "            num = int(input(f'Enter an integer between {lowest} and {highest}: '))\n",
    "            if lowest <= num <= highest:\n",
    "                return num \n",
    "            else:\n",
    "                print (\"ERROR: That's outside of the valid range.\")\n",
    "        except:\n",
    "            print (\"ERROR: That's not a valid integer!\")\n",
    "\n",
    "foo = get_integer(1, 100)\n",
    "print (f'You entered {foo}')"
   ]
  },
  {
   "cell_type": "markdown",
   "metadata": {},
   "source": [
    "## Practice \n",
    "\n",
    "Use the `get_integer` function to get an integer that's between 1024 and 2048."
   ]
  },
  {
   "cell_type": "code",
   "execution_count": null,
   "metadata": {},
   "outputs": [],
   "source": []
  },
  {
   "cell_type": "markdown",
   "metadata": {},
   "source": [
    "## Game Programming \n",
    "\n",
    "An infinite loop is usually the heart of any game. Here's an example of a \"game\" that uses an infinite loop:"
   ]
  },
  {
   "cell_type": "code",
   "execution_count": null,
   "metadata": {},
   "outputs": [],
   "source": [
    "import random \n",
    "\n",
    "def dice_game(): \n",
    "    while True:\n",
    "        command = input('Type \"roll\" to roll the dice or \"quit\" to exit: ')\n",
    "        if command == 'roll': \n",
    "            die1 = random.randint(1, 6)\n",
    "            die2 = random.randint(1, 6)\n",
    "            if die1 == 1 and die2 == 1 : \n",
    "                print (\"The dice say snake eyes!\")\n",
    "            else:\n",
    "                print (f\"The dice say {die1} and {die2}\")\n",
    "        elif command == 'quit' :\n",
    "            return\n",
    "        \n",
    "dice_game()"
   ]
  }
 ],
 "metadata": {
  "kernelspec": {
   "display_name": "Python 3",
   "language": "python",
   "name": "python3"
  },
  "language_info": {
   "codemirror_mode": {
    "name": "ipython",
    "version": 3
   },
   "file_extension": ".py",
   "mimetype": "text/x-python",
   "name": "python",
   "nbconvert_exporter": "python",
   "pygments_lexer": "ipython3",
   "version": "3.6.2"
  }
 },
 "nbformat": 4,
 "nbformat_minor": 2
}