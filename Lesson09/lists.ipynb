{
 "cells": [
  {
   "cell_type": "markdown",
   "metadata": {},
   "source": [
    "# Lists \n",
    "\n",
    "So far the variables we've worked with hold a single item of data (one integer, one string, etc.) called *scalar* variables. A *list* in Python is a variable that can hold any number of items. The values are held *in order*. Think of my to-do list: \n",
    "\n",
    "1. Eat\n",
    "2. Sleep \n",
    "3. Program\n",
    "4. Repeat \n",
    "\n",
    "A list variable is a way to hold those data items together. "
   ]
  },
  {
   "cell_type": "code",
   "execution_count": null,
   "metadata": {},
   "outputs": [],
   "source": [
    "todo_list = [\"Eat\", \"Sleep\", \"Program\", \"Repeat\"]"
   ]
  },
  {
   "cell_type": "markdown",
   "metadata": {},
   "source": [
    "A list can have as many items as you like. "
   ]
  },
  {
   "cell_type": "code",
   "execution_count": null,
   "metadata": {},
   "outputs": [],
   "source": [
    "todo_list = [\"Eat\", \"Sleep\", \"Eat Again\", \"Eat More\", \"Nap\", \"Program\", \"Repeat\"]"
   ]
  },
  {
   "cell_type": "markdown",
   "metadata": {},
   "source": [
    "A list can have *no items* too."
   ]
  },
  {
   "cell_type": "code",
   "execution_count": null,
   "metadata": {},
   "outputs": [],
   "source": [
    "todo_list = [] "
   ]
  },
  {
   "cell_type": "markdown",
   "metadata": {},
   "source": [
    "My todo list is empty! \n",
    "\n",
    "Lists are they're own type in Python."
   ]
  },
  {
   "cell_type": "code",
   "execution_count": null,
   "metadata": {},
   "outputs": [],
   "source": [
    "todo_list = [\"Eat\", \"Sleep\", \"Program\", \"Repeat\"]\n",
    "print (type(todo_list))"
   ]
  },
  {
   "cell_type": "markdown",
   "metadata": {},
   "source": [
    "## Practice \n",
    "\n",
    "List creation. \n",
    "\n",
    "### 1. In the cell below create an empty list called `practice_list` "
   ]
  },
  {
   "cell_type": "code",
   "execution_count": null,
   "metadata": {},
   "outputs": [],
   "source": []
  },
  {
   "cell_type": "markdown",
   "metadata": {},
   "source": [
    "### 2. Create your own `todo_list` with three things you did today. "
   ]
  },
  {
   "cell_type": "code",
   "execution_count": null,
   "metadata": {},
   "outputs": [],
   "source": []
  },
  {
   "cell_type": "markdown",
   "metadata": {},
   "source": [
    "### 3. Print the contents of your `todo_list`"
   ]
  },
  {
   "cell_type": "code",
   "execution_count": null,
   "metadata": {},
   "outputs": [],
   "source": []
  },
  {
   "cell_type": "markdown",
   "metadata": {},
   "source": [
    "## Accessing List Elements\n",
    "\n",
    "A list variable gives you access to individual elements in the list. You can use elements just like any other variable using square brackets (`[` and `]`). "
   ]
  },
  {
   "cell_type": "code",
   "execution_count": null,
   "metadata": {},
   "outputs": [],
   "source": [
    "todo_list = [\"Eat\", \"Sleep\", \"Program\", \"Repeat\"]\n",
    "\n",
    "print ('First task  :', todo_list[0])\n",
    "print ('Second task :', todo_list[1])\n",
    "print ('Third task  :', todo_list[2])\n",
    "print ('Fourth task :', todo_list[3])"
   ]
  },
  {
   "cell_type": "markdown",
   "metadata": {},
   "source": [
    "You can assign list elements too. When you do the list is changed. "
   ]
  },
  {
   "cell_type": "code",
   "execution_count": null,
   "metadata": {},
   "outputs": [],
   "source": [
    "todo_list = [\"Eat\", \"Sleep\", \"Program\", \"Repeat\"]\n",
    "\n",
    "todo_list[0] = 'Wake up'\n",
    "\n",
    "print ('First task  :', todo_list[0])\n",
    "print ('Second task :', todo_list[1])\n",
    "print ('Third task  :', todo_list[2])\n",
    "print ('Fourth task :', todo_list[3])"
   ]
  },
  {
   "cell_type": "markdown",
   "metadata": {},
   "source": [
    "## Practice \n",
    "\n",
    "Print the third element of `todo_list`"
   ]
  },
  {
   "cell_type": "code",
   "execution_count": null,
   "metadata": {},
   "outputs": [],
   "source": []
  },
  {
   "cell_type": "markdown",
   "metadata": {},
   "source": [
    "## Adding and Removing Elements \n",
    "\n",
    "Lists can have any number of elements. You can add and remove elements using the `append()` function and the `del` operator. \n",
    "\n",
    "The `append()` function adds an item to the end of the list. \n"
   ]
  },
  {
   "cell_type": "code",
   "execution_count": null,
   "metadata": {},
   "outputs": [],
   "source": [
    "todo_list = []\n",
    "\n",
    "todo_list.append('Eat')\n",
    "print (todo_list) \n",
    "todo_list.append('Sleep')\n",
    "print (todo_list) \n",
    "todo_list.append('Program')\n",
    "print (todo_list) \n",
    "todo_list.append('Repeat')\n",
    "print (todo_list) "
   ]
  },
  {
   "cell_type": "markdown",
   "metadata": {},
   "source": [
    "The `del` operator deletes an element from the list. It works a little differently than `append()`. "
   ]
  },
  {
   "cell_type": "code",
   "execution_count": null,
   "metadata": {},
   "outputs": [],
   "source": [
    "todo_list = ['Eat', 'Sleep', 'Work', 'Repeat']\n",
    "\n",
    "del todo_list[2] \n",
    "print (todo_list)"
   ]
  },
  {
   "cell_type": "markdown",
   "metadata": {},
   "source": [
    "You can add a new list item at any place in the list (not just the end). When you do items behind the new item are shifted back. The `insert()` function inserts a new value. "
   ]
  },
  {
   "cell_type": "code",
   "execution_count": null,
   "metadata": {},
   "outputs": [],
   "source": [
    "todo_list = ['Eat', 'Repeat']\n",
    "\n",
    "todo_list.insert(1, \"Sleep\") # Sleep will now be in position 1 \n",
    "print (todo_list)\n",
    "\n",
    "todo_list.insert(2, \"Program\") # Sleep will now be in position 2 \n",
    "print (todo_list)"
   ]
  },
  {
   "cell_type": "markdown",
   "metadata": {},
   "source": [
    "You can delete an item by value instead of place using the `remove()` function. "
   ]
  },
  {
   "cell_type": "code",
   "execution_count": null,
   "metadata": {},
   "outputs": [],
   "source": [
    "todo_list = ['Eat', 'Sleep', 'Program', 'Repeat']\n",
    "\n",
    "todo_list.remove('Sleep')\n",
    "print (todo_list)"
   ]
  },
  {
   "cell_type": "markdown",
   "metadata": {},
   "source": [
    "You can delete the last element in the list using the `pop()` function. Think of `pop()` as the opposite of `append()`"
   ]
  },
  {
   "cell_type": "code",
   "execution_count": null,
   "metadata": {},
   "outputs": [],
   "source": [
    "todo_list = []\n",
    "\n",
    "print (todo_list)\n",
    "todo_list.append('Eat')\n",
    "print (todo_list)\n",
    "todo_list.append('Sleep')\n",
    "print (todo_list)\n",
    "todo_list.pop()\n",
    "print (todo_list)\n",
    "todo_list.pop()\n",
    "print (todo_list)"
   ]
  },
  {
   "cell_type": "markdown",
   "metadata": {},
   "source": [
    "You can delete *every* item in a list using the `clear()` function. "
   ]
  },
  {
   "cell_type": "code",
   "execution_count": null,
   "metadata": {},
   "outputs": [],
   "source": [
    "todo_list = ['Eat', 'Sleep', 'Program', 'Repeat']\n",
    "\n",
    "todo_list.clear()\n",
    "print (todo_list)"
   ]
  },
  {
   "cell_type": "markdown",
   "metadata": {},
   "source": [
    "## Practice\n",
    "\n",
    "### 1. Create a list with a name of your choice, initialize it with three values. "
   ]
  },
  {
   "cell_type": "code",
   "execution_count": null,
   "metadata": {},
   "outputs": [],
   "source": []
  },
  {
   "cell_type": "markdown",
   "metadata": {},
   "source": [
    "### 2. Add the value \"hello\" into position 2 of your list. "
   ]
  },
  {
   "cell_type": "code",
   "execution_count": null,
   "metadata": {},
   "outputs": [],
   "source": []
  },
  {
   "cell_type": "markdown",
   "metadata": {},
   "source": [
    "### 3. Remove the last element of your list. "
   ]
  },
  {
   "cell_type": "code",
   "execution_count": null,
   "metadata": {},
   "outputs": [],
   "source": []
  },
  {
   "cell_type": "markdown",
   "metadata": {},
   "source": [
    "### 4. Add the element \"foo\" to the front of your list"
   ]
  },
  {
   "cell_type": "code",
   "execution_count": null,
   "metadata": {},
   "outputs": [],
   "source": []
  },
  {
   "cell_type": "markdown",
   "metadata": {},
   "source": [
    "### 5. Remove the element \"hello\" from your list. "
   ]
  },
  {
   "cell_type": "code",
   "execution_count": null,
   "metadata": {},
   "outputs": [],
   "source": []
  },
  {
   "cell_type": "markdown",
   "metadata": {},
   "source": [
    "## Searching for Items\n",
    "\n",
    "You can ask Python to look for a particular value inside of a list with the `in` operator. The `in` operator returns `True` or `False`."
   ]
  },
  {
   "cell_type": "code",
   "execution_count": null,
   "metadata": {},
   "outputs": [],
   "source": [
    "todo_list = ['Eat', 'Sleep', 'Program', 'Repeat']\n",
    "\n",
    "print ('Work' in todo_list)\n",
    "if 'Work' not in todo_list: \n",
    "    print ('No work for me!')"
   ]
  },
  {
   "cell_type": "markdown",
   "metadata": {},
   "source": [
    "## List Length\n",
    "\n",
    "The `len` operator tells you the lenght of a list. You'll use it a lot! "
   ]
  },
  {
   "cell_type": "code",
   "execution_count": null,
   "metadata": {},
   "outputs": [],
   "source": [
    "todo_list = []\n",
    "\n",
    "print (len(todo_list))\n",
    "todo_list.append('Eat')\n",
    "print (len(todo_list))"
   ]
  },
  {
   "cell_type": "markdown",
   "metadata": {},
   "source": [
    "## Sorting \n",
    "\n",
    "Sorting things is boring. Computers are good at it and they never get bored. The `sort()` function sorts the itmes in a list. "
   ]
  },
  {
   "cell_type": "code",
   "execution_count": null,
   "metadata": {},
   "outputs": [],
   "source": [
    "todo_list = ['Eat', 'Sleep', 'Program', 'Repeat']\n",
    "\n",
    "todo_list.sort() \n",
    "print (todo_list)"
   ]
  },
  {
   "cell_type": "markdown",
   "metadata": {},
   "source": [
    "## String Functions of Lists\n",
    "\n",
    "Strings are a bit like a list. They're a list of characters. You can treat a string as a list with the `[]` operator. Eeach item is a letter. "
   ]
  },
  {
   "cell_type": "code",
   "execution_count": null,
   "metadata": {},
   "outputs": [],
   "source": [
    "message = \"Hello, my name is Mike.\"\n",
    "\n",
    "print (message[0])\n",
    "print (message[1])\n",
    "print (message[2])"
   ]
  },
  {
   "cell_type": "markdown",
   "metadata": {},
   "source": [
    "You can't re-assign letters in a string, however."
   ]
  },
  {
   "cell_type": "code",
   "execution_count": null,
   "metadata": {},
   "outputs": [],
   "source": [
    "message = \"Hello, my name is Mike.\"\n",
    "\n",
    "message[0] = 'X'"
   ]
  },
  {
   "cell_type": "markdown",
   "metadata": {},
   "source": [
    "You can split up the *words* in a string. The result is a list with a word in each element. Here's an example."
   ]
  },
  {
   "cell_type": "code",
   "execution_count": null,
   "metadata": {},
   "outputs": [],
   "source": [
    "message = \"Hello, my name is Mike.\"\n",
    "words = message.split()\n",
    "print(words)"
   ]
  },
  {
   "cell_type": "markdown",
   "metadata": {},
   "source": [
    "With no argument the `split()` function splits strings on whitespace (tabs, spaces and newlines). The behavior can be changed using an argument. The `join()` function does the opposite of split. Using the `join()` function looks litle funny. "
   ]
  },
  {
   "cell_type": "code",
   "execution_count": null,
   "metadata": {},
   "outputs": [],
   "source": [
    "words = ['To', 'be', 'or', 'not', 'to', 'be']\n",
    "message = ' '.join(words)\n",
    "print (message)"
   ]
  },
  {
   "cell_type": "markdown",
   "metadata": {},
   "source": [
    "Join is a function of strings, the string the preceeds the dot in join is the character that appears *between* list items. "
   ]
  },
  {
   "cell_type": "code",
   "execution_count": null,
   "metadata": {},
   "outputs": [],
   "source": [
    "words = ['To', 'be', 'or', 'not', 'to', 'be']\n",
    "message = '-X-'.join(words)\n",
    "print (message)"
   ]
  },
  {
   "cell_type": "markdown",
   "metadata": {},
   "source": [
    "## Errors\n",
    "\n",
    "When you access an element that's beyond the end of the list you get an `IndexError` exception. "
   ]
  },
  {
   "cell_type": "code",
   "execution_count": null,
   "metadata": {},
   "outputs": [],
   "source": [
    "todo_list = ['Eat', 'Sleep', 'Program', 'Repeat']\n",
    "\n",
    "print ('The fifth item is:', todo_list[4])"
   ]
  }
 ],
 "metadata": {
  "kernelspec": {
   "display_name": "Python 3",
   "language": "python",
   "name": "python3"
  },
  "language_info": {
   "codemirror_mode": {
    "name": "ipython",
    "version": 3
   },
   "file_extension": ".py",
   "mimetype": "text/x-python",
   "name": "python",
   "nbconvert_exporter": "python",
   "pygments_lexer": "ipython3",
   "version": "3.6.2"
  }
 },
 "nbformat": 4,
 "nbformat_minor": 2
}