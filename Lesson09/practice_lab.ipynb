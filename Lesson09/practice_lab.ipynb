{
 "cells": [
  {
   "cell_type": "markdown",
   "metadata": {},
   "source": [
    "# Practice Test for Lists and Loops\n",
    "\n",
    "This is a practice test to help solidify your understanding of Lessons 5 through 9. The test is not graded. "
   ]
  },
  {
   "cell_type": "markdown",
   "metadata": {},
   "source": [
    "Create a list called `my_list` that contains the following elements, in order:\n",
    "\n",
    "  - \"Hello\"\n",
    "  - 12.3\n",
    "  - \"World\"\n",
    "  - False"
   ]
  },
  {
   "cell_type": "code",
   "execution_count": null,
   "metadata": {},
   "outputs": [],
   "source": []
  },
  {
   "cell_type": "markdown",
   "metadata": {},
   "source": [
    "Use the `append()` function to create the same list as above."
   ]
  },
  {
   "cell_type": "code",
   "execution_count": null,
   "metadata": {},
   "outputs": [],
   "source": []
  },
  {
   "cell_type": "markdown",
   "metadata": {},
   "source": [
    "Write a `print()` statement that prints the third element of `my_list`"
   ]
  },
  {
   "cell_type": "code",
   "execution_count": null,
   "metadata": {},
   "outputs": [],
   "source": [
    "my_list = ['One', 'Two', 'Three', 'Four', 'Five', 'Six', 'Seven']\n",
    "\n",
    "# Put your code below this comment."
   ]
  },
  {
   "cell_type": "markdown",
   "metadata": {},
   "source": [
    "Change the fourth element of `my_list` to be your name."
   ]
  },
  {
   "cell_type": "code",
   "execution_count": null,
   "metadata": {},
   "outputs": [],
   "source": [
    "my_list = ['One', 'Two', 'Three', 'Four', 'Five', 'Six', 'Seven']\n",
    "\n",
    "# Put your code below this comment."
   ]
  },
  {
   "cell_type": "markdown",
   "metadata": {},
   "source": [
    "Insert the word \"Hello\" into the list below. The word should be in position 5. "
   ]
  },
  {
   "cell_type": "code",
   "execution_count": null,
   "metadata": {},
   "outputs": [],
   "source": [
    "my_list = ['One', 'Two', 'Three', 'Four', 'Five', 'Six', 'Seven']\n",
    "\n",
    "# Put your code below this comment."
   ]
  },
  {
   "cell_type": "markdown",
   "metadata": {},
   "source": [
    "Write a `for` loop that prints the elements of `my_list` in order."
   ]
  },
  {
   "cell_type": "code",
   "execution_count": null,
   "metadata": {},
   "outputs": [],
   "source": [
    "my_list = ['One', 'Two', 'Three', 'Four', 'Five', 'Six', 'Seven']\n",
    "\n",
    "# Put your code below this comment."
   ]
  },
  {
   "cell_type": "markdown",
   "metadata": {},
   "source": [
    "Write a statement that prints the number of elements in `my_list` (change the list around to make sure you statement always works)"
   ]
  },
  {
   "cell_type": "code",
   "execution_count": null,
   "metadata": {},
   "outputs": [],
   "source": [
    "my_list = ['One', 'Two', 'Three', 'Four', 'Five', 'Six', 'Seven']\n",
    "\n",
    "# Put your code below this comment."
   ]
  },
  {
   "cell_type": "markdown",
   "metadata": {},
   "source": [
    "Write a `for` loop that prints the numbers between 0 and 10."
   ]
  },
  {
   "cell_type": "code",
   "execution_count": null,
   "metadata": {},
   "outputs": [],
   "source": []
  },
  {
   "cell_type": "markdown",
   "metadata": {},
   "source": [
    "Write a `for` loop that prints the numbers between 90 and 99."
   ]
  },
  {
   "cell_type": "code",
   "execution_count": null,
   "metadata": {},
   "outputs": [],
   "source": []
  },
  {
   "cell_type": "markdown",
   "metadata": {},
   "source": [
    "Write a program that deletes the item 'Five' from the `my_list`"
   ]
  },
  {
   "cell_type": "code",
   "execution_count": null,
   "metadata": {},
   "outputs": [],
   "source": [
    "my_list = ['One', 'Two', 'Three', 'Four', 'Five', 'Six', 'Seven']\n",
    "\n",
    "# Put your code below this comment."
   ]
  },
  {
   "cell_type": "markdown",
   "metadata": {},
   "source": [
    "Write a program that deletes the second element of `my_list`"
   ]
  },
  {
   "cell_type": "code",
   "execution_count": null,
   "metadata": {},
   "outputs": [],
   "source": [
    "my_list = ['One', 'Two', 'Three', 'Four', 'Five', 'Six', 'Seven']\n",
    "\n",
    "# Put your code below this comment."
   ]
  },
  {
   "cell_type": "markdown",
   "metadata": {},
   "source": [
    "Write a `for` loop that prints the elements of `my_list` in **reverse** order."
   ]
  },
  {
   "cell_type": "code",
   "execution_count": null,
   "metadata": {},
   "outputs": [],
   "source": [
    "my_list = ['One', 'Two', 'Three', 'Four', 'Five', 'Six', 'Seven']\n",
    "\n",
    "# Put your code below this comment."
   ]
  },
  {
   "cell_type": "markdown",
   "metadata": {},
   "source": [
    "Write a `for` loop that prints the sum of all the elements in `my_list`"
   ]
  },
  {
   "cell_type": "code",
   "execution_count": null,
   "metadata": {},
   "outputs": [],
   "source": [
    "my_list = [1, 2, 3.4, 239, 43, 0x12, 0b1101, 4, 3]\n",
    "\n",
    "# Put your code below this comment."
   ]
  },
  {
   "cell_type": "markdown",
   "metadata": {},
   "source": [
    "Write a `for` loop that prints the **largest** element in `my_list`"
   ]
  },
  {
   "cell_type": "code",
   "execution_count": null,
   "metadata": {},
   "outputs": [],
   "source": [
    "my_list = [1, 2, 3.4, 239, 43, 0x12, 0b1101, 4, 3]\n",
    "\n",
    "# Put your code below this comment."
   ]
  },
  {
   "cell_type": "markdown",
   "metadata": {},
   "source": [
    "Write a for loop that prints the **smallest** element in my_list."
   ]
  },
  {
   "cell_type": "code",
   "execution_count": null,
   "metadata": {},
   "outputs": [],
   "source": [
    "my_list = [1, 2, 3.4, 239, 43, 0x12, 0b1101, 4, 3]\n",
    "\n",
    "# Put your code below this comment."
   ]
  },
  {
   "cell_type": "markdown",
   "metadata": {},
   "source": [
    "Write a `while` loop that uses the `input()` function to get an integer from the user. If the users's guess is too high print \"Too High\" if the user's guess is too low write \"Too Low\". Exit the `while` loop when the user guesses the correct number."
   ]
  },
  {
   "cell_type": "code",
   "execution_count": null,
   "metadata": {},
   "outputs": [],
   "source": [
    "import random \n",
    "number = random.randint(1,101)\n",
    "print (f'Guessing game! Guess a number between 1 and 100 (spoiler alert the nuber is {number})')\n",
    "\n",
    "# Put your code below this comment."
   ]
  }
 ],
 "metadata": {
  "kernelspec": {
   "display_name": "Python 3",
   "language": "python",
   "name": "python3"
  },
  "language_info": {
   "codemirror_mode": {
    "name": "ipython",
    "version": 3
   },
   "file_extension": ".py",
   "mimetype": "text/x-python",
   "name": "python",
   "nbconvert_exporter": "python",
   "pygments_lexer": "ipython3",
   "version": "3.6.2"
  }
 },
 "nbformat": 4,
 "nbformat_minor": 2
}
