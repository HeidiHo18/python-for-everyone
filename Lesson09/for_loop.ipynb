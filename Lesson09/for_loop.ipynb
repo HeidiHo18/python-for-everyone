{
 "cells": [
  {
   "cell_type": "markdown",
   "metadata": {},
   "source": [
    "# The `for` Loop \n",
    "\n",
    "In this lesson I introduce simple syntax with powerful applications. Earlier, you learned how to create and maniuplate lists. What if you wanted to run some code *for each* item in a list? To do that you need a `for` loop. \n",
    "\n",
    "Here's an example."
   ]
  },
  {
   "cell_type": "code",
   "execution_count": null,
   "metadata": {},
   "outputs": [],
   "source": [
    "animals = ['Lions', 'Tigers', 'Bears'] \n",
    "\n",
    "for item in animals: \n",
    "    print(item)\n",
    " \n",
    "print('Oh my!')"
   ]
  },
  {
   "cell_type": "markdown",
   "metadata": {},
   "source": [
    "Heres's what to notice: \n",
    "\n",
    "* The `print()` statement *inside* the for loop is run once for each item in the list \n",
    "* The items in the list are assigned to the variable `item` one by one \n",
    "\n",
    "Sometimes you want a for loop for counting. If you want to count using a for loop you need the `range()` function. \n",
    "\n",
    "Here's a `for` loop that counts:"
   ]
  },
  {
   "cell_type": "code",
   "execution_count": null,
   "metadata": {},
   "outputs": [],
   "source": [
    "for number in range(5):\n",
    "    print(number)"
   ]
  },
  {
   "cell_type": "markdown",
   "metadata": {},
   "source": [
    "The `range()` function doesn't have to start with zero (but it usually does). "
   ]
  },
  {
   "cell_type": "code",
   "execution_count": null,
   "metadata": {},
   "outputs": [],
   "source": [
    "for number in range(5,10):\n",
    "    print(number)"
   ]
  },
  {
   "cell_type": "markdown",
   "metadata": {},
   "source": [
    "Notice how `range()` begins with the first number but ends one short of the second number. Here's a `for` loop that you should understand. It goes through a list using numbers. To do this you need the `len()` operator. "
   ]
  },
  {
   "cell_type": "code",
   "execution_count": null,
   "metadata": {},
   "outputs": [],
   "source": [
    "animals = ['Lions', 'Tigers', 'Bears'] \n",
    "\n",
    "for index in range(len(animals)):\n",
    "    print(index, animals[index])"
   ]
  },
  {
   "cell_type": "markdown",
   "metadata": {},
   "source": [
    "The `range()` function and the `len()` operator work perfectly together, `range()` stops short of the last number and the last index of a list is one less than the number of elements. This is not a coincidence! \n",
    "\n",
    "You can get the best of both worlds using the `enumerate()` function. "
   ]
  },
  {
   "cell_type": "code",
   "execution_count": null,
   "metadata": {},
   "outputs": [],
   "source": [
    "animals = ['Lions', 'Tigers', 'Bears'] \n",
    "\n",
    "for index, item in enumerate(animals):\n",
    "    print(index, item)"
   ]
  },
  {
   "cell_type": "markdown",
   "metadata": {},
   "source": [
    "The `for` loop can *iterate* through more than lists. In Python many things are *iterable*, meaning you can step through elements one at a time. \n",
    "\n",
    "A string is iterable, you get each letter one at a time."
   ]
  },
  {
   "cell_type": "code",
   "execution_count": null,
   "metadata": {},
   "outputs": [],
   "source": [
    "message = \"Hello\"\n",
    "for letter in message:\n",
    "    print(letter)"
   ]
  },
  {
   "cell_type": "markdown",
   "metadata": {},
   "source": [
    "The lines in a file are iterable when you use the `readlines()` function. Here's a for loop that prints the lines in a file."
   ]
  },
  {
   "cell_type": "code",
   "execution_count": null,
   "metadata": {},
   "outputs": [],
   "source": [
    "f = open('example.txt')\n",
    "for line in f.readlines(): \n",
    "    print(line.strip())\n",
    "f.close()"
   ]
  },
  {
   "cell_type": "markdown",
   "metadata": {},
   "source": [
    "The `readlines` function is a very efficient way to read a big file because you don't have to read the whole file into memory. \n",
    "\n",
    "Here's an example of a function that tests to see if a word is in the dictionary:"
   ]
  },
  {
   "cell_type": "code",
   "execution_count": null,
   "metadata": {},
   "outputs": [],
   "source": [
    "def is_word(word) : \n",
    "    with open ('/usr/share/dict/words') as d : \n",
    "        for dict_word in d.readlines() : \n",
    "            if word == dict_word.strip() :\n",
    "                return True\n",
    "    return False\n",
    "\n",
    "print ('Is \"foo\" is a word?', is_word(\"foo\"))\n",
    "print ('Is \"garmanbozia\" is a word?', is_word(\"garmanbozia\"))"
   ]
  },
  {
   "cell_type": "markdown",
   "metadata": {},
   "source": [
    "### Practice \n",
    "\n",
    "#### 1. Write a for loop that prints every element of the `animals` list."
   ]
  },
  {
   "cell_type": "code",
   "execution_count": null,
   "metadata": {},
   "outputs": [],
   "source": []
  },
  {
   "cell_type": "markdown",
   "metadata": {},
   "source": [
    "#### 2. Write a for loop that prints every number from 0 to 10"
   ]
  },
  {
   "cell_type": "code",
   "execution_count": null,
   "metadata": {},
   "outputs": [],
   "source": []
  },
  {
   "cell_type": "markdown",
   "metadata": {},
   "source": [
    "#### 3. Write a for loop that prints every number from 5 to 10"
   ]
  },
  {
   "cell_type": "code",
   "execution_count": null,
   "metadata": {},
   "outputs": [],
   "source": []
  },
  {
   "cell_type": "markdown",
   "metadata": {},
   "source": [
    "#### 4. Write a for loop that prints every line of the file `example.txt` with line nubers."
   ]
  },
  {
   "cell_type": "code",
   "execution_count": null,
   "metadata": {},
   "outputs": [],
   "source": []
  },
  {
   "cell_type": "markdown",
   "metadata": {},
   "source": [
    "## List Comprehensions \n",
    "\n",
    "A *list comprehension* is a clever way to use a `for` loop in Python. \n",
    "\n",
    "  * Python has a cool syntax for applying an operation to all members of a list. \n",
    "  * The syntax is called a *list comprehension*.\n",
    "\n",
    "Example: Here's how you would strip whitespace from list elements using a for loop:"
   ]
  },
  {
   "cell_type": "code",
   "execution_count": null,
   "metadata": {},
   "outputs": [],
   "source": [
    "names = input('Input a list of names, separated by comma: ')\n",
    "name_list = names.split(',')\n",
    "\n",
    "for index, name in enumerate(name_list) :\n",
    "    name_list[index] = name.strip()"
   ]
  },
  {
   "cell_type": "markdown",
   "metadata": {},
   "source": [
    "A list comprehension gives you a simpler way that's almost as readable:"
   ]
  },
  {
   "cell_type": "code",
   "execution_count": null,
   "metadata": {},
   "outputs": [],
   "source": [
    "names = input('Input a list of names, separated by comma: ')\n",
    "name_list = names.split(',')\n",
    "\n",
    "name_list = [name.strip() for name in name_list]"
   ]
  },
  {
   "cell_type": "markdown",
   "metadata": {},
   "source": [
    "The form of the list comprehension is: \n",
    "\n",
    "[ *what-to-do-to-each-element* **for** *element-name* **in** *list-variable* ] \n",
    "\n",
    "  * List comprehensions should be used for simple cases (like stripping whitespace) \n",
    "  * You can only preform a single operation in a list comprehension. More would make them unreadable. "
   ]
  }
 ],
 "metadata": {
  "kernelspec": {
   "display_name": "Python 3",
   "language": "python",
   "name": "python3"
  },
  "language_info": {
   "codemirror_mode": {
    "name": "ipython",
    "version": 3
   },
   "file_extension": ".py",
   "mimetype": "text/x-python",
   "name": "python",
   "nbconvert_exporter": "python",
   "pygments_lexer": "ipython3",
   "version": "3.6.9"
  }
 },
 "nbformat": 4,
 "nbformat_minor": 4
}
