{
 "cells": [
  {
   "cell_type": "markdown",
   "metadata": {},
   "source": [
    "# Exception Handling \n",
    "\n",
    "An exception is an error that stops your program from running. You've seen exceptions before, they're what happens when, for example, you try to use a string in place of a number. \n",
    "\n",
    "Run this code to see the exception."
   ]
  },
  {
   "cell_type": "code",
   "execution_count": null,
   "metadata": {},
   "outputs": [],
   "source": [
    "int(\"one\")"
   ]
  },
  {
   "cell_type": "markdown",
   "metadata": {},
   "source": [
    "Exceptions are like variables, they have a type and a value. The type of the exception that is caused when you try to convert \"one\" is a `ValueError`. Python programs can *catch* exceptions and do something about them using a `try`/`except` construct. \n",
    "\n",
    "See what happens when you run this program. Test it by entering a number, then again by entering a word that's not a number. "
   ]
  },
  {
   "cell_type": "code",
   "execution_count": null,
   "metadata": {},
   "outputs": [],
   "source": [
    "try:\n",
    "  a = float(input('Type a number: '))\n",
    "  print (f\"You entered {a}\")\n",
    "except:\n",
    "  print (\"That's not a number!\")"
   ]
  },
  {
   "cell_type": "markdown",
   "metadata": {},
   "source": [
    "</callout>\n",
    "\n",
    "# Handling Errors: try, except, finally and raise \n",
    "\n",
    "  * We've used the `try`/`except` structure to //catch// errors \n",
    "  * Errors are //raised// when something goes wrong in a program. \n",
    "  * Python itself can raise an error when there's a problem in your program \n",
    "  * You can raise errors too.\n",
    "\n",
    "Here's a simple example that catches any error:"
   ]
  },
  {
   "cell_type": "code",
   "execution_count": null,
   "metadata": {},
   "outputs": [],
   "source": [
    "try: \n",
    "    foo = int('Hello') # Always an error\n",
    "except:\n",
    "    print ('There was an error!')"
   ]
  },
  {
   "cell_type": "markdown",
   "metadata": {},
   "source": [
    "You can't make an integer out of 'Hello' so there's an error. But what error? \n",
    "\n",
    "  * The except in the form above catches any error that's raised at it. \n",
    "  * But it doesn't let you know what the error is. \n",
    "  * If you want to see the error you have to name it."
   ]
  },
  {
   "cell_type": "code",
   "execution_count": null,
   "metadata": {},
   "outputs": [],
   "source": [
    "try: \n",
    "    foo = int('Hello') # Always an error\n",
    "except Exception as e:\n",
    "    print ('The error was:', e)"
   ]
  },
  {
   "cell_type": "markdown",
   "metadata": {},
   "source": [
    "When you execute this code you see this output:\n",
    "\n",
    "<code>\n",
    "The error was: invalid literal for int() with base 10: 'Hello'\n",
    "</code>\n",
    "\n",
    "  * The error has been stored in the variable `e`. \n",
    "  * The //type// of the variable is `Exception` \n",
    "    * Or is it?"
   ]
  },
  {
   "cell_type": "code",
   "execution_count": null,
   "metadata": {},
   "outputs": [],
   "source": [
    "try: \n",
    "    foo = int('Hello') # Always an error\n",
    "except Exception as e:\n",
    "    print ('The error was:', e)\n",
    "    print ('The type of the error is:', type(e))"
   ]
  },
  {
   "cell_type": "markdown",
   "metadata": {},
   "source": [
    "The code above produces this error: \n",
    "\n",
    "<code>\n",
    "The error was: invalid literal for int() with base 10: 'Hello'\n",
    "The type of the error is: <class 'ValueError'>\n",
    "</code>\n",
    "\n",
    "  * The type `ValueError` is a //subclass// of `Exception` \n",
    "  * We'll discuss classes and subclasses later in the course \n",
    "  * You can take advantage of the type of the error with multiple `except` statements. \n",
    "  * Each `except` specifies what type of error you want to handle."
   ]
  },
  {
   "cell_type": "code",
   "execution_count": null,
   "metadata": {},
   "outputs": [],
   "source": [
    "try: \n",
    "    foo = int('Hello') # Always an error\n",
    "except ValueError as e: \n",
    "    print ('There is a ValueError:', e)\n",
    "except Exception as e:\n",
    "    print ('There is some other error:', e)\n",
    "    print ('The type of the error is:', type(e))"
   ]
  },
  {
   "cell_type": "markdown",
   "metadata": {},
   "source": [
    "This specifies what to do when a `ValueError` happens. All other errors will be handled differently. Here's the output:\n",
    "\n",
    "<code>\n",
    "There is a ValueError: invalid literal for int() with base 10: 'Hello'\n",
    "</code>\n",
    " \n",
    "<callout type=\"danger\">\n",
    "## Order of Except Matters! \n",
    "\n",
    "  * Every `ValueError` is an `Exception` \n",
    "  * But not ever `Exception` is a `ValueError`. \n",
    "  * The except statements are traversed in order. \n",
    "\n",
    "This is an error:"
   ]
  },
  {
   "cell_type": "code",
   "execution_count": null,
   "metadata": {},
   "outputs": [],
   "source": [
    "try: \n",
    "    foo = int('Hello') # Always an error\n",
    "except Exception as e:\n",
    "    # ValueErrors are Exceptions... \n",
    "    print ('There is some other error:', e)\n",
    "    print ('The type of the error is:', type(e))\n",
    "except ValueError as e: \n",
    "    # This will never run...\n",
    "    print ('There is a ValueError:', e)"
   ]
  },
  {
   "cell_type": "markdown",
   "metadata": {},
   "source": [
    "Luckily, Cloud9 IDE detects this error. \n",
    "</callout>\n",
    "\n",
    "# Throwing Exceptions \n",
    "\n",
    "  * You can raise an exception with the `raise` statement. \n",
    "  * It's useful when the code that detects the error doesn't know how to recover from the error."
   ]
  },
  {
   "cell_type": "code",
   "execution_count": null,
   "metadata": {},
   "outputs": [],
   "source": [
    "try: \n",
    "    if number < 5 : \n",
    "        raise ValueError('Oh no! The number is less than 5')\n",
    "except ValueError as e: \n",
    "    print ('There is a ValueError:', e)"
   ]
  },
  {
   "cell_type": "markdown",
   "metadata": {},
   "source": [
    "  * If the number is less than 5 the error is raised. \n",
    "  * Otherwise the code runs normally. \n",
    "  * Most of the time the `raise` statement is not near the `except` statement \n",
    "  * Exceptions allow flexibility in where you handle errors. \n",
    "\n",
    "Here's an example of a more typical way to raise and handle exceptions:"
   ]
  },
  {
   "cell_type": "code",
   "execution_count": null,
   "metadata": {},
   "outputs": [],
   "source": [
    "def test_number(number) :\n",
    "    if number < 5 : \n",
    "        raise ValueError('Oh no! The number is less than 5')\n",
    "\n",
    "try: \n",
    "    test_number(number)\n",
    "    print ('The number is correct!')\n",
    "except ValueError as e: \n",
    "    print ('Bad Number:', e)"
   ]
  },
  {
   "cell_type": "markdown",
   "metadata": {},
   "source": [
    "  * The `raise` statement causes the stack to //unwind// \n",
    "  * In the example above the caller is notified, but\n",
    "    * If the caller doesn't catch the error the caller of the caller gets a chance \n",
    "    * If the error reaches the top level Python prints the exception and exits. \n",
    "\n",
    "# Finally! \n",
    "\n",
    "  * Exceptions can cause a lot of code to be skipped. \n",
    "  * They can terminate a function in its tracks. \n",
    "  * Sometimes you need to make sure that cleanup happens even when an exception occurs. \n",
    "  * Statements inside of a `finally` statement happen no matter what. \n",
    "\n",
    "Here's an example of using `finally` to close a file in the event of an error:"
   ]
  },
  {
   "cell_type": "code",
   "execution_count": null,
   "metadata": {},
   "outputs": [],
   "source": [
    "f = open('input.txt')\n",
    "try : \n",
    "    number = int(f.readline()) # Will fail if the input is not a number. \n",
    "except ValueError as e : \n",
    "    print ('Ooops!', e)\n",
    "finally:\n",
    "    # No matter how we leave try this will happen.\n",
    "    f.close()"
   ]
  }
 ],
 "metadata": {
  "kernelspec": {
   "display_name": "Python 3",
   "language": "python",
   "name": "python3"
  },
  "language_info": {
   "codemirror_mode": {
    "name": "ipython",
    "version": 3
   },
   "file_extension": ".py",
   "mimetype": "text/x-python",
   "name": "python",
   "nbconvert_exporter": "python",
   "pygments_lexer": "ipython3",
   "version": "3.6.2"
  }
 },
 "nbformat": 4,
 "nbformat_minor": 2
}
